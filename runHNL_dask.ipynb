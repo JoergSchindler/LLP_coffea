{
 "cells": [
  {
   "cell_type": "code",
   "execution_count": 1,
   "id": "e9cbd052",
   "metadata": {},
   "outputs": [],
   "source": [
    "import sys\n",
    "\n",
    "from coffea import hist, processor\n",
    "import coffea\n",
    "import pickle,glob\n",
    "\n",
    "import numpy as np\n",
    "import matplotlib.pyplot as plt\n",
    "import mplhep as hep\n",
    "import awkward as ak\n"
   ]
  },
  {
   "cell_type": "code",
   "execution_count": 4,
   "id": "33c0d70b-c412-4651-a7a0-daca7443d18f",
   "metadata": {},
   "outputs": [],
   "source": [
    "from HNLprocessor.HNLproc_3 import MyProcessor"
   ]
  },
  {
   "cell_type": "markdown",
   "id": "a4e50e33-185a-42b7-b1ce-b25a78d631ea",
   "metadata": {},
   "source": [
    "## Local test"
   ]
  },
  {
   "cell_type": "code",
   "execution_count": 8,
   "id": "cddaa3ac-c5ad-468d-9c62-5685d8bdaf55",
   "metadata": {},
   "outputs": [
    {
     "data": {
      "application/vnd.jupyter.widget-view+json": {
       "model_id": "19863cb8ed35450494cab6cbbe6c1815",
       "version_major": 2,
       "version_minor": 0
      },
      "text/plain": [
       "Processing:   0%|          | 0/2 [00:00<?, ?chunk/s]"
      ]
     },
     "metadata": {},
     "output_type": "display_data"
    }
   ],
   "source": [
    "# Local test\n",
    "out_all = processor.run_uproot_job(\n",
    "    \"./test.json\",\n",
    "    treename=\"MuonSystem\",\n",
    "    processor_instance=MyProcessor(),\n",
    "    executor= processor.iterative_executor,\n",
    "    executor_args={\n",
    "        \"schema\": None,\n",
    "    },\n",
    "    # maxchunks=1,\n",
    "    # chunksize=1000\n",
    ")"
   ]
  },
  {
   "cell_type": "markdown",
   "id": "610793dd-97ac-444f-a738-ef41f95aa648",
   "metadata": {},
   "source": [
    "## Scale out to dask-client"
   ]
  },
  {
   "cell_type": "code",
   "execution_count": 23,
   "id": "75d73bc4-7e57-4e23-9856-c9e3bde1499d",
   "metadata": {},
   "outputs": [
    {
     "data": {
      "text/html": [
       "<div>\n",
       "    <div style=\"width: 24px; height: 24px; background-color: #e1e1e1; border: 3px solid #9D9D9D; border-radius: 5px; position: absolute;\"> </div>\n",
       "    <div style=\"margin-left: 48px;\">\n",
       "        <h3 style=\"margin-bottom: 0px;\">Client</h3>\n",
       "        <p style=\"color: #9D9D9D; margin-bottom: 0px;\">Client-de7b4166-77e2-11ec-81f5-2620cfcdc41f</p>\n",
       "        <table style=\"width: 100%; text-align: left;\">\n",
       "\n",
       "        <tr>\n",
       "        \n",
       "            <td style=\"text-align: left;\"><strong>Connection method:</strong> Direct</td>\n",
       "            <td style=\"text-align: left;\"></td>\n",
       "        \n",
       "        </tr>\n",
       "\n",
       "        \n",
       "            <tr>\n",
       "                <td style=\"text-align: left;\">\n",
       "                    <strong>Dashboard: </strong> <a href=\"/user/martin.kwok@cern.ch/proxy/8787/status\" target=\"_blank\">/user/martin.kwok@cern.ch/proxy/8787/status</a>\n",
       "                </td>\n",
       "                <td style=\"text-align: left;\"></td>\n",
       "            </tr>\n",
       "        \n",
       "\n",
       "        </table>\n",
       "\n",
       "        \n",
       "            <details>\n",
       "            <summary style=\"margin-bottom: 20px;\"><h3 style=\"display: inline;\">Scheduler Info</h3></summary>\n",
       "            <div style=\"\">\n",
       "    <div>\n",
       "        <div style=\"width: 24px; height: 24px; background-color: #FFF7E5; border: 3px solid #FF6132; border-radius: 5px; position: absolute;\"> </div>\n",
       "        <div style=\"margin-left: 48px;\">\n",
       "            <h3 style=\"margin-bottom: 0px;\">Scheduler</h3>\n",
       "            <p style=\"color: #9D9D9D; margin-bottom: 0px;\">Scheduler-7bc578c3-6953-4c87-89b6-85f7496bebf9</p>\n",
       "            <table style=\"width: 100%; text-align: left;\">\n",
       "                <tr>\n",
       "                    <td style=\"text-align: left;\">\n",
       "                        <strong>Comm:</strong> tls://192.168.241.209:8786\n",
       "                    </td>\n",
       "                    <td style=\"text-align: left;\">\n",
       "                        <strong>Workers:</strong> 1\n",
       "                    </td>\n",
       "                </tr>\n",
       "                <tr>\n",
       "                    <td style=\"text-align: left;\">\n",
       "                        <strong>Dashboard:</strong> <a href=\"/user/martin.kwok@cern.ch/proxy/8787/status\" target=\"_blank\">/user/martin.kwok@cern.ch/proxy/8787/status</a>\n",
       "                    </td>\n",
       "                    <td style=\"text-align: left;\">\n",
       "                        <strong>Total threads:</strong> 2\n",
       "                    </td>\n",
       "                </tr>\n",
       "                <tr>\n",
       "                    <td style=\"text-align: left;\">\n",
       "                        <strong>Started:</strong> 58 minutes ago\n",
       "                    </td>\n",
       "                    <td style=\"text-align: left;\">\n",
       "                        <strong>Total memory:</strong> 7.00 GiB\n",
       "                    </td>\n",
       "                </tr>\n",
       "            </table>\n",
       "        </div>\n",
       "    </div>\n",
       "\n",
       "    <details style=\"margin-left: 48px;\">\n",
       "        <summary style=\"margin-bottom: 20px;\">\n",
       "            <h3 style=\"display: inline;\">Workers</h3>\n",
       "        </summary>\n",
       "\n",
       "        \n",
       "        <div style=\"margin-bottom: 20px;\">\n",
       "            <div style=\"width: 24px; height: 24px; background-color: #DBF5FF; border: 3px solid #4CC9FF; border-radius: 5px; position: absolute;\"> </div>\n",
       "            <div style=\"margin-left: 48px;\">\n",
       "            <details>\n",
       "                <summary>\n",
       "                    <h4 style=\"margin-bottom: 0px; display: inline;\">Worker: kubernetes-worker-c7a2f565-176a-473d-9003-5c917ba42ba8</h4>\n",
       "                </summary>\n",
       "                <table style=\"width: 100%; text-align: left;\">\n",
       "                    <tr>\n",
       "                        <td style=\"text-align: left;\">\n",
       "                            <strong>Comm: </strong> tls://martin-2ekwok-40cern-2ech.dask-worker.coffea.casa:8788\n",
       "                        </td>\n",
       "                        <td style=\"text-align: left;\">\n",
       "                            <strong>Total threads: </strong> 2\n",
       "                        </td>\n",
       "                    </tr>\n",
       "                    <tr>\n",
       "                        <td style=\"text-align: left;\">\n",
       "                            <strong>Dashboard: </strong> <a href=\"/user/martin.kwok@cern.ch/proxy/40702/status\" target=\"_blank\">/user/martin.kwok@cern.ch/proxy/40702/status</a>\n",
       "                        </td>\n",
       "                        <td style=\"text-align: left;\">\n",
       "                            <strong>Memory: </strong> 7.00 GiB\n",
       "                        </td>\n",
       "                    </tr>\n",
       "                    <tr>\n",
       "                        <td style=\"text-align: left;\">\n",
       "                            <strong>Nanny: </strong> tls://192.168.241.209:42082\n",
       "                        </td>\n",
       "                        <td style=\"text-align: left;\"></td>\n",
       "                    </tr>\n",
       "                    <tr>\n",
       "                        <td colspan=\"2\" style=\"text-align: left;\">\n",
       "                            <strong>Local directory: </strong> /home/cms-jovyan/dask-worker-space/worker-xdq5w8y5\n",
       "                        </td>\n",
       "                    </tr>\n",
       "\n",
       "                    \n",
       "\n",
       "                    \n",
       "                    <tr>\n",
       "                        <td style=\"text-align: left;\">\n",
       "                            <strong>Tasks executing: </strong> 0\n",
       "                        </td>\n",
       "                        <td style=\"text-align: left;\">\n",
       "                            <strong>Tasks in memory: </strong> 1\n",
       "                        </td>\n",
       "                    </tr>\n",
       "                    <tr>\n",
       "                        <td style=\"text-align: left;\">\n",
       "                            <strong>Tasks ready: </strong> 0\n",
       "                        </td>\n",
       "                        <td style=\"text-align: left;\">\n",
       "                            <strong>Tasks in flight: </strong>0\n",
       "                        </td>\n",
       "                    </tr>\n",
       "                    <tr>\n",
       "                        <td style=\"text-align: left;\">\n",
       "                            <strong>CPU usage:</strong> 4.0%\n",
       "                        </td>\n",
       "                        <td style=\"text-align: left;\">\n",
       "                            <strong>Last seen: </strong> Just now\n",
       "                        </td>\n",
       "                    </tr>\n",
       "                    <tr>\n",
       "                        <td style=\"text-align: left;\">\n",
       "                            <strong>Memory usage: </strong> 471.29 MiB\n",
       "                        </td>\n",
       "                        <td style=\"text-align: left;\">\n",
       "                            <strong>Spilled bytes: </strong> 0 B\n",
       "                        </td>\n",
       "                    </tr>\n",
       "                    <tr>\n",
       "                        <td style=\"text-align: left;\">\n",
       "                            <strong>Read bytes: </strong> 16.67 kiB\n",
       "                        </td>\n",
       "                        <td style=\"text-align: left;\">\n",
       "                            <strong>Write bytes: </strong> 23.75 kiB\n",
       "                        </td>\n",
       "                    </tr>\n",
       "                    \n",
       "\n",
       "                </table>\n",
       "            </details>\n",
       "            </div>\n",
       "        </div>\n",
       "        \n",
       "\n",
       "    </details>\n",
       "</div>\n",
       "            </details>\n",
       "        \n",
       "\n",
       "    </div>\n",
       "</div>"
      ],
      "text/plain": [
       "<Client: 'tls://192.168.241.209:8786' processes=1 threads=2, memory=7.00 GiB>"
      ]
     },
     "execution_count": 23,
     "metadata": {},
     "output_type": "execute_result"
    }
   ],
   "source": [
    "from dask.distributed import Client\n",
    "\n",
    "client = Client(\"tls://martin-2ekwok-40cern-2ech.dask.coffea.casa:8786\")\n",
    "client"
   ]
  },
  {
   "cell_type": "code",
   "execution_count": 21,
   "id": "674aeb21",
   "metadata": {},
   "outputs": [
    {
     "name": "stdout",
     "output_type": "stream",
     "text": [
      "[########################################] | 100% Completed |  6.3s\r"
     ]
    },
    {
     "name": "stderr",
     "output_type": "stream",
     "text": [
      "/home/cms-jovyan/LLP_coffea/HNLprocessor/HNLproc_3.py:600: RuntimeWarning: Missing cross section for dataset Muon_2018D.  No normalization applied. \n",
      "  warnings.warn(\"Missing cross section for dataset %s.  No normalization applied. \" % dataset, RuntimeWarning)\n"
     ]
    }
   ],
   "source": [
    "from HNLprocessor.HNLproc_3 import MyProcessor\n",
    "\n",
    "\n",
    "out_all = processor.run_uproot_job(\n",
    "    \"./test.json\",\n",
    "    treename=\"MuonSystem\",\n",
    "    processor_instance=MyProcessor(),\n",
    "    executor=processor.dask_executor,    \n",
    "    executor_args={\n",
    "        \"schema\": None,\n",
    "        \"client\": client,\n",
    "    },\n",
    "    # maxchunks=1,\n",
    "    # chunksize=1000\n",
    ")"
   ]
  },
  {
   "cell_type": "code",
   "execution_count": 25,
   "id": "f0f91a14-cf48-4eec-b24a-cd869a38b235",
   "metadata": {},
   "outputs": [
    {
     "data": {
      "text/plain": [
       "{'sumw': defaultdict_accumulator(float, {'Muon_2018D': 211744.0}),\n",
       " 'nCluster': <Hist (dataset,region,nCluster,cutFlow) instance at 0x7efee471dd00>,\n",
       " 'nCluster_n-1': <Hist (dataset,nCluster,Nminus1) instance at 0x7eff63cf0550>,\n",
       " 'accept': <Hist (dataset,gLLP_csc,gLLP_dt) instance at 0x7eff63bfd100>,\n",
       " 'ClusterSize': <Hist (dataset,region,ClusterSize) instance at 0x7eff63bfd520>,\n",
       " 'ClusterTime': <Hist (dataset,region,ClusterTime) instance at 0x7eff63bfd8e0>,\n",
       " 'dphi_cluster_ele': <Hist (dataset,region,ClusterSize,dphi_ele,dphi_MET) instance at 0x7eff63b54a90>,\n",
       " 'dphi_cluster_mu': <Hist (dataset,region,ClusterSize,dphi_mu,dphi_MET) instance at 0x7eff63b54430>,\n",
       " 'ClusterID': <Hist (dataset,region,NStation,AvgStation,ClusterEta) instance at 0x7eff63b54d60>,\n",
       " 'nLeptons': <Hist (dataset,nLeptons) instance at 0x7eff63b543a0>,\n",
       " 'elePt': <Hist (dataset,elePt) instance at 0x7efee4088fd0>,\n",
       " 'eleEta': <Hist (dataset,eleEta) instance at 0x7efee40887f0>,\n",
       " 'muPt': <Hist (dataset,muPt) instance at 0x7efee4088c70>,\n",
       " 'muEta': <Hist (dataset,muEta) instance at 0x7efee40886a0>,\n",
       " 'nJets': <Hist (dataset,nJets) instance at 0x7efee40884c0>,\n",
       " 'jetPt': <Hist (dataset,region,jetPt) instance at 0x7efee40880d0>,\n",
       " 'jetMet_dPhi': <Hist (dataset,jetMet_dPhi) instance at 0x7efee4088460>,\n",
       " 'metXYCorr': <Hist (dataset,region,metXYCorr) instance at 0x7efee4075580>,\n",
       " 'MT': <Hist (dataset,region,MT) instance at 0x7efee4075a30>,\n",
       " 'nPU': <Hist (dataset,nPU) instance at 0x7efee4075f10>,\n",
       " 'nPU_noweight': <Hist (dataset,nPU) instance at 0x7efee4075b20>,\n",
       " 'gWPt': <Hist (dataset,gWPt) instance at 0x7efee4075730>,\n",
       " 'gWPt_noweight': <Hist (dataset,gWPt) instance at 0x7efee4075340>,\n",
       " 'glepdPhi': <Hist (dataset,gLLP_lepdPhi) instance at 0x7efee40af850>,\n",
       " 'gLepPt': <Hist (dataset,gLepPt) instance at 0x7efee40afb50>,\n",
       " 'gLLP_e': <Hist (dataset,gLLP_e) instance at 0x7efee40af7f0>,\n",
       " 'gLLP_pt': <Hist (dataset,gLLP_pt) instance at 0x7efee40af940>,\n",
       " 'gLLP_eta': <Hist (dataset,gLLP_eta) instance at 0x7efee40afca0>}"
      ]
     },
     "execution_count": 25,
     "metadata": {},
     "output_type": "execute_result"
    }
   ],
   "source": [
    "out_all"
   ]
  },
  {
   "cell_type": "code",
   "execution_count": null,
   "id": "c0230a86-2d08-4dae-960f-9509fcc9fa6a",
   "metadata": {},
   "outputs": [],
   "source": [
    "outf = \"HNL_histograms.pickle\"\n",
    "\n",
    "with open(outf,'wb') as f:\n",
    "    pickle.dump(hists,f)"
   ]
  },
  {
   "cell_type": "code",
   "execution_count": null,
   "id": "6bc0c63d",
   "metadata": {},
   "outputs": [],
   "source": []
  }
 ],
 "metadata": {
  "kernelspec": {
   "display_name": "Python 3 (ipykernel)",
   "language": "python",
   "name": "python3"
  },
  "language_info": {
   "codemirror_mode": {
    "name": "ipython",
    "version": 3
   },
   "file_extension": ".py",
   "mimetype": "text/x-python",
   "name": "python",
   "nbconvert_exporter": "python",
   "pygments_lexer": "ipython3",
   "version": "3.8.12"
  }
 },
 "nbformat": 4,
 "nbformat_minor": 5
}
