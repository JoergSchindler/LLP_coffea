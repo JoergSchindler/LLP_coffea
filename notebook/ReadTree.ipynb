{
 "cells": [
  {
   "cell_type": "code",
   "execution_count": 1,
   "metadata": {},
   "outputs": [],
   "source": [
    "#import ROOT as r\n",
    "import coffea\n",
    "import coffea.hist as hist\n",
    "from coffea.nanoevents.methods import vector\n",
    "import uproot\n",
    "import matplotlib.pyplot as plt\n",
    "import mplhep as hep\n",
    "import numpy as np\n",
    "\n",
    "from pyjet import cluster\n",
    "import awkward as ak"
   ]
  },
  {
   "cell_type": "code",
   "execution_count": 2,
   "metadata": {},
   "outputs": [],
   "source": [
    "def getLZDF(f,nEvents=-1):\n",
    "    events_raw = uproot.open(f)['MuonSystem']\n",
    "    df = coffea.processor.LazyDataFrame(events_raw,entrystop=nEvents)\n",
    "    start,stop = df._branchargs['entry_start'],df._branchargs['entry_stop']\n",
    "    events = uproot.lazy(df._tree)\n",
    "    events = events[start:stop]\n",
    "    return events"
   ]
  },
  {
   "cell_type": "code",
   "execution_count": null,
   "metadata": {},
   "outputs": [],
   "source": [
    "events_1 = getLZDF(\"/uscms/home/kkwok/lpclonglived/HNL/HNL_electronType_mHNL10p0_pl100/HeavyNeutralLepton_Tree_0.root\")\n",
    "events_2 = getLZDF(\"/uscms/home/kkwok/lpclonglived/HNL/HNL_electronType_mHNL7p0_pl100/HeavyNeutralLepton_Tree_0.root\")\n",
    "t_m10_ct1000 = getLZDF(\"/uscms/home/kkwok/lpclonglived/HNL/HNL_electronType_mHNL7p0_pl100/HeavyNeutralLepton_Tree_0.root\")"
   ]
  },
  {
   "cell_type": "code",
   "execution_count": null,
   "metadata": {},
   "outputs": [],
   "source": [
    "acc10 = ak.sum(ak.firsts(events_1.gLLP_csc))/len(events_1)\n",
    "acc7 = ak.sum(ak.firsts(events_2.gLLP_csc))/len(events_2)"
   ]
  },
  {
   "cell_type": "code",
   "execution_count": null,
   "metadata": {},
   "outputs": [],
   "source": [
    "acc10"
   ]
  },
  {
   "cell_type": "code",
   "execution_count": null,
   "metadata": {},
   "outputs": [],
   "source": [
    "hep.set_style(hep.style.CMS)"
   ]
  },
  {
   "cell_type": "code",
   "execution_count": null,
   "metadata": {},
   "outputs": [],
   "source": [
    "h = hist.Hist(\"Count\",\n",
    "             hist.Cat(\"sample\",\"sample\"),\n",
    "             hist.Bin(\"ctau\",\"catu[mm]\",100,0,100))\n",
    "h2 = hist.Hist(\"Count\",\n",
    "             hist.Cat(\"sample\",\"sample\"),\n",
    "             hist.Bin(\"r\",\"r[mm]\",100,0,500))\n",
    "\n",
    "fig, axs = plt.subplots(1,2,figsize=(16,6))\n",
    "\n",
    "axs = axs.flatten()\n",
    "\n",
    "h.fill(sample=\"10GeV,ct=100mm\",ctau=np.array(ak.firsts(events_1.gLLP_ctau)))\n",
    "h.fill(sample=\"7GeV,ct=100mm\",ctau=np.array(ak.firsts(events_2.gLLP_ctau)))\n",
    "h2.fill(sample=\"10GeV,ct=100mm\",r=np.array(ak.firsts(events_1.gLLP_decay_vertex_r)))\n",
    "h2.fill(sample=\"7GeV,ct=100mm\",r=np.array(ak.firsts(events_2.gLLP_decay_vertex_r)))\n",
    "hist.plot1d(h,ax = axs[0],density=True)\n",
    "hist.plot1d(h2,ax = axs[1],density=True)\n",
    "axs[0].set_ylim(1e-6,1)\n",
    "axs[0].set_yscale(\"log\")\n",
    "axs[1].set_ylim(1e-6,1)\n",
    "axs[1].set_yscale(\"log\")"
   ]
  },
  {
   "cell_type": "code",
   "execution_count": null,
   "metadata": {},
   "outputs": [],
   "source": [
    "h.integrate(\"sample\",\"10GeV,ct=100mm\")"
   ]
  },
  {
   "cell_type": "code",
   "execution_count": null,
   "metadata": {},
   "outputs": [],
   "source": [
    "import uproot3"
   ]
  },
  {
   "cell_type": "code",
   "execution_count": null,
   "metadata": {},
   "outputs": [],
   "source": [
    "fout = uproot3.recreate(\"ctau.root\")\n",
    "fout[\"m_10_ct100_ctau\"] = hist.export1d(h.integrate(\"sample\",\"10GeV,ct=100mm\"))\n",
    "fout[\"m_7_ct100_ctau\"] = hist.export1d(h.integrate(\"sample\",\"7GeV,ct=100mm\"))"
   ]
  },
  {
   "cell_type": "code",
   "execution_count": 3,
   "metadata": {},
   "outputs": [],
   "source": [
    "events_1 = getLZDF(\"root://cmsxrootd.fnal.gov//store/user/lpclonglived/HNL/skim/HNL_muonType_mHNL1p0_pl100/HeavyNeutralLepton_Tree_0.root\")"
   ]
  },
  {
   "cell_type": "code",
   "execution_count": 4,
   "metadata": {},
   "outputs": [],
   "source": [
    "events=events_1\n",
    "llp=ak.zip({\n",
    "            'pt':events.gLLP_pt,\n",
    "            #'EMfrac':events.gLLP_EMFracE,\n",
    "            'e':events.gLLP_e,\n",
    "            'eta':events.gLLP_eta,\n",
    "            'z':events.gLLP_decay_vertex_z ,\n",
    "            'r':events.gLLP_decay_vertex_r,\n",
    "            'ctau':events.gLLP_ctau,\n",
    "        })\n",
    "\n",
    "lep=ak.zip({\n",
    "            'pt':events.lepPt ,\n",
    "            'eta':events.lepEta,\n",
    "            'phi':events.lepPhi,\n",
    "            'energy':events.lepE,\n",
    "            'pdgid':events.lepPdgId,\n",
    "            'passId':events.lepPassId,\n",
    "        },with_name='PtEtaPhiELorentzVector',\n",
    "        behavior=vector.behavior\n",
    "        )\n",
    "ele   = lep[abs(lep.pdgid)==11]\n",
    "muons = lep[abs(lep.pdgid)==13]\n",
    "\n",
    "\n",
    "\n",
    "\n",
    "cluster_dir= ak.zip(\n",
    "{       \n",
    "        'pt':ak.ones_like(events.cscRechitCluster3Eta),\n",
    "        \"eta\":events.cscRechitCluster3Eta,\n",
    "        \"phi\":events.cscRechitCluster3Phi,\n",
    "        'mass':ak.zeros_like(events.cscRechitCluster3Eta)\n",
    "    },with_name=\"PtEtaPhiMLorentzVector\",\n",
    "    behavior=vector.behavior\n",
    ")\n",
    "\n",
    "good_ele = ele[(ele.pt>35) & (abs(ele.eta)<2.4) & (ele.passId)]\n",
    "\n",
    "dphi_cluster_ele = ak.fill_none(cluster_dir.delta_phi(ak.firsts(good_ele)),-999)\n",
    "dr_cluster_ele = ak.fill_none(cluster_dir.delta_r(ak.firsts(good_ele)),-999)\n",
    "\n",
    "good_mu  = muons[(muons.pt>25)&(abs(muons.eta)<2.4) & (muons.passId)]\n",
    "\n",
    "dphi_cluster_mu = ak.fill_none(cluster_dir.delta_phi(ak.firsts(good_mu)),-999)\n",
    "dr_cluster_mu = ak.fill_none(cluster_dir.delta_r(ak.firsts(good_mu)),-999)\n",
    "cluster= ak.zip(\n",
    "    {\n",
    "        \"time\":events.cscRechitCluster3TimeTotal,\n",
    "        \"size\":events.cscRechitCluster3Size,\n",
    "        \"timeSpread\":events.cscRechitCluster3TimeSpread,\n",
    "        \"eta\":events.cscRechitCluster3Eta,\n",
    "        \"phi\":events.cscRechitCluster3Phi,\n",
    "        \"x\":events.cscRechitCluster3X,\n",
    "        \"y\":events.cscRechitCluster3Y,\n",
    "        \"z\":events.cscRechitCluster3Z,\n",
    "        'llp_x':events.cscRechitCluster3_match_gLLP_decay_x,\n",
    "        'llp_y':events.cscRechitCluster3_match_gLLP_decay_y,\n",
    "        'llp_z':events.cscRechitCluster3_match_gLLP_decay_z,\n",
    "        \"NChamber\":events.cscRechitCluster3NChamber,\n",
    "        \"MaxChamber\":events.cscRechitCluster3MaxChamber,\n",
    "        \"MaxStation\":events.cscRechitCluster3MaxStation,\n",
    "        \"NStation10\":events.cscRechitCluster3NStation10,\n",
    "        \"AvgStation10\":events.cscRechitCluster3AvgStation10,\n",
    "        \"ME11_12\":(events.cscRechitCluster3Me11Ratio+events.cscRechitCluster3Me12Ratio)*events.cscRechitCluster3Size,\n",
    "        \"llp_match\":events.cscRechitCluster3_match_gLLP,\n",
    "        \"RE12\":events.cscRechitCluster3_match_RE12_0p4,\n",
    "        \"MB1seg\":events.cscRechitCluster3_match_MB1Seg_0p4,\n",
    "        \"RB1\":events.cscRechitCluster3_match_RB1_0p4,\n",
    "        \"dphi_cluster_MET\":events.cscRechitCluster3MetXYCorr_dPhi,\n",
    "        \"dphi_cluster_ele\":dphi_cluster_ele,\n",
    "        \"dphi_cluster_mu\" :dphi_cluster_mu,\n",
    "        \"dr_cluster_ele\": dr_cluster_ele,\n",
    "        \"dr_cluster_mu\" : dr_cluster_mu,\n",
    "        }\n",
    ")\n",
    "\n",
    "muVeto=ak.zip({\n",
    "    'e':events.cscRechitCluster3MuonVetoE,\n",
    "    \"time\":events.cscRechitCluster3Time,\n",
    "    'pt':events.cscRechitCluster3MuonVetoPt,\n",
    "    'phi':events.cscRechitCluster3MuonVetoPhi,\n",
    "    'eta':events.cscRechitCluster3MuonVetoEta,\n",
    "    'LooseIso':events.cscRechitCluster3MuonVetoLooseIso,\n",
    "    'LooseId':events.cscRechitCluster3MuonVetoLooseId,\n",
    "    'TightId':events.cscRechitCluster3MuonVetoTightId,\n",
    "})\n",
    "\n",
    "\n",
    "jetVeto=ak.zip({\n",
    "    'e':events.cscRechitCluster3JetVetoE,\n",
    "    'pt':events.cscRechitCluster3JetVetoPt,\n",
    "    'phi':events.cscRechitCluster3JetVetoPhi,\n",
    "    'eta':events.cscRechitCluster3JetVetoEta,\n",
    "})\n",
    "\n",
    "\n",
    "ClusterID =((cluster.NStation10>1) & (abs(cluster.eta)<1.9))|\\\n",
    "((cluster.NStation10==1) &(abs(cluster.AvgStation10)==4) & (abs(cluster.eta)<1.8))|\\\n",
    "((cluster.NStation10==1) &(abs(cluster.AvgStation10)==3) & (abs(cluster.eta)<1.6))|\\\n",
    "((cluster.NStation10==1) &(abs(cluster.AvgStation10)==2) & (abs(cluster.eta)<1.6))\n",
    "\n",
    "muonVeto_mask = ~((muVeto.pt>20) & abs(muVeto.eta<2.4))\n",
    "\n",
    "jetVeto_mask  = ~((jetVeto.pt>10)& abs(jetVeto.eta<2.4))\n",
    "RE12_veto    = (cluster.RE12==0)\n",
    "MB1seg_veto  = (cluster.MB1seg==0)\n",
    "RB1_veto     = (cluster.RB1==0)\n",
    "ME11_12_veto = (cluster.ME11_12==0)\n",
    "\n",
    "OOT_timeCut   = (cluster.time < -12.5) #OOT for data\n",
    "IntimeCut     = (cluster.time < 12.5) & (cluster.time>-5) ## In-time otherwise        \n",
    "timeSpreadCut = (cluster.timeSpread<20)\n",
    "dphi_MET      = (cluster.dphi_cluster_MET<0.75)\n",
    "dphi_ele      = (cluster.dphi_cluster_ele>2.5)\n",
    "dphi_mu       = (cluster.dphi_cluster_mu>2.5)\n",
    "dr_ele        = (cluster.dr_cluster_ele>0.4)\n",
    "dr_mu         = (cluster.dr_cluster_mu>0.4)\n",
    "\n",
    "\n",
    "cls_OOT = cluster[\n",
    "        ((jetVeto_mask) &(muonVeto_mask))\n",
    "        & (dr_mu)\n",
    "        & (ME11_12_veto)\n",
    "        & ((MB1seg_veto) & (RB1_veto))\n",
    "        & (OOT_timeCut)\n",
    "        & (timeSpreadCut)\n",
    "        & (ClusterID)\n",
    "    ]\n",
    "cls_ABCD = cluster[\n",
    "    ((jetVeto_mask) &(muonVeto_mask))\n",
    "    & (dr_mu)\n",
    "    & (ME11_12_veto)\n",
    "    & ((MB1seg_veto) & (RB1_veto))\n",
    "    & (IntimeCut)\n",
    "    & (timeSpreadCut)\n",
    "    & (ClusterID)\n",
    "]\n",
    "\n",
    "cls_StaVeto = cluster[\n",
    "     (ME11_12_veto)& ((MB1seg_veto) & (RB1_veto))\n",
    "]\n",
    "cls_JetMuVeto = cluster[\n",
    "    ((jetVeto_mask) &(muonVeto_mask))& (dr_mu)\n",
    "]\n",
    "cls_JetMuStaVeto = cluster[\n",
    "    ((jetVeto_mask) &(muonVeto_mask))\n",
    "    & (dr_mu)\n",
    "    & (ME11_12_veto)\n",
    "    & ((MB1seg_veto) & (RB1_veto))\n",
    "]\n",
    "cls_JetMuVeto_without_dr = cluster[\n",
    "    ((jetVeto_mask) &(muonVeto_mask))\n",
    "]\n",
    "\n",
    "dr_mu_0p4         = (cluster.dr_cluster_mu>0.4)\n",
    "\n",
    "cls_JetMuVeto_with_dr_0p4 = cluster[\n",
    "((jetVeto_mask) &(muonVeto_mask)&(cluster.dr_cluster_mu>0.4))\n",
    "]\n",
    "\n",
    "dr_mu_0p8         = (cluster.dr_cluster_mu>0.8)\n",
    "\n",
    "cls_JetMuVeto_with_dr_0p8 = cluster[\n",
    "    ((jetVeto_mask) &(muonVeto_mask)&(dr_mu_0p8))\n",
    "]\n",
    "dr_mu_0p0         = (cluster.dr_cluster_mu>0.0)\n",
    "\n",
    "cls_JetMuVeto_with_dr_0p0 = cluster[\n",
    "    ((jetVeto_mask) &(muonVeto_mask)&(dr_mu_0p0))\n",
    "]"
   ]
  },
  {
   "cell_type": "code",
   "execution_count": null,
   "metadata": {},
   "outputs": [],
   "source": []
  },
  {
   "cell_type": "code",
   "execution_count": 5,
   "metadata": {},
   "outputs": [],
   "source": [
    "\n",
    "trigger_mu = events.SingleMuonTrigger==True\n",
    "good_mu_sel = ak.num(good_mu,axis=1)==1\n",
    "METfilters = events.Flag2_all==True\n",
    "MET= events.metXYCorr>30\n",
    "\n",
    "preselections = trigger_mu & good_mu_sel & METfilters & MET\n",
    "cls_JetMuVeto_with_dr_0p4_sel= ak.num(cls_JetMuVeto_with_dr_0p4,axis=1)==1\n",
    "cls_JetMuVeto_with_dr_0p0_sel= ak.num(cls_JetMuVeto_with_dr_0p0,axis=1)>0\n",
    "dr_cut_solo = ak.num((cluster.dr_cluster_mu>0.4),axis=1)==0"
   ]
  },
  {
   "cell_type": "code",
   "execution_count": 10,
   "metadata": {},
   "outputs": [
    {
     "data": {
      "text/plain": [
       "<AxesSubplot:xlabel='drmu', ylabel='Count'>"
      ]
     },
     "execution_count": 10,
     "metadata": {},
     "output_type": "execute_result"
    },
    {
     "data": {
      "image/png": "[encoded data removed]",
      "text/plain": [
       "<Figure size 1152x432 with 2 Axes>"
      ]
     },
     "metadata": {
      "needs_background": "light"
     },
     "output_type": "display_data"
    }
   ],
   "source": [
    "cluster_selection = cluster.dr_cluster_mu>0.4\n",
    "selection = cluster[cluster.dr_cluster_mu>0.4]\n",
    "dr_cut_solo = ak.num(selection,axis=1)==1\n",
    "\n",
    "selections =dr_cut_solo\n",
    "dr_arr = cluster[selections &cluster_selection].dr_cluster_mu\n",
    "dphi_arr = cluster[selections &cluster_selection].dphi_cluster_mu\n",
    "\n",
    "h = hist.Hist(\"Count\",\n",
    "             hist.Cat(\"sample\",\"sample\"),\n",
    "             hist.Bin(\"dphi\",\"dphi cluster mu\",50,0,np.pi))\n",
    "\n",
    "h2 = hist.Hist(\"Count\",\n",
    "             hist.Cat(\"sample\",\"sample\"),\n",
    "             hist.Bin(\"dr_mu\",\"drmu\",50,0,3))\n",
    "\n",
    "fig, axs = plt.subplots(1,2,figsize=(16,6))\n",
    "\n",
    "axs = axs.flatten()\n",
    "\n",
    "\n",
    "h.fill(sample=\"1GeV,ct=100mm\",dphi=ak.flatten(dphi_arr))\n",
    "h2.fill(sample=\"1GeV,ct=100mm\",dr_mu=ak.flatten(dr_arr))\n",
    "\n",
    "hist.plot1d(h,ax = axs[0],density=False)\n",
    "hist.plot1d(h2,ax = axs[1],density=False)\n",
    "\n",
    "#axs[0].set_ylim(1e-6,1)\n",
    "#axs[0].set_yscale(\"log\")\n"
   ]
  },
  {
   "cell_type": "code",
   "execution_count": null,
   "metadata": {},
   "outputs": [],
   "source": [
    "h = hist.Hist(\"Count\",\n",
    "             hist.Cat(\"sample\",\"sample\"),\n",
    "             hist.Bin(\"dphi\",\"dphi cluster mu\",50,0,np.pi))\n",
    "\n",
    "h2 = hist.Hist(\"Count\",\n",
    "             hist.Cat(\"sample\",\"sample\"),\n",
    "             hist.Bin(\"dr_mu\",\"drmu\",50,0,3))\n",
    "\n",
    "fig, axs = plt.subplots(1,2,figsize=(16,6))\n",
    "\n",
    "axs = axs.flatten()\n",
    "print(ak.firsts(cluster.dphi_cluster_mu[preselections]))\n",
    "\n",
    "h.fill(sample=\"1GeV,ct=100mm\",dphi=np.array(ak.flatten(cluster[preselections&cls_JetMuVeto_with_dr_0p4_sel].dphi_cluster_mu)))\n",
    "h2.fill(sample=\"1GeV,ct=100mm\",dr_mu=np.array(ak.flatten(cluster[preselections&cls_JetMuVeto_with_dr_0p4_sel].dr_cluster_mu)))\n",
    "\n",
    "hist.plot1d(h,ax = axs[0],density=False)\n",
    "hist.plot1d(h2,ax = axs[1],density=False)\n",
    "\n",
    "#axs[0].set_ylim(1e-6,1)\n",
    "#axs[0].set_yscale(\"log\")\n"
   ]
  },
  {
   "cell_type": "code",
   "execution_count": null,
   "metadata": {},
   "outputs": [],
   "source": [
    "selection = (cluster.dr_cluster_mu>0.8) &(jetVeto_mask) &(muonVeto_mask) & trigger_mu & good_mu_sel & METfilters & MET\n",
    "print(selection)\n",
    "h = hist.Hist(\"Count\",\n",
    "             hist.Cat(\"sample\",\"sample\"),\n",
    "             hist.Bin(\"dphi\",\"dphi cluster mu\",50,0,np.pi))\n",
    "\n",
    "h2 = hist.Hist(\"Count\",\n",
    "             hist.Cat(\"sample\",\"sample\"),\n",
    "             hist.Bin(\"dr_mu\",\"drmu\",50,0,3))\n",
    "\n",
    "fig, axs = plt.subplots(1,2,figsize=(16,6))\n",
    "\n",
    "axs = axs.flatten()\n",
    "print(ak.firsts(cluster.dphi_cluster_mu[selection]))\n",
    "\n",
    "h.fill(sample=\"1GeV,ct=100mm\",dphi=np.array(ak.flatten(cluster.dphi_cluster_mu[selection])))\n",
    "h2.fill(sample=\"1GeV,ct=100mm\",dr_mu=np.array(ak.flatten(cluster.dr_cluster_mu[selection])))\n",
    "\n",
    "hist.plot1d(h,ax = axs[0],density=False)\n",
    "hist.plot1d(h2,ax = axs[1],density=False)\n",
    "\n",
    "#axs[0].set_ylim(1e-6,1)\n",
    "#axs[0].set_yscale(\"log\")\n"
   ]
  },
  {
   "cell_type": "code",
   "execution_count": 46,
   "metadata": {},
   "outputs": [
    {
     "name": "stdout",
     "output_type": "stream",
     "text": [
      "[True, True, True, True, True, True, True, ... True, True, True, True, True, True]\n"
     ]
    },
    {
     "data": {
      "text/plain": [
       "<AxesSubplot:xlabel='drmu', ylabel='Count'>"
      ]
     },
     "execution_count": 46,
     "metadata": {},
     "output_type": "execute_result"
    },
    {
     "data": {
      "image/png": "[encoded data removed]",
      "text/plain": [
       "<Figure size 1152x432 with 2 Axes>"
      ]
     },
     "metadata": {
      "needs_background": "light"
     },
     "output_type": "display_data"
    }
   ],
   "source": [
    "dr_cut_solo = cluster.dr_cluster_mu>0.4\n",
    "n_cluster = cluster.dr_cluster_mu>-1.0\n",
    "\n",
    "\n",
    "test_cut = ak.num(cluster.dr_cluster_mu>0.0,axis=1)==1 & ak.any(cluster.dr_cluster_mu>0.4,axis=1)\n",
    "selection = test_cut\n",
    "\n",
    "print(selection)\n",
    "h = hist.Hist(\"Count\",\n",
    "             hist.Cat(\"sample\",\"sample\"),\n",
    "             hist.Bin(\"dphi\",\"dphi cluster mu\",50,0,np.pi))\n",
    "\n",
    "h2 = hist.Hist(\"Count\",\n",
    "             hist.Cat(\"sample\",\"sample\"),\n",
    "             hist.Bin(\"dr_mu\",\"drmu\",50,0,3))\n",
    "\n",
    "fig, axs = plt.subplots(1,2,figsize=(16,6))\n",
    "\n",
    "axs = axs.flatten()\n",
    "\n",
    "\n",
    "h.fill(sample=\"1GeV,ct=100mm\",dphi=np.array(ak.flatten(cluster[selection].dphi_cluster_mu)))\n",
    "h2.fill(sample=\"1GeV,ct=100mm\",dr_mu=np.array(ak.flatten(cluster[selection].dr_cluster_mu)))\n",
    "\n",
    "hist.plot1d(h,ax = axs[0],density=False)\n",
    "hist.plot1d(h2,ax = axs[1],density=False)\n",
    "\n",
    "#axs[0].set_ylim(1e-6,1)\n",
    "#axs[0].set_yscale(\"log\")\n"
   ]
  },
  {
   "cell_type": "code",
   "execution_count": 36,
   "metadata": {},
   "outputs": [],
   "source": [
    "a = ak.Array([[200,50],[50],[10],[200]])\n",
    "a>150\n",
    "b = a[a>150]"
   ]
  },
  {
   "cell_type": "code",
   "execution_count": 32,
   "metadata": {},
   "outputs": [
    {
     "data": {
      "text/plain": [
       "<Array [True, True, True, True] type='4 * bool'>"
      ]
     },
     "execution_count": 32,
     "metadata": {},
     "output_type": "execute_result"
    }
   ],
   "source": [
    "ak.num(a>150,axis=1)>0"
   ]
  },
  {
   "cell_type": "code",
   "execution_count": 37,
   "metadata": {},
   "outputs": [
    {
     "data": {
      "text/plain": [
       "<Array [1, 0, 0, 1] type='4 * int64'>"
      ]
     },
     "execution_count": 37,
     "metadata": {},
     "output_type": "execute_result"
    }
   ],
   "source": [
    "ak.num(b,axis=1)"
   ]
  },
  {
   "cell_type": "code",
   "execution_count": 5,
   "metadata": {},
   "outputs": [
    {
     "ename": "SyntaxError",
     "evalue": "invalid syntax (<ipython-input-5-4602522c96a7>, line 1)",
     "output_type": "error",
     "traceback": [
      "\u001b[0;36m  File \u001b[0;32m\"<ipython-input-5-4602522c96a7>\"\u001b[0;36m, line \u001b[0;32m1\u001b[0m\n\u001b[0;31m    from ../HNLprocessor.HNLproc_4 import MyProcessor\u001b[0m\n\u001b[0m           ^\u001b[0m\n\u001b[0;31mSyntaxError\u001b[0m\u001b[0;31m:\u001b[0m invalid syntax\n"
     ]
    }
   ],
   "source": [
    "from HNLprocessor.HNLproc_4 import MyProcessor\n",
    "lep=ak.zip({\n",
    "    'pt':events.lepPt ,\n",
    "    'eta':events.lepEta,\n",
    "    'phi':events.lepPhi,\n",
    "    'energy':events.lepE,\n",
    "    'pdgid':events.lepPdgId,\n",
    "    'passId':events.lepPassId,\n",
    "},with_name='PtEtaPhiELorentzVector',\n",
    "behavior=vector.behavior\n",
    ")\n",
    "\n",
    "ele   = lep[abs(lep.pdgid)==11]\n",
    "muons = lep[abs(lep.pdgid)==13]\n",
    "good_ele = ele[(ele.pt>35) & (abs(ele.eta)<2.4) & (ele.passId)]\n",
    "good_mu  = muons[(muons.pt>25)&(abs(muons.eta)<2.4) & (muons.passId)]\n",
    "\n",
    "def buildMask(allMasks,cutnames):\n",
    "    allcuts = allMasks[cutnames[0]]\n",
    "    for i,cutname in enumerate(cutnames):\n",
    "        allcuts = (allcuts) & allMasks[cutname]\n",
    "    return allcuts\n",
    "p = MyProcessor()\n",
    "cluster = p.buildCSCcluster(events,good_mu)\n",
    "clusterMasks = p.selectCSCcluster(cluster,events)\n",
    "preselections = ['trigger_ele','MET',\"METfilters\",'good_electron']\n",
    "selectionMasks={}\n",
    "selectionMasks['Acceptance']   =ak.firsts(events.gLLP_csc)==1\n",
    "selectionMasks['Acceptance_dt']=ak.firsts(events.gLLP_dt)==1\n",
    "selectionMasks['METfilters']   =events.Flag2_all==True\n",
    "selectionMasks['trigger_ele']  =events.SingleEleTrigger==True\n",
    "selectionMasks['trigger_mu']   =events.SingleMuonTrigger==True\n",
    "selectionMasks['good_electron']=ak.num(good_ele,axis=1)==1\n",
    "selectionMasks['good_mu']      =ak.num(good_mu,axis=1)==1\n",
    "selectionMasks['MET']          =events.metEENoise>=30\n",
    "selectionMasks['n_cls']        =ak.num(cluster,axis=1)>=1\n",
    "selectionMasks['cls_ABCD']  = (   ((clusterMasks.jetVeto_mask) &(clusterMasks.muonVeto_mask))\n",
    "    & (clusterMasks.ME11_12_veto)\n",
    "    &((clusterMasks.MB1seg_veto) & (clusterMasks.RB1_veto))\n",
    "    & (clusterMasks.IntimeCut)\n",
    "    & (clusterMasks.timeSpreadCut)\n",
    "    & (clusterMasks.ClusterID))\n",
    "regions = {\n",
    "            \"ABCD\"         :preselections+[\"cls_ABCD\"],\n",
    "            # \"ABCD_OOT\"     :preselections+[\"cls_OOT\"],\n",
    "}\n",
    "\n",
    "cut = buildMask(selectionMasks,regions['ABCD'])\n",
    "\n"
   ]
  },
  {
   "cell_type": "code",
   "execution_count": null,
   "metadata": {},
   "outputs": [],
   "source": []
  }
 ],
 "metadata": {
  "kernelspec": {
   "display_name": "Python 3",
   "language": "python",
   "name": "python3"
  },
  "language_info": {
   "codemirror_mode": {
    "name": "ipython",
    "version": 3
   },
   "file_extension": ".py",
   "mimetype": "text/x-python",
   "name": "python",
   "nbconvert_exporter": "python",
   "pygments_lexer": "ipython3",
   "version": "3.7.6"
  }
 },
 "nbformat": 4,
 "nbformat_minor": 2
}
