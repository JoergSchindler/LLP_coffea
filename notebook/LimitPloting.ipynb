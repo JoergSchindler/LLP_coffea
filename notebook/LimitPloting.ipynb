{
 "cells": [
  {
   "cell_type": "code",
   "execution_count": 1,
   "metadata": {},
   "outputs": [],
   "source": [
    "import numpy as np\n",
    "import matplotlib.pyplot as plt\n",
    "import awkward as ak\n",
    "from coffea import hist, processor\n",
    "import coffea\n",
    "import uproot\n",
    "import sys\n",
    "sys.path.insert(0,\"../\")\n",
    "# from corrections import add_pileup_weight\n",
    "\n",
    "import pickle\n",
    "import glob\n",
    "\n",
    "import mplhep as hep\n",
    "plt.style.use(hep.style.CMS) "
   ]
  },
  {
   "cell_type": "code",
   "execution_count": 46,
   "metadata": {},
   "outputs": [],
   "source": [
    "def loadLimits(f):\n",
    "    T=uproot.open(f)['limit']\n",
    "    return np.array(T['limit'].array())\n",
    "\n",
    "def loadLimitFiles(mass,fpath):\n",
    "    arr =[]\n",
    "    ctau = []\n",
    "    for f in glob.glob(fpath):\n",
    "        ct = f.split(\"/\")[-1].split(\"_\")[5].replace(\"pl\",\"\")\n",
    "        print(\"Mass\",mass)\n",
    "        print(\"ct\",ct)\n",
    "        xsec = f_xsec(mass)(float(ct))\n",
    "        print(ct,xsec)    \n",
    "        signalName = \"_\".join(f.split(\"/\")[-1].split(\"_\")[1:-1])   \n",
    "        card = \"../limit/combine/HNL_datacards/muon_v12/%s_CSC.txt\"%signalName\n",
    "        norm = float(open(card,'r').readline().split()[-1])\n",
    "        arr.append(loadLimits(f)*xsec/norm)\n",
    "        ctau.append(float(ct))\n",
    "    arr = np.array(arr)\n",
    "    ctau = np.array(ctau)\n",
    "    return arr,ctau\n",
    "\n",
    "import math\n",
    "def plotlimit(ax,expected_CLs,poi_values,showBands = True, legend=True):\n",
    "\n",
    "    # expected CLs\n",
    "    if legend:\n",
    "        ax.plot(poi_values, expected_CLs[:, 2], \"--\", color=\"black\", label=r\"expected CL$_S$\")\n",
    "    else:\n",
    "        ax.plot(poi_values, expected_CLs[:, 2], \"--\", color=\"black\", label='_nolegend_')        \n",
    "    \n",
    "\n",
    "    if showBands:\n",
    "        # 1 and 2 sigma bands\n",
    "        if legend:\n",
    "            sigOnelabel = r\"expected CL$_S$ $\\pm 1\\sigma$\"\n",
    "            sigTwolabel = r\"expected CL$_S$ $\\pm 2\\sigma$\"            \n",
    "        else:\n",
    "            sigOnelabel = '_nolegend_'\n",
    "            sigTwolabel = '_nolegend_'\n",
    "            \n",
    "        ax.fill_between(\n",
    "            poi_values,\n",
    "            expected_CLs[:, 1],\n",
    "            expected_CLs[:, 3],\n",
    "            color=\"limegreen\",\n",
    "            label=sigOnelabel,\n",
    "        )\n",
    "        ax.fill_between(\n",
    "            poi_values,\n",
    "            expected_CLs[:, 0],\n",
    "            expected_CLs[:, 4],\n",
    "            color=\"yellow\",\n",
    "            label=sigTwolabel,\n",
    "            zorder=0,  # draw beneath 1 sigma band\n",
    "        )\n",
    "    hep.cms.label(ax=ax,label=\"Preliminary\",data=True,lumi=\"137\")\n",
    "\n",
    "    \n",
    "    return ax\n",
    "\n",
    "## return the xsec function for mass=X\n",
    "def f_xsec(m):\n",
    "    def xsec_m(x):\n",
    "        if m==1: xs_ctau_100 = 490.6\n",
    "        if m==2: xs_ctau_100 = 15.39\n",
    "        if m==4: xs_ctau_100 = 0.2854                        \n",
    "        if m==7:   xs_ctau_100 = 0.01019                                   \n",
    "        return xs_ctau_100/(x/100)  ## x in mm, xs in pb\n",
    "    return xsec_m\n",
    "## return the V^2 function for ctau\n",
    "def f_ctau(m):\n",
    "    def ctau_m(x):\n",
    "        if m==1: v2_ctau_100 = 4.14E-03\n",
    "        if m==2: v2_ctau_100 = 1.29E-04\n",
    "        if m==4: v2_ctau_100 = 3.95E-06     \n",
    "        if m==4.5: v2_ctau_100 = 2.17E-06\n",
    "        if m==4.6: v2_ctau_100 = 1.94E-06\n",
    "        if m==4.7: v2_ctau_100 = 1.74E-06                        \n",
    "        if m==5  : v2_ctau_100 = 1.27E-06            \n",
    "        return v2_ctau_100/(x/100)  ## x in mm, xs in pb\n",
    "    return ctau_m\n",
    "\n",
    "\n",
    "## find intersection of limit band with theory xsec\n",
    "from scipy.optimize import fsolve\n",
    "\n",
    "def intersect(funcs,xsec,x0):\n",
    "    def eq(i):\n",
    "        def eq_i(x):\n",
    "            return funcs[i](x)-xsec(x) \n",
    "        return eq_i\n",
    "    if isinstance(x0,int):\n",
    "        sol =[ fsolve(eq(i),x0)  for i in range(len(funcs))]\n",
    "    else:\n",
    "        sol =[ fsolve(eq(i),x0)  for i in range(len(funcs))]\n",
    "    return np.array(sol)[:,0]\n",
    "\n",
    "from scipy.interpolate import Rbf,interp1d\n",
    "from scipy import interpolate\n",
    "import numpy as np\n",
    "def interpolate1D(combineLimits,x,nBins=10,f=\"linear\"):\n",
    "    epsilon = 0.2\n",
    "    smooth = 1\n",
    "#     nBins = 10\n",
    "    newLimits = []\n",
    "#     xi = np.linspace(min(x),max(x),nBins)\n",
    "    if nBins<0:\n",
    "        xi = np.sort(x)\n",
    "    else:\n",
    "        xi = np.logspace(np.log10(min(x)),np.log10(max(x)),nBins)    \n",
    "\n",
    "    funcs=[]\n",
    "    for i in range(5):\n",
    "        y = combineLimits[:,i]\n",
    "#         rbfi = Rbf(x,y,function='multiquadric', epsilon=epsilon,smooth=smooth)\n",
    "        if f==\"linear\":\n",
    "            rbfi = interp1d(x, y,fill_value=\"extrapolate\")\n",
    "        else:\n",
    "            rbfi = Rbf(x,y,function='multiquadric', epsilon=epsilon,smooth=smooth)            \n",
    "\n",
    "        yi = rbfi(xi)\n",
    "        newLimits.append(yi)\n",
    "        funcs.append(rbfi)\n",
    "    newLimits = np.array(newLimits).transpose()\n",
    "    return newLimits, xi,funcs\n",
    "\n"
   ]
  },
  {
   "cell_type": "code",
   "execution_count": 23,
   "metadata": {},
   "outputs": [],
   "source": [
    "arr_4GeV_CSC,ct_4GeV_CSC = loadLimitFiles(4,\"../limit/combine/HNL_datacards/higgsCombine_HNL_muonType_mHNL4p0_pl*_CSC.AsymptoticLimits.mH120.root\")\n",
    "arr_4GeV_DT,ct_4GeV_DT = loadLimitFiles(4,\"../limit/combine/HNL_datacards/higgsCombine_HNL_muonType_mHNL4p0_pl*_DT.AsymptoticLimits.mH120.root\")"
   ]
  },
  {
   "cell_type": "code",
   "execution_count": 48,
   "metadata": {},
   "outputs": [
    {
     "name": "stdout",
     "output_type": "stream",
     "text": [
      "Mass 4\n",
      "ct 100\n",
      "100 0.1289\n",
      "Mass 4\n",
      "ct 1000\n",
      "1000 0.012889999999999999\n",
      "Mass 2\n",
      "ct 100\n",
      "100 4.238\n",
      "Mass 2\n",
      "ct 1000\n",
      "1000 0.42380000000000007\n"
     ]
    }
   ],
   "source": [
    "#arr4p5GeV,ctau4p5GeV = loadLimitFiles(4.5,\"../limit/combine/HNL_datacards/muon_v12/higgsCombine_HNL_tauType_leptonFilter_mHNL4p5_pl*_comb.AsymptoticLimits.mH120.root\")\n",
    "#arr4p6GeV,ctau4p6GeV = loadLimitFiles(4.6,\"../limit/combine/HNL_datacards/muon_v12/higgsCombine_HNL_tauType_leptonFilter_mHNL4p6_pl*_comb.AsymptoticLimits.mH120.root\")\n",
    "#arr4p7GeV,ctau4p7GeV = loadLimitFiles(4.7,\"../limit/combine/HNL_datacards/muon_v12/higgsCombine_HNL_tauType_leptonFilter_mHNL4p7_pl*_comb.AsymptoticLimits.mH120.root\")\n",
    "#arr5GeV,ctau5GeV = loadLimitFiles(5,\"../limit/combine/HNL_datacards/muon_v12/higgsCombine_HNL_tauType_leptonFilter_mHNL5p0_pl*_comb.AsymptoticLimits.mH120.root\")\n",
    "arr4GeV,ctau4GeV = loadLimitFiles(4,\"../limit/combine/HNL_datacards/muon_v12/higgsCombine_HNL_tauType_leptonFilter_mHNL4p0_pl*_comb.AsymptoticLimits.mH120.root\")\n",
    "arr2GeV,ctau2GeV = loadLimitFiles(2,\"../limit/combine/HNL_datacards/muon_v12/higgsCombine_HNL_tauType_leptonFilter_mHNL2p0_pl*_comb.AsymptoticLimits.mH120.root\")"
   ]
  },
  {
   "cell_type": "code",
   "execution_count": 39,
   "metadata": {},
   "outputs": [
    {
     "name": "stdout",
     "output_type": "stream",
     "text": [
      "1\n",
      "100\n",
      "100 135.7\n",
      "1\n",
      "1000\n",
      "1000 13.569999999999999\n"
     ]
    }
   ],
   "source": [
    "arr1GeV,ctau1GeV = loadLimitFiles(1,\"../limit/combine/HNL_datacards/muon_v12/higgsCombine_HNL_tauType_leptonFilter_mHNL1p0_pl*_comb.AsymptoticLimits.mH120.root\")\n"
   ]
  },
  {
   "cell_type": "code",
   "execution_count": 134,
   "metadata": {},
   "outputs": [],
   "source": []
  },
  {
   "cell_type": "code",
   "execution_count": 21,
   "metadata": {},
   "outputs": [],
   "source": []
  },
  {
   "cell_type": "code",
   "execution_count": 29,
   "metadata": {},
   "outputs": [
    {
     "ename": "NameError",
     "evalue": "name 'ax' is not defined",
     "output_type": "error",
     "traceback": [
      "\u001b[0;31m---------------------------------------------------------------------------\u001b[0m",
      "\u001b[0;31mNameError\u001b[0m                                 Traceback (most recent call last)",
      "\u001b[0;32m<ipython-input-29-c38999a13dab>\u001b[0m in \u001b[0;36m<module>\u001b[0;34m\u001b[0m\n\u001b[0;32m----> 1\u001b[0;31m \u001b[0;34m[\u001b[0m\u001b[0ml\u001b[0m\u001b[0;34m.\u001b[0m\u001b[0mget_label\u001b[0m\u001b[0;34m(\u001b[0m\u001b[0;34m)\u001b[0m\u001b[0;32mfor\u001b[0m \u001b[0ml\u001b[0m \u001b[0;32min\u001b[0m \u001b[0max\u001b[0m\u001b[0;34m.\u001b[0m\u001b[0mget_lines\u001b[0m\u001b[0;34m(\u001b[0m\u001b[0;34m)\u001b[0m\u001b[0;34m]\u001b[0m\u001b[0;34m\u001b[0m\u001b[0;34m\u001b[0m\u001b[0m\n\u001b[0m",
      "\u001b[0;31mNameError\u001b[0m: name 'ax' is not defined"
     ]
    }
   ],
   "source": [
    "[l.get_label()for l in ax.get_lines()]"
   ]
  },
  {
   "cell_type": "code",
   "execution_count": 30,
   "metadata": {},
   "outputs": [
    {
     "data": {
      "text/plain": [
       "array([ 100., 1000.])"
      ]
     },
     "execution_count": 30,
     "metadata": {},
     "output_type": "execute_result"
    }
   ],
   "source": [
    "ctau4GeV"
   ]
  },
  {
   "cell_type": "code",
   "execution_count": 31,
   "metadata": {},
   "outputs": [
    {
     "ename": "NameError",
     "evalue": "name 'ctau4GeV_i_DT' is not defined",
     "output_type": "error",
     "traceback": [
      "\u001b[0;31m---------------------------------------------------------------------------\u001b[0m",
      "\u001b[0;31mNameError\u001b[0m                                 Traceback (most recent call last)",
      "\u001b[0;32m<ipython-input-31-aa8ac5ec6a9b>\u001b[0m in \u001b[0;36m<module>\u001b[0;34m\u001b[0m\n\u001b[0;32m----> 1\u001b[0;31m \u001b[0mctau4GeV_i_DT\u001b[0m\u001b[0;34m\u001b[0m\u001b[0;34m\u001b[0m\u001b[0m\n\u001b[0m",
      "\u001b[0;31mNameError\u001b[0m: name 'ctau4GeV_i_DT' is not defined"
     ]
    }
   ],
   "source": [
    "ctau4GeV_i_DT"
   ]
  },
  {
   "cell_type": "code",
   "execution_count": 164,
   "metadata": {},
   "outputs": [
    {
     "data": {
      "text/plain": [
       "array([0.27861422, 0.25473252, 0.28227049, 0.35065165, 0.58612725,\n",
       "       0.67265435, 0.85091191, 0.91886203, 0.96248826, 0.98217832])"
      ]
     },
     "execution_count": 164,
     "metadata": {},
     "output_type": "execute_result"
    }
   ],
   "source": [
    "m4GeV_i_CSC[:,2]/m4GeV_i_DT[:,2]"
   ]
  },
  {
   "cell_type": "code",
   "execution_count": 147,
   "metadata": {},
   "outputs": [],
   "source": [
    "mask=ctau4GeV<1000"
   ]
  },
  {
   "cell_type": "code",
   "execution_count": 6,
   "metadata": {},
   "outputs": [
    {
     "data": {
      "text/plain": [
       "array([ 800.,  500.,  200.,   80.,  100., 1000., 2000.,   50., 1500.,\n",
       "         60.,   90.])"
      ]
     },
     "execution_count": 6,
     "metadata": {},
     "output_type": "execute_result"
    }
   ],
   "source": [
    "ctau4GeV"
   ]
  },
  {
   "cell_type": "code",
   "execution_count": 32,
   "metadata": {},
   "outputs": [
    {
     "data": {
      "text/plain": [
       "<matplotlib.legend.Legend at 0x7f6459726f50>"
      ]
     },
     "execution_count": 32,
     "metadata": {},
     "output_type": "execute_result"
    },
    {
     "data": {
      "image/png": "[encoded data removed]",
      "text/plain": [
       "<Figure size 576x432 with 1 Axes>"
      ]
     },
     "metadata": {
      "needs_background": "light"
     },
     "output_type": "display_data"
    }
   ],
   "source": [
    "m4GeV_i, ctau4GeV_i, funcs = interpolate1D(arr4GeV, ctau4GeV,-1)\n",
    "# m4GeV_i, ctau4GeV_i, funcs = interpolate1D(arr4GeV[mask], ctau4GeV[mask],-1)\n",
    "# m4GeV_i_CSC, ctau4GeV_i_CSC, fx = interpolate1D(arr_4GeV_CSC, ct_4GeV_CSC)\n",
    "# m4GeV_i_DT, ctau4GeV_i_DT, fx = interpolate1D(arr_4GeV_DT, ct_4GeV_DT)\n",
    "\n",
    "# ct_xing_4 = intersect(funcs, f_xsec(4),1000)\n",
    "\n",
    "plt.style.use(hep.style.CMS) \n",
    "\n",
    "fig, ax = plt.subplots(figsize=(8,6))\n",
    "\n",
    "ax = plotlimit(ax,m4GeV_i,ctau4GeV_i,True)\n",
    "# ax = plotlimit(ax,m4GeV_i_CSC,ctau4GeV_i_CSC,False)\n",
    "# ax = plotlimit(ax,m4GeV_i_DT,ctau4GeV_i_DT,False)\n",
    "ax.plot(ctau4GeV_i,f_xsec(4)(ctau4GeV_i),label=\"Theory\")\n",
    "\n",
    "# ax.get_lines()[1].set_color(\"blue\")\n",
    "# ax.get_lines()[2].set_color(\"red\")\n",
    "# ax.plot(ctau_i,f_xsec(4.5)(ctau_i),label=\"Theory (m=4.5GeV)\")\n",
    "\n",
    "ct_xing_4 = intersect(funcs, f_xsec(4),1000)\n",
    "ct_xing_4_up = intersect(funcs, f_xsec(4),[70,70,75,70,70])\n",
    "\n",
    "showXings=True\n",
    "if showXings:\n",
    "    for sol in ct_xing_4_up:\n",
    "        ax.vlines(sol,0,f_xsec(4)(sol))\n",
    "    for sol in ct_xing_4:\n",
    "        ax.vlines(sol,0,f_xsec(4)(sol))\n",
    "\n",
    "showInterPolation=False\n",
    "if showInterPolation:\n",
    "    x = np.logspace(1,4,50)\n",
    "#     x = np.array([55,65,70,80,90])\n",
    "    x =   ctau4GeV_i\n",
    "    ax = plotlimit(ax,\n",
    "                   np.array([funcs[i](x) for i in range(5)]).transpose(),\n",
    "                   x,True)\n",
    "    ax.get_lines()[0].set_color('r')\n",
    "    \n",
    "ax.set_xlabel(\"ctau[mm]\")\n",
    "ax.set_ylabel(\"95% CL Limit on $\\sigma$[pb]\")\n",
    "ax.set_yscale(\"log\")\n",
    "ax.set_xscale(\"log\")\n",
    "# ax.legend([\"m=4GeV\",\"Theory\"])\n",
    "ax.legend([\"m=4GeV(CSC+DT)\",\"CSC-only\",\"DT-only\",\"Theory\"])"
   ]
  },
  {
   "cell_type": "code",
   "execution_count": 40,
   "metadata": {},
   "outputs": [
    {
     "ename": "NameError",
     "evalue": "name 'ctau' is not defined",
     "output_type": "error",
     "traceback": [
      "\u001b[0;31m---------------------------------------------------------------------------\u001b[0m",
      "\u001b[0;31mNameError\u001b[0m                                 Traceback (most recent call last)",
      "\u001b[0;32m<ipython-input-40-293222fdfe49>\u001b[0m in \u001b[0;36m<module>\u001b[0;34m\u001b[0m\n\u001b[0;32m----> 1\u001b[0;31m \u001b[0mf_xsec\u001b[0m\u001b[0;34m(\u001b[0m\u001b[0;36m4.5\u001b[0m\u001b[0;34m)\u001b[0m\u001b[0;34m(\u001b[0m\u001b[0mnp\u001b[0m\u001b[0;34m.\u001b[0m\u001b[0marray\u001b[0m\u001b[0;34m(\u001b[0m\u001b[0mctau\u001b[0m\u001b[0;34m)\u001b[0m\u001b[0;34m)\u001b[0m\u001b[0;34m\u001b[0m\u001b[0;34m\u001b[0m\u001b[0m\n\u001b[0m",
      "\u001b[0;31mNameError\u001b[0m: name 'ctau' is not defined"
     ]
    }
   ],
   "source": [
    "f_xsec(4.5)(np.array(ctau))"
   ]
  },
  {
   "cell_type": "code",
   "execution_count": 8,
   "metadata": {},
   "outputs": [],
   "source": [
    "ct_xing_4p5 = intersect(funcs_4p5, f_xsec(4.5),1000)"
   ]
  },
  {
   "cell_type": "code",
   "execution_count": 102,
   "metadata": {},
   "outputs": [
    {
     "data": {
      "text/plain": [
       "array([  50.,  100.,  200.,  500.,  800., 1000., 5000.])"
      ]
     },
     "execution_count": 102,
     "metadata": {},
     "output_type": "execute_result"
    }
   ],
   "source": [
    "ctau4p5_i"
   ]
  },
  {
   "cell_type": "code",
   "execution_count": 41,
   "metadata": {},
   "outputs": [
    {
     "ename": "IndexError",
     "evalue": "too many indices for array",
     "output_type": "error",
     "traceback": [
      "\u001b[0;31m---------------------------------------------------------------------------\u001b[0m",
      "\u001b[0;31mIndexError\u001b[0m                                Traceback (most recent call last)",
      "\u001b[0;32m<ipython-input-41-bb2ec3adde07>\u001b[0m in \u001b[0;36m<module>\u001b[0;34m\u001b[0m\n\u001b[0;32m----> 1\u001b[0;31m \u001b[0mm4p5GeV_i\u001b[0m\u001b[0;34m,\u001b[0m \u001b[0mctau4p5_i\u001b[0m\u001b[0;34m,\u001b[0m\u001b[0mfuncs_4p5\u001b[0m \u001b[0;34m=\u001b[0m \u001b[0minterpolate1D\u001b[0m\u001b[0;34m(\u001b[0m\u001b[0marr4p5GeV\u001b[0m\u001b[0;34m,\u001b[0m \u001b[0mctau4p5GeV\u001b[0m\u001b[0;34m,\u001b[0m\u001b[0;34m-\u001b[0m\u001b[0;36m1\u001b[0m\u001b[0;34m)\u001b[0m\u001b[0;34m\u001b[0m\u001b[0;34m\u001b[0m\u001b[0m\n\u001b[0m\u001b[1;32m      2\u001b[0m \u001b[0;34m\u001b[0m\u001b[0m\n\u001b[1;32m      3\u001b[0m \u001b[0mplt\u001b[0m\u001b[0;34m.\u001b[0m\u001b[0mstyle\u001b[0m\u001b[0;34m.\u001b[0m\u001b[0muse\u001b[0m\u001b[0;34m(\u001b[0m\u001b[0mhep\u001b[0m\u001b[0;34m.\u001b[0m\u001b[0mstyle\u001b[0m\u001b[0;34m.\u001b[0m\u001b[0mCMS\u001b[0m\u001b[0;34m)\u001b[0m\u001b[0;34m\u001b[0m\u001b[0;34m\u001b[0m\u001b[0m\n\u001b[1;32m      4\u001b[0m \u001b[0;34m\u001b[0m\u001b[0m\n\u001b[1;32m      5\u001b[0m \u001b[0mfig\u001b[0m\u001b[0;34m,\u001b[0m \u001b[0max\u001b[0m \u001b[0;34m=\u001b[0m \u001b[0mplt\u001b[0m\u001b[0;34m.\u001b[0m\u001b[0msubplots\u001b[0m\u001b[0;34m(\u001b[0m\u001b[0mfigsize\u001b[0m\u001b[0;34m=\u001b[0m\u001b[0;34m(\u001b[0m\u001b[0;36m8\u001b[0m\u001b[0;34m,\u001b[0m\u001b[0;36m6\u001b[0m\u001b[0;34m)\u001b[0m\u001b[0;34m)\u001b[0m\u001b[0;34m\u001b[0m\u001b[0;34m\u001b[0m\u001b[0m\n",
      "\u001b[0;32m<ipython-input-27-4a6209603ec1>\u001b[0m in \u001b[0;36minterpolate1D\u001b[0;34m(combineLimits, x, nBins, f)\u001b[0m\n\u001b[1;32m    116\u001b[0m     \u001b[0mfuncs\u001b[0m\u001b[0;34m=\u001b[0m\u001b[0;34m[\u001b[0m\u001b[0;34m]\u001b[0m\u001b[0;34m\u001b[0m\u001b[0;34m\u001b[0m\u001b[0m\n\u001b[1;32m    117\u001b[0m     \u001b[0;32mfor\u001b[0m \u001b[0mi\u001b[0m \u001b[0;32min\u001b[0m \u001b[0mrange\u001b[0m\u001b[0;34m(\u001b[0m\u001b[0;36m5\u001b[0m\u001b[0;34m)\u001b[0m\u001b[0;34m:\u001b[0m\u001b[0;34m\u001b[0m\u001b[0;34m\u001b[0m\u001b[0m\n\u001b[0;32m--> 118\u001b[0;31m         \u001b[0my\u001b[0m \u001b[0;34m=\u001b[0m \u001b[0mcombineLimits\u001b[0m\u001b[0;34m[\u001b[0m\u001b[0;34m:\u001b[0m\u001b[0;34m,\u001b[0m\u001b[0mi\u001b[0m\u001b[0;34m]\u001b[0m\u001b[0;34m\u001b[0m\u001b[0;34m\u001b[0m\u001b[0m\n\u001b[0m\u001b[1;32m    119\u001b[0m \u001b[0;31m#         rbfi = Rbf(x,y,function='multiquadric', epsilon=epsilon,smooth=smooth)\u001b[0m\u001b[0;34m\u001b[0m\u001b[0;34m\u001b[0m\u001b[0;34m\u001b[0m\u001b[0m\n\u001b[1;32m    120\u001b[0m         \u001b[0;32mif\u001b[0m \u001b[0mf\u001b[0m\u001b[0;34m==\u001b[0m\u001b[0;34m\"linear\"\u001b[0m\u001b[0;34m:\u001b[0m\u001b[0;34m\u001b[0m\u001b[0;34m\u001b[0m\u001b[0m\n",
      "\u001b[0;31mIndexError\u001b[0m: too many indices for array"
     ]
    }
   ],
   "source": [
    "m4p5GeV_i, ctau4p5_i,funcs_4p5 = interpolate1D(arr4p5GeV, ctau4p5GeV,-1)\n",
    "\n",
    "plt.style.use(hep.style.CMS) \n",
    "\n",
    "fig, ax = plt.subplots(figsize=(8,6))\n",
    "ax = plotlimit(ax,m4p5GeV_i,ctau4p5_i,True)\n",
    "# ax = plotlimit(ax,m4p5GeV_i,ctau4p5_i,False)\n",
    "# ax = plotlimit(ax,m4GeV_i,ctau4GeV_i,False)\n",
    "\n",
    "ax.plot(ctau4p5_i,f_xsec(4.5)(ctau4p5_i),label=\"Theory, m=4.5GeV\")\n",
    "# ax.plot(ctau4GeV_i,f_xsec(4)(ctau4GeV_i),label=\"Theory, m=4GeV\")\n",
    "\n",
    "ct_xing_4p5 = intersect(funcs_4p5, f_xsec(4.5),[500,600,700,800,1000])\n",
    "ct_xing_4p5_up = intersect(funcs_4p5, f_xsec(4.5),[90,100,100,140,150])\n",
    "# ct_xing_4p5 = intersect(funcs_4p5, f_xsec(4.5),1000)\n",
    "# ct_xing_4p5_up = intersect(funcs_4p5, f_xsec(4.5),80)\n",
    "\n",
    "\n",
    "showXings=True\n",
    "if showXings:\n",
    "    for sol in ct_xing_4p5_up:\n",
    "        ax.vlines(sol,0,f_xsec(4.5)(sol))\n",
    "    for sol in ct_xing_4p5:\n",
    "        ax.vlines(sol,0,f_xsec(4.5)(sol),color='r')\n",
    "showInterPolation=False\n",
    "if showInterPolation:\n",
    "#     x = np.logspace(1,4,20)\n",
    "    x = ctau4p5_i\n",
    "    ax = plotlimit(ax,\n",
    "                   np.array([funcs_4p5[i](x) for i in range(5)]).transpose(),\n",
    "                   x,True)\n",
    "    ax.get_lines()[0].set_color('r')\n",
    "\n",
    "ax.set_xlabel(\"ctau[mm]\")\n",
    "ax.set_ylabel(\"95% CL Limit on $\\sigma$[pb]\")\n",
    "ax.set_yscale(\"log\")\n",
    "ax.set_xscale(\"log\")\n",
    "# ax.legend([\"m=4.5GeV\",\"Theory\"])\n",
    "ax.legend()"
   ]
  },
  {
   "cell_type": "code",
   "execution_count": 42,
   "metadata": {},
   "outputs": [
    {
     "ename": "IndexError",
     "evalue": "too many indices for array",
     "output_type": "error",
     "traceback": [
      "\u001b[0;31m---------------------------------------------------------------------------\u001b[0m",
      "\u001b[0;31mIndexError\u001b[0m                                Traceback (most recent call last)",
      "\u001b[0;32m<ipython-input-42-70d8e8559171>\u001b[0m in \u001b[0;36m<module>\u001b[0;34m\u001b[0m\n\u001b[0;32m----> 1\u001b[0;31m \u001b[0mm4p6GeV_i\u001b[0m\u001b[0;34m,\u001b[0m \u001b[0mctau4p6_i\u001b[0m\u001b[0;34m,\u001b[0m\u001b[0mfuncs_4p6\u001b[0m \u001b[0;34m=\u001b[0m \u001b[0minterpolate1D\u001b[0m\u001b[0;34m(\u001b[0m\u001b[0marr4p6GeV\u001b[0m\u001b[0;34m,\u001b[0m \u001b[0mctau4p6GeV\u001b[0m\u001b[0;34m,\u001b[0m\u001b[0;34m-\u001b[0m\u001b[0;36m1\u001b[0m\u001b[0;34m)\u001b[0m\u001b[0;34m\u001b[0m\u001b[0;34m\u001b[0m\u001b[0m\n\u001b[0m\u001b[1;32m      2\u001b[0m \u001b[0;34m\u001b[0m\u001b[0m\n\u001b[1;32m      3\u001b[0m \u001b[0mplt\u001b[0m\u001b[0;34m.\u001b[0m\u001b[0mstyle\u001b[0m\u001b[0;34m.\u001b[0m\u001b[0muse\u001b[0m\u001b[0;34m(\u001b[0m\u001b[0mhep\u001b[0m\u001b[0;34m.\u001b[0m\u001b[0mstyle\u001b[0m\u001b[0;34m.\u001b[0m\u001b[0mCMS\u001b[0m\u001b[0;34m)\u001b[0m\u001b[0;34m\u001b[0m\u001b[0;34m\u001b[0m\u001b[0m\n\u001b[1;32m      4\u001b[0m \u001b[0;34m\u001b[0m\u001b[0m\n\u001b[1;32m      5\u001b[0m \u001b[0mfig\u001b[0m\u001b[0;34m,\u001b[0m \u001b[0max\u001b[0m \u001b[0;34m=\u001b[0m \u001b[0mplt\u001b[0m\u001b[0;34m.\u001b[0m\u001b[0msubplots\u001b[0m\u001b[0;34m(\u001b[0m\u001b[0mfigsize\u001b[0m\u001b[0;34m=\u001b[0m\u001b[0;34m(\u001b[0m\u001b[0;36m8\u001b[0m\u001b[0;34m,\u001b[0m\u001b[0;36m6\u001b[0m\u001b[0;34m)\u001b[0m\u001b[0;34m)\u001b[0m\u001b[0;34m\u001b[0m\u001b[0;34m\u001b[0m\u001b[0m\n",
      "\u001b[0;32m<ipython-input-27-4a6209603ec1>\u001b[0m in \u001b[0;36minterpolate1D\u001b[0;34m(combineLimits, x, nBins, f)\u001b[0m\n\u001b[1;32m    116\u001b[0m     \u001b[0mfuncs\u001b[0m\u001b[0;34m=\u001b[0m\u001b[0;34m[\u001b[0m\u001b[0;34m]\u001b[0m\u001b[0;34m\u001b[0m\u001b[0;34m\u001b[0m\u001b[0m\n\u001b[1;32m    117\u001b[0m     \u001b[0;32mfor\u001b[0m \u001b[0mi\u001b[0m \u001b[0;32min\u001b[0m \u001b[0mrange\u001b[0m\u001b[0;34m(\u001b[0m\u001b[0;36m5\u001b[0m\u001b[0;34m)\u001b[0m\u001b[0;34m:\u001b[0m\u001b[0;34m\u001b[0m\u001b[0;34m\u001b[0m\u001b[0m\n\u001b[0;32m--> 118\u001b[0;31m         \u001b[0my\u001b[0m \u001b[0;34m=\u001b[0m \u001b[0mcombineLimits\u001b[0m\u001b[0;34m[\u001b[0m\u001b[0;34m:\u001b[0m\u001b[0;34m,\u001b[0m\u001b[0mi\u001b[0m\u001b[0;34m]\u001b[0m\u001b[0;34m\u001b[0m\u001b[0;34m\u001b[0m\u001b[0m\n\u001b[0m\u001b[1;32m    119\u001b[0m \u001b[0;31m#         rbfi = Rbf(x,y,function='multiquadric', epsilon=epsilon,smooth=smooth)\u001b[0m\u001b[0;34m\u001b[0m\u001b[0;34m\u001b[0m\u001b[0;34m\u001b[0m\u001b[0m\n\u001b[1;32m    120\u001b[0m         \u001b[0;32mif\u001b[0m \u001b[0mf\u001b[0m\u001b[0;34m==\u001b[0m\u001b[0;34m\"linear\"\u001b[0m\u001b[0;34m:\u001b[0m\u001b[0;34m\u001b[0m\u001b[0;34m\u001b[0m\u001b[0m\n",
      "\u001b[0;31mIndexError\u001b[0m: too many indices for array"
     ]
    }
   ],
   "source": [
    "m4p6GeV_i, ctau4p6_i,funcs_4p6 = interpolate1D(arr4p6GeV, ctau4p6GeV,-1)\n",
    "\n",
    "plt.style.use(hep.style.CMS) \n",
    "\n",
    "fig, ax = plt.subplots(figsize=(8,6))\n",
    "ax = plotlimit(ax,m4p6GeV_i,ctau4p6_i,True)\n",
    "\n",
    "\n",
    "ax.plot(ctau4p6_i,f_xsec(4.6)(ctau4p6_i),label=\"Theory, m=4.6GeV\")\n",
    "# ax.plot(ctau4GeV_i,f_xsec(4)(ctau4GeV_i),label=\"Theory, m=4GeV\")\n",
    "\n",
    "ct_xing_4p6    = intersect(funcs_4p6, f_xsec(4.6),[500,600,700,800,1000])\n",
    "ct_xing_4p6_up = intersect(funcs_4p6, f_xsec(4.6),[90,100,91,130,140])\n",
    "# ct_xing_4p6    = intersect(funcs_4p6, f_xsec(4.6),1000)\n",
    "# ct_xing_4p6_up = intersect(funcs_4p6, f_xsec(4.6),80)\n",
    "\n",
    "showXings=False\n",
    "if showXings:\n",
    "    for sol in ct_xing_4p6_up:\n",
    "        ax.vlines(sol,0,f_xsec(4.6)(sol))\n",
    "    for sol in ct_xing_4p6:\n",
    "        ax.vlines(sol,0,f_xsec(4.6)(sol),color='r')\n",
    "\n",
    "ax.set_xlabel(\"ctau[mm]\")\n",
    "ax.set_ylabel(\"95% CL Limit on $\\sigma$[pb]\")\n",
    "ax.set_yscale(\"log\")\n",
    "ax.set_xscale(\"log\")\n",
    "ax.legend()"
   ]
  },
  {
   "cell_type": "code",
   "execution_count": null,
   "metadata": {},
   "outputs": [],
   "source": []
  },
  {
   "cell_type": "code",
   "execution_count": 39,
   "metadata": {},
   "outputs": [],
   "source": [
    "x=np.array([500,800,1000,2000])\n"
   ]
  },
  {
   "cell_type": "code",
   "execution_count": 41,
   "metadata": {},
   "outputs": [
    {
     "data": {
      "text/plain": [
       "array([[0.00649002, 0.00791219, 0.01013077, 0.01356321, 0.01821074],\n",
       "       [0.01630654, 0.01987981, 0.02545411, 0.03417977, 0.04599841]])"
      ]
     },
     "execution_count": 41,
     "metadata": {},
     "output_type": "execute_result"
    }
   ],
   "source": [
    "m5GeV_i"
   ]
  },
  {
   "cell_type": "code",
   "execution_count": 50,
   "metadata": {},
   "outputs": [
    {
     "name": "stderr",
     "output_type": "stream",
     "text": [
      "/cvmfs/sft.cern.ch/lcg/views/LCG_98python3/x86_64-centos7-gcc9-opt/lib/python3.7/site-packages/scipy/optimize/minpack.py:175: RuntimeWarning: The iteration is not making good progress, as measured by the \n",
      "  improvement from the last five Jacobian evaluations.\n",
      "  warnings.warn(msg, RuntimeWarning)\n"
     ]
    },
    {
     "data": {
      "text/plain": [
       "array([ 425.60336991,  330.79666302,  246.89618182, 1000.00270916,\n",
       "        999.78626074])"
      ]
     },
     "execution_count": 50,
     "metadata": {},
     "output_type": "execute_result"
    }
   ],
   "source": [
    "intersect(funcs_5, f_xsec(5),500)"
   ]
  },
  {
   "cell_type": "code",
   "execution_count": null,
   "metadata": {},
   "outputs": [],
   "source": []
  },
  {
   "cell_type": "code",
   "execution_count": 71,
   "metadata": {},
   "outputs": [
    {
     "data": {
      "text/plain": [
       "0.00519375"
      ]
     },
     "execution_count": 71,
     "metadata": {},
     "output_type": "execute_result"
    }
   ],
   "source": [
    "f_xsec(5)(800)"
   ]
  },
  {
   "cell_type": "code",
   "execution_count": 70,
   "metadata": {},
   "outputs": [
    {
     "data": {
      "text/plain": [
       "array(0.01743227)"
      ]
     },
     "execution_count": 70,
     "metadata": {},
     "output_type": "execute_result"
    }
   ],
   "source": [
    "funcs_5_2s[1](800)"
   ]
  },
  {
   "cell_type": "code",
   "execution_count": 74,
   "metadata": {},
   "outputs": [
    {
     "name": "stderr",
     "output_type": "stream",
     "text": [
      "/cvmfs/sft.cern.ch/lcg/views/LCG_98python3/x86_64-centos7-gcc9-opt/lib/python3.7/site-packages/scipy/optimize/minpack.py:175: RuntimeWarning: The iteration is not making good progress, as measured by the \n",
      "  improvement from the last five Jacobian evaluations.\n",
      "  warnings.warn(msg, RuntimeWarning)\n"
     ]
    },
    {
     "data": {
      "text/plain": [
       "array([356.76643477, 356.76643477])"
      ]
     },
     "execution_count": 74,
     "metadata": {},
     "output_type": "execute_result"
    }
   ],
   "source": [
    "intersect(funcs_5_2s,f_xsec(5),[200,1000])"
   ]
  },
  {
   "cell_type": "code",
   "execution_count": 72,
   "metadata": {},
   "outputs": [],
   "source": [
    "funcs_5_2s = [funcs_5[0],funcs_5[0]]"
   ]
  },
  {
   "cell_type": "code",
   "execution_count": 43,
   "metadata": {},
   "outputs": [
    {
     "ename": "IndexError",
     "evalue": "too many indices for array",
     "output_type": "error",
     "traceback": [
      "\u001b[0;31m---------------------------------------------------------------------------\u001b[0m",
      "\u001b[0;31mIndexError\u001b[0m                                Traceback (most recent call last)",
      "\u001b[0;32m<ipython-input-43-d56c93d9d39f>\u001b[0m in \u001b[0;36m<module>\u001b[0;34m\u001b[0m\n\u001b[0;32m----> 1\u001b[0;31m \u001b[0mm5GeV_i\u001b[0m\u001b[0;34m,\u001b[0m \u001b[0mctau5_i\u001b[0m\u001b[0;34m,\u001b[0m\u001b[0mfuncs_5\u001b[0m \u001b[0;34m=\u001b[0m \u001b[0minterpolate1D\u001b[0m\u001b[0;34m(\u001b[0m\u001b[0marr5GeV\u001b[0m\u001b[0;34m,\u001b[0m \u001b[0mctau5GeV\u001b[0m\u001b[0;34m,\u001b[0m\u001b[0;34m-\u001b[0m\u001b[0;36m1\u001b[0m\u001b[0;34m)\u001b[0m\u001b[0;34m\u001b[0m\u001b[0;34m\u001b[0m\u001b[0m\n\u001b[0m\u001b[1;32m      2\u001b[0m \u001b[0;34m\u001b[0m\u001b[0m\n\u001b[1;32m      3\u001b[0m \u001b[0mplt\u001b[0m\u001b[0;34m.\u001b[0m\u001b[0mstyle\u001b[0m\u001b[0;34m.\u001b[0m\u001b[0muse\u001b[0m\u001b[0;34m(\u001b[0m\u001b[0mhep\u001b[0m\u001b[0;34m.\u001b[0m\u001b[0mstyle\u001b[0m\u001b[0;34m.\u001b[0m\u001b[0mCMS\u001b[0m\u001b[0;34m)\u001b[0m\u001b[0;34m\u001b[0m\u001b[0;34m\u001b[0m\u001b[0m\n\u001b[1;32m      4\u001b[0m \u001b[0;34m\u001b[0m\u001b[0m\n\u001b[1;32m      5\u001b[0m \u001b[0mfig\u001b[0m\u001b[0;34m,\u001b[0m \u001b[0max\u001b[0m \u001b[0;34m=\u001b[0m \u001b[0mplt\u001b[0m\u001b[0;34m.\u001b[0m\u001b[0msubplots\u001b[0m\u001b[0;34m(\u001b[0m\u001b[0mfigsize\u001b[0m\u001b[0;34m=\u001b[0m\u001b[0;34m(\u001b[0m\u001b[0;36m8\u001b[0m\u001b[0;34m,\u001b[0m\u001b[0;36m6\u001b[0m\u001b[0;34m)\u001b[0m\u001b[0;34m)\u001b[0m\u001b[0;34m\u001b[0m\u001b[0;34m\u001b[0m\u001b[0m\n",
      "\u001b[0;32m<ipython-input-27-4a6209603ec1>\u001b[0m in \u001b[0;36minterpolate1D\u001b[0;34m(combineLimits, x, nBins, f)\u001b[0m\n\u001b[1;32m    116\u001b[0m     \u001b[0mfuncs\u001b[0m\u001b[0;34m=\u001b[0m\u001b[0;34m[\u001b[0m\u001b[0;34m]\u001b[0m\u001b[0;34m\u001b[0m\u001b[0;34m\u001b[0m\u001b[0m\n\u001b[1;32m    117\u001b[0m     \u001b[0;32mfor\u001b[0m \u001b[0mi\u001b[0m \u001b[0;32min\u001b[0m \u001b[0mrange\u001b[0m\u001b[0;34m(\u001b[0m\u001b[0;36m5\u001b[0m\u001b[0;34m)\u001b[0m\u001b[0;34m:\u001b[0m\u001b[0;34m\u001b[0m\u001b[0;34m\u001b[0m\u001b[0m\n\u001b[0;32m--> 118\u001b[0;31m         \u001b[0my\u001b[0m \u001b[0;34m=\u001b[0m \u001b[0mcombineLimits\u001b[0m\u001b[0;34m[\u001b[0m\u001b[0;34m:\u001b[0m\u001b[0;34m,\u001b[0m\u001b[0mi\u001b[0m\u001b[0;34m]\u001b[0m\u001b[0;34m\u001b[0m\u001b[0;34m\u001b[0m\u001b[0m\n\u001b[0m\u001b[1;32m    119\u001b[0m \u001b[0;31m#         rbfi = Rbf(x,y,function='multiquadric', epsilon=epsilon,smooth=smooth)\u001b[0m\u001b[0;34m\u001b[0m\u001b[0;34m\u001b[0m\u001b[0;34m\u001b[0m\u001b[0m\n\u001b[1;32m    120\u001b[0m         \u001b[0;32mif\u001b[0m \u001b[0mf\u001b[0m\u001b[0;34m==\u001b[0m\u001b[0;34m\"linear\"\u001b[0m\u001b[0;34m:\u001b[0m\u001b[0;34m\u001b[0m\u001b[0;34m\u001b[0m\u001b[0m\n",
      "\u001b[0;31mIndexError\u001b[0m: too many indices for array"
     ]
    }
   ],
   "source": [
    "m5GeV_i, ctau5_i,funcs_5 = interpolate1D(arr5GeV, ctau5GeV,-1)\n",
    "\n",
    "plt.style.use(hep.style.CMS) \n",
    "\n",
    "fig, ax = plt.subplots(figsize=(8,6))\n",
    "ax = plotlimit(ax,m5GeV_i,ctau5_i,True)\n",
    "\n",
    "\n",
    "ax.plot(ctau5_i,f_xsec(5)(ctau5_i),label=\"Theory, m=5GeV\")\n",
    "\n",
    "ax.set_xlabel(\"ctau[mm]\")\n",
    "ax.set_ylabel(\"95% CL Limit on $\\sigma$[pb]\")\n",
    "ax.set_yscale(\"log\")\n",
    "ax.set_xscale(\"log\")\n",
    "# ax.legend([\"m=4.5GeV\",\"Theory\"])\n",
    "ax.legend()"
   ]
  },
  {
   "cell_type": "code",
   "execution_count": 116,
   "metadata": {},
   "outputs": [
    {
     "data": {
      "text/plain": [
       "array([3.39047357, 0.01656077, 0.01044071, 0.01191657, 0.01612292,\n",
       "       0.01703012, 0.03862158, 0.07502932])"
      ]
     },
     "execution_count": 116,
     "metadata": {},
     "output_type": "execute_result"
    }
   ],
   "source": [
    "funcs[0](ctau_i)"
   ]
  },
  {
   "cell_type": "code",
   "execution_count": 44,
   "metadata": {},
   "outputs": [
    {
     "data": {
      "text/plain": [
       "<matplotlib.legend.Legend at 0x7f645931d350>"
      ]
     },
     "execution_count": 44,
     "metadata": {},
     "output_type": "execute_result"
    },
    {
     "data": {
      "image/png": "[encoded data removed]",
      "text/plain": [
       "<Figure size 576x432 with 1 Axes>"
      ]
     },
     "metadata": {
      "needs_background": "light"
     },
     "output_type": "display_data"
    }
   ],
   "source": [
    "m2GeV_i, ctau_i,funcs_2 = interpolate1D(arr2GeV, ctau2GeV,-1)\n",
    "\n",
    "plt.style.use(hep.style.CMS) \n",
    "\n",
    "fig, ax = plt.subplots(figsize=(8,6))\n",
    "ax = plotlimit(ax,m2GeV_i,ctau_i,True)\n",
    "xSection2GeV = 4.2380/(ctau_i/100)\n",
    "# ax = plotlimit(ax,m7GeV,ctau)\n",
    "\n",
    "ax.plot(ctau_i,xSection2GeV,label=\"Theory\")\n",
    "\n",
    "ax.set_xlabel(\"ctau[mm]\")\n",
    "ax.set_ylabel(\"95% CL Limit on $\\sigma$[pb]\")\n",
    "ax.set_yscale(\"log\")\n",
    "ax.set_xscale(\"log\")\n",
    "ax.legend([\"m=2GeV\",\"Theory\"])"
   ]
  },
  {
   "cell_type": "code",
   "execution_count": 45,
   "metadata": {},
   "outputs": [
    {
     "data": {
      "text/plain": [
       "<matplotlib.legend.Legend at 0x7f64590b4710>"
      ]
     },
     "execution_count": 45,
     "metadata": {},
     "output_type": "execute_result"
    },
    {
     "data": {
      "image/png": "[encoded data removed]",
      "text/plain": [
       "<Figure size 576x432 with 1 Axes>"
      ]
     },
     "metadata": {
      "needs_background": "light"
     },
     "output_type": "display_data"
    }
   ],
   "source": [
    "m1GeV_i, ctau_i,funcs_1 = interpolate1D(arr1GeV, ctau1GeV,-1)\n",
    "\n",
    "plt.style.use(hep.style.CMS) \n",
    "\n",
    "fig, ax = plt.subplots(figsize=(8,6))\n",
    "ax = plotlimit(ax,m1GeV_i,ctau_i,True)\n",
    "xSection1GeV = 135.7000/(ctau_i/100)\n",
    "\n",
    "ax.plot(ctau_i,xSection1GeV,label=\"Theory\")\n",
    "\n",
    "ax.set_xlabel(\"ctau[mm]\")\n",
    "ax.set_ylabel(\"95% CL Limit on $\\sigma$[pb]\")\n",
    "ax.set_yscale(\"log\")\n",
    "ax.set_xscale(\"log\")\n",
    "ax.legend([\"m=1GeV\",\"Theory\"])"
   ]
  },
  {
   "cell_type": "code",
   "execution_count": 66,
   "metadata": {},
   "outputs": [
    {
     "name": "stderr",
     "output_type": "stream",
     "text": [
      "/cvmfs/sft.cern.ch/lcg/views/LCG_98python3/x86_64-centos7-gcc9-opt/lib/python3.7/site-packages/scipy/optimize/minpack.py:175: RuntimeWarning: The iteration is not making good progress, as measured by the \n",
      "  improvement from the last ten iterations.\n",
      "  warnings.warn(msg, RuntimeWarning)\n"
     ]
    },
    {
     "data": {
      "text/plain": [
       "array([638.60916944, 515.37408859, 157.71999539, 500.15383467,\n",
       "       500.20583664])"
      ]
     },
     "execution_count": 66,
     "metadata": {},
     "output_type": "execute_result"
    }
   ],
   "source": [
    "intersect(funcs_5, f_xsec(5),1000)"
   ]
  },
  {
   "cell_type": "code",
   "execution_count": 77,
   "metadata": {},
   "outputs": [
    {
     "name": "stderr",
     "output_type": "stream",
     "text": [
      "/cvmfs/sft.cern.ch/lcg/views/LCG_98python3/x86_64-centos7-gcc9-opt/lib/python3.7/site-packages/scipy/optimize/minpack.py:175: RuntimeWarning: The iteration is not making good progress, as measured by the \n",
      "  improvement from the last ten iterations.\n",
      "  warnings.warn(msg, RuntimeWarning)\n"
     ]
    },
    {
     "data": {
      "text/plain": [
       "array([ 98.74927804,  99.74152127, 166.27800486, 188.82538815,\n",
       "       200.29138719])"
      ]
     },
     "execution_count": 77,
     "metadata": {},
     "output_type": "execute_result"
    }
   ],
   "source": [
    "intersect(funcs_4p5, f_xsec(4.5),70)"
   ]
  },
  {
   "cell_type": "code",
   "execution_count": 87,
   "metadata": {},
   "outputs": [
    {
     "data": {
      "text/plain": [
       "array([70.18613339, 73.66922238, 77.14105656, 81.32815172, 98.67298796])"
      ]
     },
     "execution_count": 87,
     "metadata": {},
     "output_type": "execute_result"
    }
   ],
   "source": [
    "intersect(funcs, f_xsec(4),70)"
   ]
  },
  {
   "cell_type": "markdown",
   "metadata": {},
   "source": [
    "# V^2 v.s. M limit"
   ]
  },
  {
   "cell_type": "code",
   "execution_count": 65,
   "metadata": {},
   "outputs": [
    {
     "data": {
      "text/plain": [
       "array([5.62789230e-06, 5.36180493e-06, 5.12048989e-06, 4.85686680e-06,\n",
       "       4.00312191e-06])"
      ]
     },
     "execution_count": 65,
     "metadata": {},
     "output_type": "execute_result"
    }
   ],
   "source": [
    "f_ctau(4)(ct_xing_4_up)"
   ]
  },
  {
   "cell_type": "code",
   "execution_count": 69,
   "metadata": {},
   "outputs": [
    {
     "data": {
      "text/plain": [
       "array([2.19748442e-06, 2.17562352e-06, 1.30504332e-06, 1.14920987e-06,\n",
       "       1.08342152e-06])"
      ]
     },
     "execution_count": 69,
     "metadata": {},
     "output_type": "execute_result"
    }
   ],
   "source": [
    "f_ctau(4.5)(ct_xing_4p5_up)"
   ]
  },
  {
   "cell_type": "code",
   "execution_count": 73,
   "metadata": {},
   "outputs": [
    {
     "name": "stderr",
     "output_type": "stream",
     "text": [
      "/cvmfs/sft.cern.ch/lcg/views/LCG_98python3/x86_64-centos7-gcc9-opt/lib/python3.7/site-packages/scipy/optimize/minpack.py:175: RuntimeWarning: The iteration is not making good progress, as measured by the \n",
      "  improvement from the last five Jacobian evaluations.\n",
      "  warnings.warn(msg, RuntimeWarning)\n"
     ]
    },
    {
     "data": {
      "text/plain": [
       "array([129.87721187, 117.72952361, 166.27800486, 387.66628596,\n",
       "       200.29046625])"
      ]
     },
     "execution_count": 73,
     "metadata": {},
     "output_type": "execute_result"
    }
   ],
   "source": [
    "intersect(funcs_4p5, f_xsec(4.5),120)"
   ]
  },
  {
   "cell_type": "code",
   "execution_count": 82,
   "metadata": {},
   "outputs": [
    {
     "data": {
      "text/plain": [
       "array([58.87874915, 65.22626211, 74.0598239 , 80.81095001, 98.0278493 ])"
      ]
     },
     "execution_count": 82,
     "metadata": {},
     "output_type": "execute_result"
    }
   ],
   "source": [
    "ct_xing_4_up"
   ]
  },
  {
   "cell_type": "code",
   "execution_count": 81,
   "metadata": {},
   "outputs": [
    {
     "data": {
      "text/plain": [
       "array([ 95.3903089 ,  98.97617568, 166.2722448 , 188.82314256,\n",
       "       208.4606492 ])"
      ]
     },
     "execution_count": 81,
     "metadata": {},
     "output_type": "execute_result"
    }
   ],
   "source": [
    "ct_xing_4p5_up"
   ]
  },
  {
   "cell_type": "code",
   "execution_count": 92,
   "metadata": {},
   "outputs": [
    {
     "data": {
      "text/plain": [
       "array([2.03796464e-07, 2.35981137e-07, 2.91265337e-07, 3.88488367e-07,\n",
       "       4.33444849e-07])"
      ]
     },
     "execution_count": 92,
     "metadata": {},
     "output_type": "execute_result"
    }
   ],
   "source": [
    "                   f_ctau(4.5)(ct_xing_4p5)"
   ]
  },
  {
   "cell_type": "code",
   "execution_count": 50,
   "metadata": {},
   "outputs": [
    {
     "ename": "ValueError",
     "evalue": "x and y must have same first dimension, but have shapes (3,) and (4,)",
     "output_type": "error",
     "traceback": [
      "\u001b[0;31m---------------------------------------------------------------------------\u001b[0m",
      "\u001b[0;31mValueError\u001b[0m                                Traceback (most recent call last)",
      "\u001b[0;32m<ipython-input-50-1f0c8fcd0b74>\u001b[0m in \u001b[0;36m<module>\u001b[0;34m\u001b[0m\n\u001b[1;32m     25\u001b[0m \u001b[0;34m\u001b[0m\u001b[0m\n\u001b[1;32m     26\u001b[0m \u001b[0mfig\u001b[0m\u001b[0;34m,\u001b[0m \u001b[0max\u001b[0m \u001b[0;34m=\u001b[0m \u001b[0mplt\u001b[0m\u001b[0;34m.\u001b[0m\u001b[0msubplots\u001b[0m\u001b[0;34m(\u001b[0m\u001b[0mfigsize\u001b[0m\u001b[0;34m=\u001b[0m\u001b[0;34m(\u001b[0m\u001b[0;36m8\u001b[0m\u001b[0;34m,\u001b[0m\u001b[0;36m6\u001b[0m\u001b[0;34m)\u001b[0m\u001b[0;34m)\u001b[0m\u001b[0;34m\u001b[0m\u001b[0;34m\u001b[0m\u001b[0m\n\u001b[0;32m---> 27\u001b[0;31m \u001b[0max\u001b[0m \u001b[0;34m=\u001b[0m \u001b[0mplotlimit\u001b[0m\u001b[0;34m(\u001b[0m\u001b[0max\u001b[0m\u001b[0;34m,\u001b[0m\u001b[0mlimits\u001b[0m\u001b[0;34m,\u001b[0m\u001b[0mmasses\u001b[0m\u001b[0;34m)\u001b[0m\u001b[0;34m\u001b[0m\u001b[0;34m\u001b[0m\u001b[0m\n\u001b[0m\u001b[1;32m     28\u001b[0m \u001b[0;34m\u001b[0m\u001b[0m\n\u001b[1;32m     29\u001b[0m \u001b[0;31m# ct_xing_4_up = intersect(funcs, f_xsec(4),70)\u001b[0m\u001b[0;34m\u001b[0m\u001b[0;34m\u001b[0m\u001b[0;34m\u001b[0m\u001b[0m\n",
      "\u001b[0;32m<ipython-input-46-4e18f6dc9915>\u001b[0m in \u001b[0;36mplotlimit\u001b[0;34m(ax, expected_CLs, poi_values, showBands, legend)\u001b[0m\n\u001b[1;32m     26\u001b[0m     \u001b[0;31m# expected CLs\u001b[0m\u001b[0;34m\u001b[0m\u001b[0;34m\u001b[0m\u001b[0;34m\u001b[0m\u001b[0m\n\u001b[1;32m     27\u001b[0m     \u001b[0;32mif\u001b[0m \u001b[0mlegend\u001b[0m\u001b[0;34m:\u001b[0m\u001b[0;34m\u001b[0m\u001b[0;34m\u001b[0m\u001b[0m\n\u001b[0;32m---> 28\u001b[0;31m         \u001b[0max\u001b[0m\u001b[0;34m.\u001b[0m\u001b[0mplot\u001b[0m\u001b[0;34m(\u001b[0m\u001b[0mpoi_values\u001b[0m\u001b[0;34m,\u001b[0m \u001b[0mexpected_CLs\u001b[0m\u001b[0;34m[\u001b[0m\u001b[0;34m:\u001b[0m\u001b[0;34m,\u001b[0m \u001b[0;36m2\u001b[0m\u001b[0;34m]\u001b[0m\u001b[0;34m,\u001b[0m \u001b[0;34m\"--\"\u001b[0m\u001b[0;34m,\u001b[0m \u001b[0mcolor\u001b[0m\u001b[0;34m=\u001b[0m\u001b[0;34m\"black\"\u001b[0m\u001b[0;34m,\u001b[0m \u001b[0mlabel\u001b[0m\u001b[0;34m=\u001b[0m\u001b[0;34mr\"expected CL$_S$\"\u001b[0m\u001b[0;34m)\u001b[0m\u001b[0;34m\u001b[0m\u001b[0;34m\u001b[0m\u001b[0m\n\u001b[0m\u001b[1;32m     29\u001b[0m     \u001b[0;32melse\u001b[0m\u001b[0;34m:\u001b[0m\u001b[0;34m\u001b[0m\u001b[0;34m\u001b[0m\u001b[0m\n\u001b[1;32m     30\u001b[0m         \u001b[0max\u001b[0m\u001b[0;34m.\u001b[0m\u001b[0mplot\u001b[0m\u001b[0;34m(\u001b[0m\u001b[0mpoi_values\u001b[0m\u001b[0;34m,\u001b[0m \u001b[0mexpected_CLs\u001b[0m\u001b[0;34m[\u001b[0m\u001b[0;34m:\u001b[0m\u001b[0;34m,\u001b[0m \u001b[0;36m2\u001b[0m\u001b[0;34m]\u001b[0m\u001b[0;34m,\u001b[0m \u001b[0;34m\"--\"\u001b[0m\u001b[0;34m,\u001b[0m \u001b[0mcolor\u001b[0m\u001b[0;34m=\u001b[0m\u001b[0;34m\"black\"\u001b[0m\u001b[0;34m,\u001b[0m \u001b[0mlabel\u001b[0m\u001b[0;34m=\u001b[0m\u001b[0;34m'_nolegend_'\u001b[0m\u001b[0;34m)\u001b[0m\u001b[0;34m\u001b[0m\u001b[0;34m\u001b[0m\u001b[0m\n",
      "\u001b[0;32m~/work/LLP/coffeaenv/lib/python3.7/site-packages/matplotlib/axes/_axes.py\u001b[0m in \u001b[0;36mplot\u001b[0;34m(self, scalex, scaley, data, *args, **kwargs)\u001b[0m\n\u001b[1;32m   1603\u001b[0m         \"\"\"\n\u001b[1;32m   1604\u001b[0m         \u001b[0mkwargs\u001b[0m \u001b[0;34m=\u001b[0m \u001b[0mcbook\u001b[0m\u001b[0;34m.\u001b[0m\u001b[0mnormalize_kwargs\u001b[0m\u001b[0;34m(\u001b[0m\u001b[0mkwargs\u001b[0m\u001b[0;34m,\u001b[0m \u001b[0mmlines\u001b[0m\u001b[0;34m.\u001b[0m\u001b[0mLine2D\u001b[0m\u001b[0;34m)\u001b[0m\u001b[0;34m\u001b[0m\u001b[0;34m\u001b[0m\u001b[0m\n\u001b[0;32m-> 1605\u001b[0;31m         \u001b[0mlines\u001b[0m \u001b[0;34m=\u001b[0m \u001b[0;34m[\u001b[0m\u001b[0;34m*\u001b[0m\u001b[0mself\u001b[0m\u001b[0;34m.\u001b[0m\u001b[0m_get_lines\u001b[0m\u001b[0;34m(\u001b[0m\u001b[0;34m*\u001b[0m\u001b[0margs\u001b[0m\u001b[0;34m,\u001b[0m \u001b[0mdata\u001b[0m\u001b[0;34m=\u001b[0m\u001b[0mdata\u001b[0m\u001b[0;34m,\u001b[0m \u001b[0;34m**\u001b[0m\u001b[0mkwargs\u001b[0m\u001b[0;34m)\u001b[0m\u001b[0;34m]\u001b[0m\u001b[0;34m\u001b[0m\u001b[0;34m\u001b[0m\u001b[0m\n\u001b[0m\u001b[1;32m   1606\u001b[0m         \u001b[0;32mfor\u001b[0m \u001b[0mline\u001b[0m \u001b[0;32min\u001b[0m \u001b[0mlines\u001b[0m\u001b[0;34m:\u001b[0m\u001b[0;34m\u001b[0m\u001b[0;34m\u001b[0m\u001b[0m\n\u001b[1;32m   1607\u001b[0m             \u001b[0mself\u001b[0m\u001b[0;34m.\u001b[0m\u001b[0madd_line\u001b[0m\u001b[0;34m(\u001b[0m\u001b[0mline\u001b[0m\u001b[0;34m)\u001b[0m\u001b[0;34m\u001b[0m\u001b[0;34m\u001b[0m\u001b[0m\n",
      "\u001b[0;32m~/work/LLP/coffeaenv/lib/python3.7/site-packages/matplotlib/axes/_base.py\u001b[0m in \u001b[0;36m__call__\u001b[0;34m(self, data, *args, **kwargs)\u001b[0m\n\u001b[1;32m    313\u001b[0m                 \u001b[0mthis\u001b[0m \u001b[0;34m+=\u001b[0m \u001b[0margs\u001b[0m\u001b[0;34m[\u001b[0m\u001b[0;36m0\u001b[0m\u001b[0;34m]\u001b[0m\u001b[0;34m,\u001b[0m\u001b[0;34m\u001b[0m\u001b[0;34m\u001b[0m\u001b[0m\n\u001b[1;32m    314\u001b[0m                 \u001b[0margs\u001b[0m \u001b[0;34m=\u001b[0m \u001b[0margs\u001b[0m\u001b[0;34m[\u001b[0m\u001b[0;36m1\u001b[0m\u001b[0;34m:\u001b[0m\u001b[0;34m]\u001b[0m\u001b[0;34m\u001b[0m\u001b[0;34m\u001b[0m\u001b[0m\n\u001b[0;32m--> 315\u001b[0;31m             \u001b[0;32myield\u001b[0m \u001b[0;32mfrom\u001b[0m \u001b[0mself\u001b[0m\u001b[0;34m.\u001b[0m\u001b[0m_plot_args\u001b[0m\u001b[0;34m(\u001b[0m\u001b[0mthis\u001b[0m\u001b[0;34m,\u001b[0m \u001b[0mkwargs\u001b[0m\u001b[0;34m)\u001b[0m\u001b[0;34m\u001b[0m\u001b[0;34m\u001b[0m\u001b[0m\n\u001b[0m\u001b[1;32m    316\u001b[0m \u001b[0;34m\u001b[0m\u001b[0m\n\u001b[1;32m    317\u001b[0m     \u001b[0;32mdef\u001b[0m \u001b[0mget_next_color\u001b[0m\u001b[0;34m(\u001b[0m\u001b[0mself\u001b[0m\u001b[0;34m)\u001b[0m\u001b[0;34m:\u001b[0m\u001b[0;34m\u001b[0m\u001b[0;34m\u001b[0m\u001b[0m\n",
      "\u001b[0;32m~/work/LLP/coffeaenv/lib/python3.7/site-packages/matplotlib/axes/_base.py\u001b[0m in \u001b[0;36m_plot_args\u001b[0;34m(self, tup, kwargs, return_kwargs)\u001b[0m\n\u001b[1;32m    499\u001b[0m \u001b[0;34m\u001b[0m\u001b[0m\n\u001b[1;32m    500\u001b[0m         \u001b[0;32mif\u001b[0m \u001b[0mx\u001b[0m\u001b[0;34m.\u001b[0m\u001b[0mshape\u001b[0m\u001b[0;34m[\u001b[0m\u001b[0;36m0\u001b[0m\u001b[0;34m]\u001b[0m \u001b[0;34m!=\u001b[0m \u001b[0my\u001b[0m\u001b[0;34m.\u001b[0m\u001b[0mshape\u001b[0m\u001b[0;34m[\u001b[0m\u001b[0;36m0\u001b[0m\u001b[0;34m]\u001b[0m\u001b[0;34m:\u001b[0m\u001b[0;34m\u001b[0m\u001b[0;34m\u001b[0m\u001b[0m\n\u001b[0;32m--> 501\u001b[0;31m             raise ValueError(f\"x and y must have same first dimension, but \"\n\u001b[0m\u001b[1;32m    502\u001b[0m                              f\"have shapes {x.shape} and {y.shape}\")\n\u001b[1;32m    503\u001b[0m         \u001b[0;32mif\u001b[0m \u001b[0mx\u001b[0m\u001b[0;34m.\u001b[0m\u001b[0mndim\u001b[0m \u001b[0;34m>\u001b[0m \u001b[0;36m2\u001b[0m \u001b[0;32mor\u001b[0m \u001b[0my\u001b[0m\u001b[0;34m.\u001b[0m\u001b[0mndim\u001b[0m \u001b[0;34m>\u001b[0m \u001b[0;36m2\u001b[0m\u001b[0;34m:\u001b[0m\u001b[0;34m\u001b[0m\u001b[0;34m\u001b[0m\u001b[0m\n",
      "\u001b[0;31mValueError\u001b[0m: x and y must have same first dimension, but have shapes (3,) and (4,)"
     ]
    },
    {
     "data": {
      "image/png": "[encoded data removed]",
      "text/plain": [
       "<Figure size 576x432 with 1 Axes>"
      ]
     },
     "metadata": {
      "needs_background": "light"
     },
     "output_type": "display_data"
    }
   ],
   "source": [
    "plt.style.use(hep.style.CMS) \n",
    "\n",
    "ct_xing_4 = intersect(funcs, f_xsec(4),1000)\n",
    "ct_xing_1 = intersect(funcs_1, f_xsec(1),20000)\n",
    "ct_xing_2 = intersect(funcs_2, f_xsec(2),10000)\n",
    "#ct_xing_4p5 = intersect(funcs_4p5, f_xsec(4.5),[500,600,700,800,1000])\n",
    "#ct_xing_4p6    = intersect(funcs_4p6, f_xsec(4.6),[500,600,700,800,1000])\n",
    "\n",
    "# ct_xing_4p5 = intersect(funcs_4p5, f_xsec(4.5),1000)\n",
    "\n",
    "#ct_xing_5 = np.array([600,500,400,300,100])\n",
    "\n",
    "#EXO = np.genfromtxt(\"../limit/limit.csv\",delimiter=\",\")\n",
    "\n",
    "limits = np.array([f_ctau(1)(ct_xing_1),\n",
    "                   f_ctau(2)(ct_xing_2),\n",
    "                   f_ctau(4)(ct_xing_4),\n",
    "                   #f_ctau(4.5)(ct_xing_4p5),\n",
    "#                    f_ctau(4.6)(ct_xing_4p6),                   \n",
    "#                    f_ctau(5)(ct_xing_5),    \n",
    "                    np.array([2.5,3,4,6.5,10])*1e-7                   \n",
    "                  ])\n",
    "masses = [1,2,4,#4.5,5\n",
    "         ]\n",
    "\n",
    "fig, ax = plt.subplots(figsize=(8,6))\n",
    "ax = plotlimit(ax,limits,masses)\n",
    "\n",
    "# ct_xing_4_up = intersect(funcs, f_xsec(4),70)\n",
    "ct_xing_4_up = intersect(funcs, f_xsec(4),[70,70,75,70,70])\n",
    "\n",
    "# ct_xing_4p5_up = intersect(funcs_4p5, f_xsec(4.5),70)\n",
    "#ct_xing_4p5_up = intersect(funcs_4p5, f_xsec(4.5),[90,100,100,140,150])\n",
    "#ct_xing_4p6_up = intersect(funcs_4p6, f_xsec(4.6),[90,100,91,130,140])\n",
    "\n",
    "limits_up = np.array([f_ctau(4)(ct_xing_4_up),\n",
    "                   #f_ctau(4.5)(ct_xing_4p5_up),\n",
    "#                    f_ctau(4.6)(ct_xing_4p6_up),    \n",
    "                    #np.array([10,6.5,4,3,2.5])*1e-7                      \n",
    "                  ])\n",
    "masses_up = [4,4.5,5]\n",
    "ax = plotlimit(ax,limits_up,masses_up,True,False)\n",
    "\n",
    "#ax.plot(EXO[:,0],EXO[:,1],label=\"EXO-21-013(expected)\")\n",
    "ax.legend([\"Expected\",\"EXO-21-013(expected)\",r\"$\\pm$1 std. deviation\",r\"$\\pm$2 std. deviation\"],loc=1)\n",
    "ax.set_yscale(\"log\")\n",
    "ax.set_ylabel(\"$|V_{l\\mu}|^2$\")\n",
    "ax.set_xlabel(\"Mass[GeV]\")\n",
    "ax.set_xlim(0.7,7)\n",
    "\n",
    "# ax.set_ylim(1e-6,1e-5)\n",
    "# ax.set_xlim(3.5,5)\n",
    "\n",
    "# ax.legend()"
   ]
  },
  {
   "cell_type": "code",
   "execution_count": 85,
   "metadata": {},
   "outputs": [
    {
     "data": {
      "text/plain": [
       "array([58.87874915, 65.22626211, 74.0598239 , 80.81095001, 98.0278493 ])"
      ]
     },
     "execution_count": 85,
     "metadata": {},
     "output_type": "execute_result"
    }
   ],
   "source": [
    "ct_xing_4_up"
   ]
  },
  {
   "cell_type": "code",
   "execution_count": 89,
   "metadata": {},
   "outputs": [],
   "source": [
    "f_ctau_5=np.array([10,6.5,4,3,2.5])*1e-7"
   ]
  },
  {
   "cell_type": "code",
   "execution_count": 88,
   "metadata": {},
   "outputs": [
    {
     "data": {
      "text/plain": [
       "array([2.27486421e-06, 2.19244680e-06, 1.30508853e-06, 1.14922354e-06,\n",
       "       1.04096385e-06])"
      ]
     },
     "execution_count": 88,
     "metadata": {},
     "output_type": "execute_result"
    }
   ],
   "source": [
    "f_ctau(4.5)(ct_xing_4p5_up)"
   ]
  },
  {
   "cell_type": "code",
   "execution_count": 87,
   "metadata": {},
   "outputs": [
    {
     "data": {
      "text/plain": [
       "array([2.03796464e-07, 2.35981137e-07, 2.91265337e-07, 3.88488367e-07,\n",
       "       4.33444849e-07])"
      ]
     },
     "execution_count": 87,
     "metadata": {},
     "output_type": "execute_result"
    }
   ],
   "source": [
    "f_ctau(4.5)(ct_xing_4p5)"
   ]
  },
  {
   "cell_type": "code",
   "execution_count": 86,
   "metadata": {},
   "outputs": [
    {
     "data": {
      "text/plain": [
       "array([ 95.3903089 ,  98.97617568, 166.2722448 , 188.82314256,\n",
       "       208.4606492 ])"
      ]
     },
     "execution_count": 86,
     "metadata": {},
     "output_type": "execute_result"
    }
   ],
   "source": [
    "ct_xing_4p5_up"
   ]
  },
  {
   "cell_type": "code",
   "execution_count": null,
   "metadata": {},
   "outputs": [],
   "source": []
  },
  {
   "cell_type": "markdown",
   "metadata": {},
   "source": [
    "# Limit shifting"
   ]
  },
  {
   "cell_type": "code",
   "execution_count": null,
   "metadata": {},
   "outputs": [],
   "source": []
  },
  {
   "cell_type": "code",
   "execution_count": 97,
   "metadata": {},
   "outputs": [
    {
     "data": {
      "text/plain": [
       "<matplotlib.legend.Legend at 0x7fda24e35c50>"
      ]
     },
     "execution_count": 97,
     "metadata": {},
     "output_type": "execute_result"
    },
    {
     "data": {
      "image/png": "[encoded data removed]",
      "text/plain": [
       "<Figure size 576x432 with 1 Axes>"
      ]
     },
     "metadata": {
      "needs_background": "light"
     },
     "output_type": "display_data"
    }
   ],
   "source": [
    "fig, ax = plt.subplots(figsize=(8,6))\n",
    "\n",
    "x = np.logspace(1,4,40)\n",
    "ax.plot(x,f_xsec(1)(x)  ,label=\"m = 1GeV\")\n",
    "ax.plot(x,f_xsec(2)(x)  ,label=\"m = 2GeV\")\n",
    "ax.plot(x,f_xsec(4)(x)  ,label=\"m = 4GeV\")\n",
    "ax.plot(x,f_xsec(4.5)(x),label=\"m = 4.5GeV\")\n",
    "ax.plot(x,f_xsec(5)(x)  ,label=\"m = 5GeV\")\n",
    "# ax.plot(x,f_xsec(7)(x)  ,label=\"m = 7GeV\")\n",
    "\n",
    "ax.set_yscale(\"log\")\n",
    "ax.set_ylim(1e-4,1e10)\n",
    "ax.set_ylabel(\"cross section[pb]\")\n",
    "\n",
    "ax.set_xscale(\"log\")\n",
    "ax.set_xlim(8,None)\n",
    "ax.set_xlabel(\"ctau[mm]\")\n",
    "\n",
    "hep.cms.label(ax=ax,label=\"\",data=False)\n",
    "ax.legend()"
   ]
  },
  {
   "cell_type": "code",
   "execution_count": 12,
   "metadata": {},
   "outputs": [],
   "source": [
    "from limit.writeABCD import loadhist"
   ]
  },
  {
   "cell_type": "code",
   "execution_count": 35,
   "metadata": {
    "collapsed": true
   },
   "outputs": [
    {
     "name": "stderr",
     "output_type": "stream",
     "text": [
      "/uscms/home/kkwok/work/LLP/CMSSW_10_6_20/src/llp_analyzer/coffeaenv/lib/python3.7/site-packages/coffea/hist/hist_tools.py:581: RuntimeWarning: Reducing along axis <Bin (name=dphi_MET) instance at 0x7fda272e51d0>: requested stop 0.7 between bin boundaries, no interpolation is performed\n",
      "  RuntimeWarning)\n",
      "/uscms/home/kkwok/work/LLP/CMSSW_10_6_20/src/llp_analyzer/coffeaenv/lib/python3.7/site-packages/coffea/hist/hist_tools.py:581: RuntimeWarning: Reducing along axis <Bin (name=dphi_MET) instance at 0x7fda2720b5d0>: requested stop 0.7 between bin boundaries, no interpolation is performed\n",
      "  RuntimeWarning)\n"
     ]
    },
    {
     "name": "stdout",
     "output_type": "stream",
     "text": [
      "HNL_muonType_mHNL10p0_pl100  CSC =  [0.00359853 0.00081236 0.00186075 0.00224878]\n",
      "HNL_muonType_mHNL10p0_pl100  CSCunc =  [0.00117965 0.00057698 0.00074668 0.00092485]\n",
      "HNL_muonType_mHNL10p0_pl100  DT =  [0.00035479 0.00123971 0.00072697 0.        ]\n",
      "HNL_muonType_mHNL10p0_pl100  DTunc =  [0.00035479 0.00066748 0.00051597 0.        ]\n",
      "HNL_muonType_mHNL10p0_pl1000  CSC =  [0.00155606 0.00299898 0.04092018 0.02005727]\n",
      "HNL_muonType_mHNL10p0_pl1000  CSCunc =  [0.00024259 0.00034431 0.00124111 0.00086206]\n",
      "HNL_muonType_mHNL10p0_pl1000  DT =  [0.00190906 0.0030736  0.03573453 0.01922517]\n",
      "HNL_muonType_mHNL10p0_pl1000  DTunc =  [0.00026887 0.00034204 0.00114695 0.00084027]\n",
      "HNL_muonType_mHNL10p0_pl10000  CSC =  [2.14890255e-05 7.02892118e-05 1.40010944e-03 5.93212795e-04]\n",
      "HNL_muonType_mHNL10p0_pl10000  CSCunc =  [8.99522889e-06 1.67764276e-05 7.23698577e-05 4.66472147e-05]\n",
      "HNL_muonType_mHNL10p0_pl10000  DT =  [0.00011129 0.00013958 0.00152083 0.00068937]\n",
      "HNL_muonType_mHNL10p0_pl10000  DTunc =  [2.11136677e-05 2.32739094e-05 7.57116202e-05 5.05049029e-05]\n",
      "HNL_muonType_mHNL1p0_pl100  CSC =  [  958.36080102  2541.21051879 35942.66029522 15694.03822141]\n",
      "HNL_muonType_mHNL1p0_pl100  CSCunc =  [ 203.53897236  328.04160844 1227.99799864  811.52193763]\n",
      "HNL_muonType_mHNL1p0_pl100  DT =  [ 2516.41081957  2687.36740861 24510.1580307  20040.76760296]\n",
      "HNL_muonType_mHNL1p0_pl100  DTunc =  [ 331.74074794  342.58577557 1010.38025306  908.58490325]\n",
      "HNL_muonType_mHNL1p0_pl1000  CSC =  [  28.82915809   72.20854441 1063.38960708  482.29479901]\n",
      "HNL_muonType_mHNL1p0_pl1000  CSCunc =  [10.74928551 19.12242668 66.30306787 45.73698711]\n",
      "HNL_muonType_mHNL1p0_pl1000  DT =  [ 55.81080617  84.18083673 980.13814336 767.72333672]\n",
      "HNL_muonType_mHNL1p0_pl1000  DTunc =  [15.10309791 18.9897968  63.9197629  55.71044148]\n",
      "HNL_muonType_mHNL1p0_pl1000_rwctau2000  CSC =  [  7.5398423   19.03590541 286.4139182  127.38951007]\n",
      "HNL_muonType_mHNL1p0_pl1000_rwctau2000  CSCunc =  [ 2.81265197  5.02496979 17.91183794 12.08232201]\n",
      "HNL_muonType_mHNL1p0_pl1000_rwctau2000  DT =  [ 14.8699539   22.64145349 266.42989897 207.79041764]\n",
      "HNL_muonType_mHNL1p0_pl1000_rwctau2000  DTunc =  [ 4.02352305  5.11204471 17.38118879 15.07862394]\n",
      "HNL_muonType_mHNL1p0_pl1000_rwctau5000  CSC =  [ 1.23971623  3.1465619  48.01300414 21.06873556]\n",
      "HNL_muonType_mHNL1p0_pl1000_rwctau5000  CSCunc =  [0.46269558 0.82954627 3.02330554 1.99869944]\n",
      "HNL_muonType_mHNL1p0_pl1000_rwctau5000  DT =  [ 2.47262373  3.78655542 44.83523666 34.87615238]\n",
      "HNL_muonType_mHNL1p0_pl1000_rwctau5000  DTunc =  [0.66919892 0.85564014 2.92621247 2.5314423 ]\n",
      "HNL_muonType_mHNL2p0_pl10  CSC =  [12.94954136  0.          8.14461429  0.        ]\n",
      "HNL_muonType_mHNL2p0_pl10  CSCunc =  [12.94954136  0.          8.14461429  0.        ]\n",
      "HNL_muonType_mHNL2p0_pl10  DT =  [ 2.89209086  0.         12.84317809  0.        ]\n",
      "HNL_muonType_mHNL2p0_pl10  DTunc =  [ 2.89209086  0.         12.84317809  0.        ]\n",
      "HNL_muonType_mHNL2p0_pl100  CSC =  [ 46.08049672  65.31234612 763.99850184 382.83887428]\n",
      "HNL_muonType_mHNL2p0_pl100  CSCunc =  [ 8.01474018  9.23247934 31.64222015 22.24438511]\n",
      "HNL_muonType_mHNL2p0_pl100  DT =  [ 66.71386847  59.28390516 373.94752874 309.02756679]\n",
      "HNL_muonType_mHNL2p0_pl100  DTunc =  [ 9.34002938  8.87232574 22.50637343 19.91066537]\n",
      "HNL_muonType_mHNL2p0_pl1000  CSC =  [ 2.62177929  6.13920546 68.80480406 22.27152984]\n",
      "HNL_muonType_mHNL2p0_pl1000  CSCunc =  [0.60830265 0.93177423 3.03868897 1.70702759]\n",
      "HNL_muonType_mHNL2p0_pl1000  DT =  [ 4.84003038  4.08741815 62.3940202  39.06735284]\n",
      "HNL_muonType_mHNL2p0_pl1000  DTunc =  [0.83350767 0.71749561 2.83141488 2.26752986]\n",
      "HNL_muonType_mHNL2p0_pl10000  CSC =  [0.01535685 0.08224103 1.12456859 0.30455309]\n",
      "HNL_muonType_mHNL2p0_pl10000  CSCunc =  [0.01535685 0.04152606 0.14741523 0.07614951]\n",
      "HNL_muonType_mHNL2p0_pl10000  DT =  [0.06101222 0.04465391 0.90300775 0.63003223]\n",
      "HNL_muonType_mHNL2p0_pl10000  DTunc =  [0.03597342 0.03181222 0.13045135 0.11358367]\n",
      "HNL_muonType_mHNL2p0_pl10000_rwctau1000  CSC =  [ 1.28984406  6.17906835 87.46986187 25.19889315]\n",
      "HNL_muonType_mHNL2p0_pl10000_rwctau1000  CSCunc =  [ 1.28984406  3.13881436 11.48584937  6.31656099]\n",
      "HNL_muonType_mHNL2p0_pl10000_rwctau1000  DT =  [ 4.70751718  3.88138072 66.6421441  47.64852353]\n",
      "HNL_muonType_mHNL2p0_pl10000_rwctau1000  DTunc =  [2.75892611 2.77937699 9.65180349 8.57715386]\n",
      "HNL_muonType_mHNL2p0_pl10000_rwctau2000  CSC =  [ 0.35527838  1.80945444 25.12737918  6.99742389]\n",
      "HNL_muonType_mHNL2p0_pl10000_rwctau2000  CSCunc =  [0.35527838 0.91556982 3.29498238 1.75117118]\n",
      "HNL_muonType_mHNL2p0_pl10000_rwctau2000  DT =  [ 1.35857254  1.04874446 19.70587762 13.900502  ]\n",
      "HNL_muonType_mHNL2p0_pl10000_rwctau2000  DTunc =  [0.79843706 0.74873388 2.8475125  2.50211043]\n",
      "HNL_muonType_mHNL2p0_pl10000_rwctau5000  CSC =  [0.06024815 0.31859128 4.37329474 1.19273078]\n",
      "HNL_muonType_mHNL2p0_pl10000_rwctau5000  CSCunc =  [0.06024815 0.16093708 0.57328931 0.29828253]\n",
      "HNL_muonType_mHNL2p0_pl10000_rwctau5000  DT =  [0.23706951 0.17584326 3.49085573 2.44230647]\n",
      "HNL_muonType_mHNL2p0_pl10000_rwctau5000  DTunc =  [0.13965394 0.12533747 0.50426154 0.44007093]\n",
      "HNL_muonType_mHNL2p0_pl1000_rwctau800  CSC =  [  3.92207907   9.06671745 100.43177256  32.844178  ]\n",
      "HNL_muonType_mHNL2p0_pl1000_rwctau800  CSCunc =  [0.91026326 1.37691086 4.43423308 2.5166045 ]\n",
      "HNL_muonType_mHNL2p0_pl1000_rwctau800  DT =  [ 7.10264082  5.91173037 89.76806317 56.49657938]\n",
      "HNL_muonType_mHNL2p0_pl1000_rwctau800  DTunc =  [1.22411089 1.03926763 4.07649481 3.27621535]\n",
      "HNL_muonType_mHNL4p0_pl100  CSC =  [1.00382177 0.88081391 7.03360537 5.26295055]\n",
      "HNL_muonType_mHNL4p0_pl100  CSCunc =  [0.20243526 0.18230219 0.52615824 0.46320032]\n",
      "HNL_muonType_mHNL4p0_pl100  DT =  [0.91579247 0.87776941 1.97958913 1.12285429]\n",
      "HNL_muonType_mHNL4p0_pl100  DTunc =  [0.19189597 0.18529643 0.27839771 0.20800957]\n",
      "HNL_muonType_mHNL4p0_pl1000  CSC =  [0.11367208 0.23031757 3.90969984 1.4149658 ]\n",
      "HNL_muonType_mHNL4p0_pl1000  CSCunc =  [0.02164984 0.03040493 0.12421057 0.07470873]\n",
      "HNL_muonType_mHNL4p0_pl1000  DT =  [0.16994022 0.33335487 3.38758482 1.77729034]\n",
      "HNL_muonType_mHNL4p0_pl1000  DTunc =  [0.02624798 0.0368833  0.11577296 0.08361854]\n",
      "HNL_muonType_mHNL4p0_pl1000_rwctau1500  CSC =  [0.05674916 0.12227352 2.08696206 0.7353985 ]\n",
      "HNL_muonType_mHNL4p0_pl1000_rwctau1500  CSCunc =  [0.01084664 0.01613234 0.06644381 0.03886719]\n",
      "HNL_muonType_mHNL4p0_pl1000_rwctau1500  DT =  [0.08887886 0.18265597 1.8813124  0.97029353]\n",
      "HNL_muonType_mHNL4p0_pl1000_rwctau1500  DTunc =  [0.01382487 0.02025923 0.06444366 0.04570589]\n",
      "HNL_muonType_mHNL4p0_pl1000_rwctau200  CSC =  [ 0.89609229  1.07542741 13.89661744  6.37708174]\n",
      "HNL_muonType_mHNL4p0_pl1000_rwctau200  CSCunc =  [0.19793625 0.18025295 0.51429451 0.37655884]\n",
      "HNL_muonType_mHNL4p0_pl1000_rwctau200  DT =  [0.84830022 1.07858285 7.20642776 4.46332663]\n",
      "HNL_muonType_mHNL4p0_pl1000_rwctau200  DTunc =  [0.1522109  0.15098826 0.2806609  0.23680819]\n",
      "HNL_muonType_mHNL4p0_pl1000_rwctau2000  CSC =  [0.03388892 0.07544135 1.28896805 0.44779054]\n",
      "HNL_muonType_mHNL4p0_pl1000_rwctau2000  CSCunc =  [0.00650413 0.00998909 0.04118466 0.02370531]\n",
      "HNL_muonType_mHNL4p0_pl1000_rwctau2000  DT =  [0.05441054 0.11464907 1.18446408 0.60551109]\n",
      "HNL_muonType_mHNL4p0_pl1000_rwctau2000  DTunc =  [0.00854235 0.01282545 0.04067794 0.02857033]\n",
      "HNL_muonType_mHNL4p0_pl1000_rwctau500  CSC =  [0.32837435 0.56626363 9.24723856 3.59179129]\n",
      "HNL_muonType_mHNL4p0_pl1000_rwctau500  CSCunc =  [0.06345021 0.07739794 0.29808315 0.19153073]\n",
      "HNL_muonType_mHNL4p0_pl1000_rwctau500  DT =  [0.43360458 0.75001888 7.07675428 3.89266032]\n",
      "HNL_muonType_mHNL4p0_pl1000_rwctau500  DTunc =  [0.06824573 0.08563075 0.24432671 0.18498085]\n",
      "HNL_muonType_mHNL4p0_pl1000_rwctau800  CSC =  [0.16322816 0.31673343 5.34028832 1.96939856]\n",
      "HNL_muonType_mHNL4p0_pl1000_rwctau800  CSCunc =  [0.03110945 0.04202878 0.16988223 0.10407229]\n",
      "HNL_muonType_mHNL4p0_pl1000_rwctau800  DT =  [0.23616548 0.44824362 4.48827116 2.38402303]\n",
      "HNL_muonType_mHNL4p0_pl1000_rwctau800  DTunc =  [0.0365167  0.04981297 0.15345105 0.11224751]\n",
      "HNL_muonType_mHNL4p0_pl100_rwctau50  CSC =  [0.52972903 0.41909375 1.16959573 1.26086066]\n",
      "HNL_muonType_mHNL4p0_pl100_rwctau50  CSCunc =  [0.12313776 0.13103794 0.11291267 0.13984168]\n",
      "HNL_muonType_mHNL4p0_pl100_rwctau50  DT =  [0.38047228 0.29476375 0.12242464 0.05909414]\n",
      "HNL_muonType_mHNL4p0_pl100_rwctau50  DTunc =  [0.12918524 0.08736464 0.02831009 0.01510286]\n",
      "HNL_muonType_mHNL4p0_pl100_rwctau80  CSC =  [0.9071468  0.73450322 4.61030034 3.84690764]\n",
      "HNL_muonType_mHNL4p0_pl100_rwctau80  CSCunc =  [0.18422083 0.15757691 0.35452219 0.34788523]\n",
      "HNL_muonType_mHNL4p0_pl100_rwctau80  DT =  [0.71360755 0.67620385 0.99318524 0.5558966 ]\n",
      "HNL_muonType_mHNL4p0_pl100_rwctau80  DTunc =  [0.15732982 0.14827065 0.14388757 0.10569847]\n"
     ]
    },
    {
     "name": "stdout",
     "output_type": "stream",
     "text": [
      "HNL_muonType_mHNL7p0_pl100  CSC =  [0.03804715 0.02123373 0.05201338 0.03323407]\n",
      "HNL_muonType_mHNL7p0_pl100  CSCunc =  [0.00923497 0.00717479 0.0107207  0.00859431]\n",
      "HNL_muonType_mHNL7p0_pl100  DT =  [0.0135374  0.01267536 0.01290687 0.00190483]\n",
      "HNL_muonType_mHNL7p0_pl100  DTunc =  [0.00563851 0.00573064 0.00598942 0.00190483]\n",
      "HNL_muonType_mHNL7p0_pl1000  CSC =  [0.00872521 0.01415912 0.26534225 0.11173698]\n",
      "HNL_muonType_mHNL7p0_pl1000  CSCunc =  [0.00143237 0.00180031 0.00783434 0.00521883]\n",
      "HNL_muonType_mHNL7p0_pl1000  DT =  [0.01352161 0.02273869 0.22597267 0.12207775]\n",
      "HNL_muonType_mHNL7p0_pl1000  DTunc =  [0.00177115 0.00231117 0.00719694 0.0053473 ]\n",
      "HNL_muonType_mHNL7p0_pl10000  CSC =  [7.08683026e-05 2.55107876e-04 6.31911223e-03 2.74019036e-03]\n",
      "HNL_muonType_mHNL7p0_pl10000  CSCunc =  [3.91859509e-05 7.58861643e-05 3.86653499e-04 2.46245715e-04]\n",
      "HNL_muonType_mHNL7p0_pl10000  DT =  [0.00035585 0.00089646 0.00681009 0.0025811 ]\n",
      "HNL_muonType_mHNL7p0_pl10000  DTunc =  [8.60084654e-05 1.44895576e-04 3.96934413e-04 2.40742780e-04]\n"
     ]
    },
    {
     "name": "stderr",
     "output_type": "stream",
     "text": [
      "/uscms/home/kkwok/work/LLP/CMSSW_10_6_20/src/llp_analyzer/coffeaenv/lib/python3.7/site-packages/coffea/hist/hist_tools.py:581: RuntimeWarning: Reducing along axis <Bin (name=dphi_MET) instance at 0x7fda27172690>: requested stop 0.7 between bin boundaries, no interpolation is performed\n",
      "  RuntimeWarning)\n",
      "/uscms/home/kkwok/work/LLP/CMSSW_10_6_20/src/llp_analyzer/coffeaenv/lib/python3.7/site-packages/coffea/hist/hist_tools.py:581: RuntimeWarning: Reducing along axis <Bin (name=dphi_MET) instance at 0x7fda274a9410>: requested stop 0.7 between bin boundaries, no interpolation is performed\n",
      "  RuntimeWarning)\n"
     ]
    },
    {
     "name": "stdout",
     "output_type": "stream",
     "text": [
      "HNL_muonType_mHNL1p0_pl10000  CSC =  [ 0.          2.25792804 12.5938797   3.91385083]\n",
      "HNL_muonType_mHNL1p0_pl10000  CSCunc =  [0.         1.00551897 2.53580374 1.47521774]\n",
      "HNL_muonType_mHNL1p0_pl10000  DT =  [ 0.54224782  1.20117507 13.53483871  7.56249241]\n",
      "HNL_muonType_mHNL1p0_pl10000  DTunc =  [0.54224782 0.7720664  2.73000213 2.01023072]\n",
      "HNL_muonType_mHNL1p0_pl10000_rwctau20000  CSC =  [0.         0.58674456 3.23417357 0.98425379]\n",
      "HNL_muonType_mHNL1p0_pl10000_rwctau20000  CSCunc =  [0.         0.25770072 0.65257775 0.37097049]\n",
      "HNL_muonType_mHNL1p0_pl10000_rwctau20000  DT =  [0.13650751 0.3022155  3.412853   1.90518924]\n",
      "HNL_muonType_mHNL1p0_pl10000_rwctau20000  DTunc =  [0.13650751 0.19434147 0.68829243 0.50644394]\n",
      "HNL_muonType_mHNL1p0_pl10000_rwctau50000  CSC =  [0.         0.0962575  0.52797146 0.15803935]\n",
      "HNL_muonType_mHNL1p0_pl10000_rwctau50000  CSCunc =  [0.         0.04194423 0.10732037 0.05956432]\n",
      "HNL_muonType_mHNL1p0_pl10000_rwctau50000  DT =  [0.02193248 0.04854013 0.54887452 0.30623774]\n",
      "HNL_muonType_mHNL1p0_pl10000_rwctau50000  DTunc =  [0.02193248 0.03122279 0.11068697 0.0814067 ]\n",
      "HNL_muonType_mHNL4p0_pl100_rwctau60  CSC =  [0.68995215 0.53018717 2.16536157 2.10749023]\n",
      "HNL_muonType_mHNL4p0_pl100_rwctau60  CSCunc =  [0.14840332 0.13454633 0.18611785 0.21084353]\n",
      "HNL_muonType_mHNL4p0_pl100_rwctau60  DT =  [0.48909917 0.42485259 0.30484776 0.16079799]\n",
      "HNL_muonType_mHNL4p0_pl100_rwctau60  DTunc =  [0.13498967 0.10860858 0.05412538 0.03489415]\n",
      "HNL_muonType_mHNL4p0_pl100_rwctau90  CSC =  [0.96786351 0.81570234 5.85914099 4.60951678]\n",
      "HNL_muonType_mHNL4p0_pl100_rwctau90  CSCunc =  [0.19519354 0.17048682 0.44128106 0.40869505]\n",
      "HNL_muonType_mHNL4p0_pl100_rwctau90  DT =  [0.81912794 0.78479803 1.46442202 0.82713588]\n",
      "HNL_muonType_mHNL4p0_pl100_rwctau90  DTunc =  [0.17349119 0.16733759 0.20704457 0.15419582]\n",
      "HNL_muonType_mHNL4p5_pl1000  CSC =  [0.05042282 0.13644857 2.27044505 0.85899962]\n",
      "HNL_muonType_mHNL4p5_pl1000  CSCunc =  [0.01218537 0.02021493 0.08092612 0.05023563]\n",
      "HNL_muonType_mHNL4p5_pl1000  DT =  [0.12006929 0.2090709  1.91663381 1.03892495]\n",
      "HNL_muonType_mHNL4p5_pl1000  DTunc =  [0.01858269 0.02476634 0.0740849  0.05447552]\n",
      "HNL_muonType_mHNL4p5_pl1000_rwctau100  CSC =  [0.33456926 0.54080644 3.02210338 1.83951148]\n",
      "HNL_muonType_mHNL4p5_pl1000_rwctau100  CSCunc =  [0.10861195 0.15007331 0.18121045 0.16108506]\n",
      "HNL_muonType_mHNL4p5_pl1000_rwctau100  DT =  [0.52526878 0.29551597 0.66847637 0.3938327 ]\n",
      "HNL_muonType_mHNL4p5_pl1000_rwctau100  DTunc =  [0.14933937 0.07152542 0.05453555 0.02992284]\n",
      "HNL_muonType_mHNL4p5_pl1000_rwctau200  CSC =  [0.33693308 0.63268827 6.82774689 3.33129667]\n",
      "HNL_muonType_mHNL4p5_pl1000_rwctau200  CSCunc =  [0.09097804 0.11407461 0.28814329 0.21934592]\n",
      "HNL_muonType_mHNL4p5_pl1000_rwctau200  DT =  [0.59264865 0.57457409 3.13038029 1.89648114]\n",
      "HNL_muonType_mHNL4p5_pl1000_rwctau200  DTunc =  [0.11343473 0.08971388 0.14581212 0.11092588]\n",
      "HNL_muonType_mHNL4p5_pl1000_rwctau50  CSC =  [0.12003204 0.25953659 0.33222411 0.2711571 ]\n",
      "HNL_muonType_mHNL4p5_pl1000_rwctau50  CSCunc =  [0.04997411 0.11914879 0.03977308 0.03894141]\n",
      "HNL_muonType_mHNL4p5_pl1000_rwctau50  DT =  [0.24203619 0.05143207 0.02458772 0.00793734]\n",
      "HNL_muonType_mHNL4p5_pl1000_rwctau50  DTunc =  [0.11469382 0.02351399 0.00948766 0.00105767]\n",
      "HNL_muonType_mHNL4p5_pl1000_rwctau500  CSC =  [0.14162324 0.33918348 5.14047411 2.09490877]\n",
      "HNL_muonType_mHNL4p5_pl1000_rwctau500  CSCunc =  [0.03467554 0.05127811 0.1863358  0.12362183]\n",
      "HNL_muonType_mHNL4p5_pl1000_rwctau500  DT =  [0.30551087 0.44207803 3.70918989 2.10335137]\n",
      "HNL_muonType_mHNL4p5_pl1000_rwctau500  DTunc =  [0.04842562 0.05435753 0.14597932 0.1112581 ]\n",
      "HNL_muonType_mHNL4p5_pl1000_rwctau60  CSC =  [0.18028231 0.33683376 0.7032576  0.5298672 ]\n",
      "HNL_muonType_mHNL4p5_pl1000_rwctau60  CSCunc =  [0.07009545 0.13777164 0.06706767 0.06588444]\n",
      "HNL_muonType_mHNL4p5_pl1000_rwctau60  DT =  [0.32015663 0.09241558 0.06911001 0.02999097]\n",
      "HNL_muonType_mHNL4p5_pl1000_rwctau60  DTunc =  [0.1328108  0.03594862 0.01684558 0.00332981]\n",
      "HNL_muonType_mHNL4p5_pl1000_rwctau70  CSC =  [0.23361351 0.40223641 1.19865222 0.84395739]\n",
      "HNL_muonType_mHNL4p5_pl1000_rwctau70  CSCunc =  [0.08582679 0.14749289 0.09697132 0.0934602 ]\n",
      "HNL_muonType_mHNL4p5_pl1000_rwctau70  DT =  [0.38731178 0.14067563 0.15231426 0.0768085 ]\n",
      "HNL_muonType_mHNL4p5_pl1000_rwctau70  DTunc =  [0.14323896 0.04730171 0.02516666 0.00745131]\n",
      "HNL_muonType_mHNL4p5_pl1000_rwctau800  CSC =  [0.07199808 0.18838995 3.0681604  1.18362337]\n",
      "HNL_muonType_mHNL4p5_pl1000_rwctau800  CSCunc =  [0.01742938 0.02795545 0.10954662 0.06926083]\n",
      "HNL_muonType_mHNL4p5_pl1000_rwctau800  DT =  [0.16697468 0.27639257 2.48869457 1.36663156]\n",
      "HNL_muonType_mHNL4p5_pl1000_rwctau800  DTunc =  [0.02592473 0.03285109 0.09634659 0.07169307]\n",
      "HNL_muonType_mHNL4p5_pl5000  CSC =  [0.00073515 0.00511466 0.14058247 0.04399492]\n",
      "HNL_muonType_mHNL4p5_pl5000  CSCunc =  [0.00058364 0.00207825 0.0089553  0.00511575]\n",
      "HNL_muonType_mHNL4p5_pl5000  DT =  [0.00582457 0.01495561 0.14932642 0.06974714]\n",
      "HNL_muonType_mHNL4p5_pl5000  DTunc =  [0.00183871 0.00294101 0.00914853 0.00635547]\n",
      "HNL_muonType_mHNL5p0_pl1000  CSC =  [0.03866598 0.0936598  1.27124608 0.48186906]\n",
      "HNL_muonType_mHNL5p0_pl1000  CSCunc =  [0.0083121  0.0137855  0.04645871 0.02842152]\n",
      "HNL_muonType_mHNL5p0_pl1000  DT =  [0.06364373 0.09759387 1.16621215 0.65594387]\n",
      "HNL_muonType_mHNL5p0_pl1000  DTunc =  [0.01051437 0.01322151 0.04440858 0.03336898]\n",
      "HNL_muonType_mHNL5p0_pl1000_rwctau100  CSC =  [0.34527562 0.32817664 1.06063231 0.70045599]\n",
      "HNL_muonType_mHNL5p0_pl1000_rwctau100  CSCunc =  [0.09869793 0.08264343 0.077406   0.06539307]\n",
      "HNL_muonType_mHNL5p0_pl1000_rwctau100  DT =  [0.15490411 0.10799062 0.28216942 0.17626673]\n",
      "HNL_muonType_mHNL5p0_pl1000_rwctau100  DTunc =  [0.05877243 0.02885598 0.06171978 0.01559813]\n",
      "HNL_muonType_mHNL5p0_pl1000_rwctau200  CSC =  [0.28719842 0.38748771 2.99977646 1.52883504]\n",
      "HNL_muonType_mHNL5p0_pl1000_rwctau200  CSCunc =  [0.06874232 0.07228081 0.13292978 0.10427818]\n",
      "HNL_muonType_mHNL5p0_pl1000_rwctau200  DT =  [0.2140579  0.23215314 1.42081393 0.98332443]\n",
      "HNL_muonType_mHNL5p0_pl1000_rwctau200  DTunc =  [0.04593917 0.04227524 0.07015168 0.05829749]\n",
      "HNL_muonType_mHNL5p0_pl1000_rwctau50  CSC =  [0.1857032  0.11720223 0.10026844 0.0758087 ]\n",
      "HNL_muonType_mHNL5p0_pl1000_rwctau50  CSCunc =  [0.06759339 0.03993072 0.02043154 0.01238692]\n",
      "HNL_muonType_mHNL5p0_pl1000_rwctau50  DT =  [0.07068723 0.01439644 0.08330753 0.00342477]\n",
      "HNL_muonType_mHNL5p0_pl1000_rwctau50  DTunc =  [0.0464624  0.00647097 0.07826748 0.00082345]\n",
      "HNL_muonType_mHNL5p0_pl1000_rwctau500  CSC =  [0.11016925 0.21612216 2.6892949  1.10706214]\n",
      "HNL_muonType_mHNL5p0_pl1000_rwctau500  CSCunc =  [0.02401575 0.0333531  0.10010431 0.06611765]\n",
      "HNL_muonType_mHNL5p0_pl1000_rwctau500  DT =  [0.14367971 0.19494229 2.07599607 1.25006474]\n",
      "HNL_muonType_mHNL5p0_pl1000_rwctau500  DTunc =  [0.02400705 0.02781388 0.08039651 0.06461132]\n",
      "HNL_muonType_mHNL5p0_pl1000_rwctau800  CSC =  [0.05533046 0.12587289 1.68748153 0.65352   ]\n",
      "HNL_muonType_mHNL5p0_pl1000_rwctau800  CSCunc =  [0.01191499 0.0186775  0.06177581 0.03856384]\n",
      "HNL_muonType_mHNL5p0_pl1000_rwctau800  DT =  [0.08575991 0.12676015 1.48230975 0.84895672]\n",
      "HNL_muonType_mHNL5p0_pl1000_rwctau800  DTunc =  [0.01413766 0.01728757 0.05647771 0.04325715]\n",
      "HNL_muonType_mHNL5p0_pl5000  CSC =  [0.00184826 0.00352256 0.09103392 0.0386287 ]\n",
      "HNL_muonType_mHNL5p0_pl5000  CSCunc =  [0.00083153 0.00114118 0.00552652 0.00367145]\n",
      "HNL_muonType_mHNL5p0_pl5000  DT =  [0.00481397 0.00941965 0.10353558 0.04951436]\n",
      "HNL_muonType_mHNL5p0_pl5000  DTunc =  [0.00133683 0.00187645 0.00604958 0.00401367]\n"
     ]
    }
   ],
   "source": [
    "data = loadhist('../HNL_histograms_Feb23_muons_signal.pickle')\n",
    "data_new = loadhist('../HNL_histograms_Mar1_muons_signal.pickle')"
   ]
  },
  {
   "cell_type": "code",
   "execution_count": 36,
   "metadata": {},
   "outputs": [],
   "source": [
    "data_all = {**data, **data_new}"
   ]
  },
  {
   "cell_type": "code",
   "execution_count": 15,
   "metadata": {},
   "outputs": [],
   "source": [
    "arr_src = data[\"HNL_muonType_mHNL2p0_pl1000\"]\n",
    "arr_new = data[\"HNL_muonType_mHNL4p0_pl2000\"]"
   ]
  },
  {
   "cell_type": "code",
   "execution_count": null,
   "metadata": {},
   "outputs": [],
   "source": []
  },
  {
   "cell_type": "code",
   "execution_count": 30,
   "metadata": {},
   "outputs": [],
   "source": [
    "# Find the corresponding yield of (m,ct)-> (m,xx)\n",
    "def shift_ctau(N_yield,m_old,ct_old,m_new):\n",
    "    ct_new = (m_new/m_old) * ct_old\n",
    "    return N_yield * f_xsec(m_new)(ct_new)/f_xsec(m_old)(ct_old)"
   ]
  },
  {
   "cell_type": "code",
   "execution_count": 22,
   "metadata": {},
   "outputs": [
    {
     "name": "stdout",
     "output_type": "stream",
     "text": [
      "source (2,1000) -> ct_new = (4,2000)\n",
      "shifted Yield at 4 (ct,yield)=  (2000.0, array([0.01961549, 0.09396908, 1.33021062, 0.38321582]))\n",
      "Gen Yield at 4 (ct,yield)   =  [0.03388892 0.07544135 1.28896805 0.44779054]\n"
     ]
    }
   ],
   "source": [
    "print(\"source (2,1000) -> ct_new = (4,2000)\")\n",
    "print(\"shifted Yield at 4 (ct,yield)= \",shift_ctau(arr_src[\"CSC\"],2,1000,4))\n",
    "print(\"Gen Yield at 4 (ct,yield)   = \",arr_new[\"CSC\"])"
   ]
  },
  {
   "cell_type": "code",
   "execution_count": null,
   "metadata": {},
   "outputs": [],
   "source": []
  },
  {
   "cell_type": "code",
   "execution_count": 46,
   "metadata": {},
   "outputs": [],
   "source": [
    "\n",
    "out = {}\n",
    "for sample, arr in data_all.items():\n",
    "    mass = float(sample.split(\"_\")[2].replace(\"mHNL\",\"\").replace(\"p\",\".\"))\n",
    "    ct = float(sample.split(\"_\")[-1].replace(\"pl\",\"\"))\n",
    "#     print(sample,mass,ct)\n",
    "    if mass == 4:\n",
    "        ct_new = (4.6/4) * ct\n",
    "        name = \"HNL_muonType_mHNL4p6_pl%s\"%str(np.round(ct_new)).replace(\".0\",\"\")\n",
    "#         print(name)\n",
    "#         print(ct,np.round(ct_new),shift_ctau(arr['CSC'],4,ct,4.6),shift_ctau(arr['DT'],4,ct,4.6))        \n",
    "        out[name]={\"CSC\":shift_ctau(arr['CSC'],4,ct,4.6),\"DT\":shift_ctau(arr['DT'],4,ct,4.6),\"norm\":1}\n",
    "\n",
    "        ct_new = (4.7/4) * ct\n",
    "        name = \"HNL_muonType_mHNL4p7_pl%s\"%str(np.round(ct_new)).replace(\".0\",\"\")\n",
    "#         print(name)\n",
    "#         print(ct,np.round(ct_new),shift_ctau(arr['CSC'],4,ct,4.6),shift_ctau(arr['DT'],4,ct,4.6))        \n",
    "        out[name]={\"CSC\":shift_ctau(arr['CSC'],4,ct,4.7),\"DT\":shift_ctau(arr['DT'],4,ct,4.7),\"norm\":1}\n",
    "    "
   ]
  },
  {
   "cell_type": "code",
   "execution_count": 47,
   "metadata": {},
   "outputs": [
    {
     "data": {
      "text/plain": [
       "array([0.03987109, 0.09336286, 1.04635904, 0.33869752])"
      ]
     },
     "execution_count": 47,
     "metadata": {},
     "output_type": "execute_result"
    }
   ],
   "source": [
    "np.array([ 2.62177929,  6.13920546 ,68.80480406 ,22.27152984])*f_xsec(4)(2000)/f_xsec(2)(1000)"
   ]
  },
  {
   "cell_type": "code",
   "execution_count": 176,
   "metadata": {},
   "outputs": [
    {
     "data": {
      "text/plain": [
       "array([[0.744304  , 0.88746363, 1.13418693, 1.50943563, 2.01705135],\n",
       "       [0.05557461, 0.06771892, 0.08934999, 0.12515743, 0.17465343],\n",
       "       [0.01231115, 0.01518547, 0.0198216 , 0.02685758, 0.03613448],\n",
       "       [0.00611095, 0.00740124, 0.00948149, 0.0126563 , 0.01701619],\n",
       "       [0.00608535, 0.00741882, 0.00949907, 0.01271747, 0.01707523],\n",
       "       [0.00646142, 0.00787734, 0.01008617, 0.01350351, 0.01819761],\n",
       "       [0.01772846, 0.02240592, 0.02946859, 0.03992225, 0.05409001]])"
      ]
     },
     "execution_count": 176,
     "metadata": {},
     "output_type": "execute_result"
    }
   ],
   "source": [
    "np.array([funcs_4p5[i](ctau4p5_i) for i in range(5)]).transpose()"
   ]
  },
  {
   "cell_type": "code",
   "execution_count": null,
   "metadata": {},
   "outputs": [],
   "source": [
    "HNL_muonType_mHNL4p0_pl1000  CSC =  [0.11367208 0.23031757 3.90969984 1.4149658 ]\n",
    "HNL_muonType_mHNL4p0_pl1000  CSCunc =  [0.02164984 0.03040493 0.12421057 0.07470873]\n",
    "HNL_muonType_mHNL4p0_pl1000  DT =  [0.16994022 0.33335487 3.38758482 1.77729034]\n",
    "HNL_muonType_mHNL4p0_pl1000  DTunc =  [0.02624798 0.0368833  0.11577296 0.08361854]\n",
    "\n",
    "HNL_muonType_mHNL2p0_pl1000  CSC =  [ 2.62177929  6.13920546 68.80480406 22.27152984]\n",
    "HNL_muonType_mHNL2p0_pl1000  CSCunc =  [0.60830265 0.93177423 3.03868897 1.70702759]\n",
    "HNL_muonType_mHNL2p0_pl1000  DT =  [ 4.84003038  4.08741815 62.3940202  39.06735284]\n",
    "HNL_muonType_mHNL2p0_pl1000  DTunc =  [0.83350767 0.71749561 2.83141488 2.26752986]\n",
    "\n",
    "HNL_muonType_mHNL4p0_pl1000_rwctau2000  CSC =  [0.03388892 0.07544135 1.28896805 0.44779054]\n",
    "HNL_muonType_mHNL4p0_pl1000_rwctau2000  CSCunc =  [0.00650413 0.00998909 0.04118466 0.02370531]\n",
    "HNL_muonType_mHNL4p0_pl1000_rwctau2000  DT =  [0.05441054 0.11464907 1.18446408 0.60551109]\n",
    "HNL_muonType_mHNL4p0_pl1000_rwctau2000  DTunc =  [0.00854235 0.01282545 0.04067794 0.02857033]"
   ]
  },
  {
   "cell_type": "code",
   "execution_count": 33,
   "metadata": {},
   "outputs": [
    {
     "data": {
      "text/plain": [
       "<matplotlib.legend.Legend at 0x7f7bd571d610>"
      ]
     },
     "execution_count": 33,
     "metadata": {},
     "output_type": "execute_result"
    },
    {
     "data": {
      "image/png": "[encoded data removed]",
      "text/plain": [
       "<Figure size 576x432 with 1 Axes>"
      ]
     },
     "metadata": {
      "needs_background": "light"
     },
     "output_type": "display_data"
    }
   ],
   "source": [
    "m4p5GeV_i, ctau4p5_i,funcs_4p5 = interpolate1D(arr4p5GeV, ctau4p5GeV,-1)\n",
    "\n",
    "plt.style.use(hep.style.CMS) \n",
    "\n",
    "fig, ax = plt.subplots(figsize=(8,6))\n",
    "# ax = plotlimit(ax,m4p5GeV_i,ctau4p5_i,True)\n",
    "ax = plotlimit(ax,\n",
    "               np.array([funcs_4p5[i](ctau4p5_i) for i in range(5)]).transpose(),\n",
    "               ctau4p5_i,False)\n",
    "ax = plotlimit(ax,\n",
    "               np.array([funcs[i](ctau4p5_i) for i in range(5)]).transpose(),\n",
    "               ctau4p5_i,False)\n",
    "\n",
    "ax = plotlimit(ax,\n",
    "               np.array([funcs_5[i](ctau4p5_i) for i in range(5)]).transpose(),\n",
    "               ctau4p5_i,False)\n",
    "ax = plotlimit(ax,\n",
    "               np.array([funcs_1[i](ctau4p5_i) for i in range(5)]).transpose(),\n",
    "               ctau4p5_i,False)\n",
    "\n",
    "# ax = plotlimit(ax,m4p5GeV_i,ctau4p5_i,False)\n",
    "# ax = plotlimit(ax,m4GeV_i,ctau4GeV_i,False)\n",
    "\n",
    "# ax.plot(ctau4p5_i,f_xsec(4.5)(ctau4p5_i),label=\"Theory, m=4.5GeV\")\n",
    "# ax.plot(ctau4GeV_i,f_xsec(4)(ctau4GeV_i),label=\"Theory, m=4GeV\")\n",
    "\n",
    "ax.set_xlabel(\"ctau[mm]\")\n",
    "ax.set_ylabel(\"95% CL Limit on $\\sigma$[pb]\")\n",
    "ax.set_yscale(\"log\")\n",
    "ax.set_xscale(\"log\")\n",
    "# ax.legend([\"m=4.5GeV\",\"Theory\"])\n",
    "ax.legend()"
   ]
  },
  {
   "cell_type": "code",
   "execution_count": null,
   "metadata": {},
   "outputs": [],
   "source": []
  },
  {
   "cell_type": "markdown",
   "metadata": {},
   "source": [
    "# 2D limits"
   ]
  },
  {
   "cell_type": "code",
   "execution_count": 17,
   "metadata": {},
   "outputs": [],
   "source": [
    "def interpolate2D(combineLimits,x,y,nBins=10):\n",
    "    epsilon = 0.2\n",
    "    smooth = 1\n",
    "    newLimits = []\n",
    "#     xi = np.linspace(min(x),max(x),nBins)\n",
    "    if nBins<0:\n",
    "        xi = x\n",
    "        yi = y\n",
    "    else:\n",
    "        xi = np.logspace(np.log10(min(x)),np.log10(max(x)),nBins)    \n",
    "\n",
    "    for i in range(5):\n",
    "        z = combineLimits[:,i]\n",
    "        rbfi = Rbf(x,y,z,function='multiquadric', epsilon=epsilon,smooth=smooth)\n",
    "#         rbfi = Rbf(x,y,function='cubic', epsilon=epsilon,smooth=smooth)\n",
    "        myXI, myYI = np.meshgrid(xi,yi)\n",
    "        zi = rbfi(myXI,myYI)\n",
    "        newLimits.append(zi)\n",
    "    newLimits = np.array(newLimits).transpose()\n",
    "    return newLimits, myXI,myYI"
   ]
  },
  {
   "cell_type": "code",
   "execution_count": 18,
   "metadata": {},
   "outputs": [],
   "source": [
    "x= np.concatenate([np.ones_like(ctau4GeV)*4,2*np.ones_like(ctau2GeV)],axis=0)"
   ]
  },
  {
   "cell_type": "code",
   "execution_count": 19,
   "metadata": {},
   "outputs": [],
   "source": [
    "y=np.concatenate([ctau4GeV,ctau2GeV],axis=0)"
   ]
  },
  {
   "cell_type": "code",
   "execution_count": 22,
   "metadata": {},
   "outputs": [],
   "source": [
    "z = np.concatenate([arr4GeV,arr2GeV],axis=0)"
   ]
  },
  {
   "cell_type": "code",
   "execution_count": 27,
   "metadata": {},
   "outputs": [
    {
     "data": {
      "text/plain": [
       "array([ 0.01318735,  0.01260592,  0.02334118,  0.16329081,  0.08882983,\n",
       "        0.0142238 ,  0.02108977,  0.86800341,  0.0175409 ,  0.0438945 ,\n",
       "        0.02175238,  0.02693847,  0.03453834, 10.01427176,  0.02558645])"
      ]
     },
     "execution_count": 27,
     "metadata": {},
     "output_type": "execute_result"
    }
   ],
   "source": [
    "z[:,3]"
   ]
  },
  {
   "cell_type": "code",
   "execution_count": 59,
   "metadata": {},
   "outputs": [],
   "source": [
    "h = hist.Hist(\"Expected Limit\",\n",
    "         hist.Bin(\"ct\",\"ctau[mm]\",np.logspace(0,np.log(max(y)),len(y)+1)),\n",
    "         hist.Bin(\"m\",'mass[GeV]',5,0,5)\n",
    "        )\n",
    "h.fill(ct = y,m=x, weight=z[:,2])"
   ]
  },
  {
   "cell_type": "code",
   "execution_count": 46,
   "metadata": {},
   "outputs": [
    {
     "data": {
      "text/plain": [
       "array([0.00985002, 0.00941574, 0.01743423, 0.11675269, 0.06369473,\n",
       "       0.01062418, 0.01565934, 0.6445    , 0.01302427, 0.03259204,\n",
       "       0.01629602, 0.01862402, 0.02579772, 6.68395508, 0.01883096])"
      ]
     },
     "execution_count": 46,
     "metadata": {},
     "output_type": "execute_result"
    }
   ],
   "source": [
    "z[:,2]"
   ]
  },
  {
   "cell_type": "code",
   "execution_count": 50,
   "metadata": {},
   "outputs": [],
   "source": [
    "import matplotlib"
   ]
  },
  {
   "cell_type": "code",
   "execution_count": 60,
   "metadata": {},
   "outputs": [
    {
     "data": {
      "text/plain": [
       "(1, 10000.0)"
      ]
     },
     "execution_count": 60,
     "metadata": {},
     "output_type": "execute_result"
    },
    {
     "data": {
      "image/png": "[encoded data removed]",
      "text/plain": [
       "<Figure size 576x432 with 2 Axes>"
      ]
     },
     "metadata": {
      "needs_background": "light"
     },
     "output_type": "display_data"
    }
   ],
   "source": [
    "plt.style.use(hep.style.CMS) \n",
    "\n",
    "fig, ax = plt.subplots(figsize=(8,6))\n",
    "\n",
    "hist.plot2d(h,xaxis=\"m\",ax=ax,patch_opts={\"norm\":matplotlib.colors.LogNorm()})\n",
    "\n",
    "ax.set_yscale(\"log\")\n",
    "ax.set_ylim(1,1e4)"
   ]
  },
  {
   "cell_type": "code",
   "execution_count": 272,
   "metadata": {},
   "outputs": [],
   "source": [
    "zi, xi,yi = interpolate2D(z,x,y,-1)"
   ]
  },
  {
   "cell_type": "code",
   "execution_count": 293,
   "metadata": {},
   "outputs": [],
   "source": [
    "z = zi[:,:,3]"
   ]
  },
  {
   "cell_type": "code",
   "execution_count": 294,
   "metadata": {},
   "outputs": [
    {
     "data": {
      "text/plain": [
       "(15, 15)"
      ]
     },
     "execution_count": 294,
     "metadata": {},
     "output_type": "execute_result"
    }
   ],
   "source": [
    "z.shape"
   ]
  },
  {
   "cell_type": "code",
   "execution_count": 288,
   "metadata": {},
   "outputs": [
    {
     "data": {
      "text/plain": [
       "(15, 15)"
      ]
     },
     "execution_count": 288,
     "metadata": {},
     "output_type": "execute_result"
    }
   ],
   "source": [
    "xi.shape"
   ]
  },
  {
   "cell_type": "code",
   "execution_count": 83,
   "metadata": {},
   "outputs": [
    {
     "data": {
      "text/plain": [
       "array([2.23513489e-06, 3.06877310e-06, 4.50546875e-06, 6.73238354e-06,\n",
       "       9.48151189e-06, 2.66952109e-03])"
      ]
     },
     "execution_count": 83,
     "metadata": {},
     "output_type": "execute_result"
    }
   ],
   "source": [
    "arr3*3.95E-06"
   ]
  },
  {
   "cell_type": "code",
   "execution_count": 84,
   "metadata": {},
   "outputs": [],
   "source": []
  },
  {
   "cell_type": "code",
   "execution_count": 10,
   "metadata": {},
   "outputs": [],
   "source": []
  },
  {
   "cell_type": "code",
   "execution_count": null,
   "metadata": {},
   "outputs": [],
   "source": []
  },
  {
   "cell_type": "markdown",
   "metadata": {},
   "source": [
    "## Rbf (radial basis function interpolation)"
   ]
  },
  {
   "cell_type": "code",
   "execution_count": 3,
   "metadata": {},
   "outputs": [],
   "source": [
    "from scipy.interpolate import Rbf\n",
    "import numpy as np"
   ]
  },
  {
   "cell_type": "code",
   "execution_count": 66,
   "metadata": {},
   "outputs": [
    {
     "data": {
      "text/plain": [
       "(20,)"
      ]
     },
     "execution_count": 66,
     "metadata": {},
     "output_type": "execute_result"
    }
   ],
   "source": [
    "rng = np.random.default_rng()\n",
    "# x = rng.random((1, 50))\n",
    "x = np.random.normal(size=50)\n",
    "y = x*x\n",
    "rbfi = Rbf(x,y)  # radial basis function interpolator instance\n",
    "xi = np.linspace(0, 1, 20)\n",
    "yi = rbfi(xi)   # interpolated values\n",
    "yi.shape"
   ]
  },
  {
   "cell_type": "code",
   "execution_count": 82,
   "metadata": {},
   "outputs": [
    {
     "data": {
      "text/plain": [
       "array([0.49633659, 0.04855246, 0.00791557])"
      ]
     },
     "execution_count": 82,
     "metadata": {},
     "output_type": "execute_result"
    }
   ],
   "source": [
    "m4GeV[:,1]"
   ]
  },
  {
   "cell_type": "code",
   "execution_count": 84,
   "metadata": {},
   "outputs": [
    {
     "data": {
      "text/plain": [
       "array([0.49633659, 0.04855246, 0.00791557])"
      ]
     },
     "execution_count": 84,
     "metadata": {},
     "output_type": "execute_result"
    }
   ],
   "source": [
    "m4GeV.transpose()[1]"
   ]
  },
  {
   "cell_type": "code",
   "execution_count": null,
   "metadata": {},
   "outputs": [],
   "source": [
    "def interpolate1D(combineLimits,x):\n",
    "    rbfi = Rbf(x,y, )"
   ]
  }
 ],
 "metadata": {
  "kernelspec": {
   "display_name": "Python 3",
   "language": "python",
   "name": "python3"
  },
  "language_info": {
   "codemirror_mode": {
    "name": "ipython",
    "version": 3
   },
   "file_extension": ".py",
   "mimetype": "text/x-python",
   "name": "python",
   "nbconvert_exporter": "python",
   "pygments_lexer": "ipython3",
   "version": "3.7.6"
  }
 },
 "nbformat": 4,
 "nbformat_minor": 2
}
