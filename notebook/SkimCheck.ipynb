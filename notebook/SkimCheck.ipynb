{
 "cells": [
  {
   "cell_type": "code",
   "execution_count": 1,
   "metadata": {},
   "outputs": [],
   "source": [
    "import coffea\n",
    "import coffea.hist as hist\n",
    "from coffea.nanoevents.methods import vector\n",
    "import uproot\n",
    "import matplotlib.pyplot as plt\n",
    "import mplhep as hep\n",
    "import numpy as np\n",
    "\n",
    "import awkward as ak\n",
    "import sys\n",
    "sys.path.insert(0,\"../\")\n",
    "\n",
    "from coffea.nanoevents import NanoEventsFactory, BaseSchema"
   ]
  },
  {
   "cell_type": "code",
   "execution_count": 6,
   "metadata": {},
   "outputs": [],
   "source": [
    "events = NanoEventsFactory.from_root(\"../WJet_CSC_ABCDskim.root\",treepath=\"MuonSystem\",schemaclass=BaseSchema).events()"
   ]
  },
  {
   "cell_type": "code",
   "execution_count": 7,
   "metadata": {},
   "outputs": [
    {
     "data": {
      "text/plain": [
       "['ncluster',\n",
       " 'cluster_time',\n",
       " 'cluster_size',\n",
       " 'cluster_timeSpread',\n",
       " 'cluster_eta',\n",
       " 'cluster_phi',\n",
       " 'cluster_x',\n",
       " 'cluster_y',\n",
       " 'cluster_z',\n",
       " 'cluster_llp_x',\n",
       " 'cluster_llp_y',\n",
       " 'cluster_llp_z',\n",
       " 'cluster_NChamber',\n",
       " 'cluster_MaxChamber',\n",
       " 'cluster_MaxStation',\n",
       " 'cluster_NStation10',\n",
       " 'cluster_AvgStation10',\n",
       " 'cluster_ME11_12',\n",
       " 'cluster_llp_match',\n",
       " 'cluster_RE12',\n",
       " 'cluster_MB1seg',\n",
       " 'cluster_RB1',\n",
       " 'cluster_dphi_cluster_MET',\n",
       " 'cluster_dphi_cluster_lep',\n",
       " 'cluster_dr_cluster_lep',\n",
       " 'ndt_cluster',\n",
       " 'dt_cluster_size',\n",
       " 'dt_cluster_x',\n",
       " 'dt_cluster_y',\n",
       " 'dt_cluster_z',\n",
       " 'dt_cluster_llp_x',\n",
       " 'dt_cluster_llp_y',\n",
       " 'dt_cluster_llp_z',\n",
       " 'dt_cluster_llp_match',\n",
       " 'dt_cluster_eta',\n",
       " 'dt_cluster_phi',\n",
       " 'dt_cluster_JetVetoPt',\n",
       " 'dt_cluster_MuonVetoPt',\n",
       " 'dt_cluster_NStation10',\n",
       " 'dt_cluster_AvgStation10',\n",
       " 'dt_cluster_MaxStation',\n",
       " 'dt_cluster_nRPC',\n",
       " 'dt_cluster_nMB1_cosmic_minus',\n",
       " 'dt_cluster_nMB1_cosmic_plus',\n",
       " 'dt_cluster_nMB1',\n",
       " 'dt_cluster_rpcBx',\n",
       " 'dt_cluster_dphi_cluster_MET',\n",
       " 'dt_cluster_dphi_cluster_lep',\n",
       " 'dt_cluster_dr_cluster_lep',\n",
       " 'ngParticle',\n",
       " 'gParticle_E',\n",
       " 'gParticle_Eta',\n",
       " 'gParticle_Phi',\n",
       " 'gParticle_Id',\n",
       " 'gParticle_MotherId',\n",
       " 'gParticle_Pt',\n",
       " 'gParticle_Status']"
      ]
     },
     "execution_count": 7,
     "metadata": {},
     "output_type": "execute_result"
    }
   ],
   "source": [
    "events.fields"
   ]
  },
  {
   "cell_type": "code",
   "execution_count": 27,
   "metadata": {},
   "outputs": [
    {
     "data": {
      "text/plain": [
       "<Array [[-24.1, -0.36], ... 12.5], [-1.21]] type='423 * var * float32[parameters...'>"
      ]
     },
     "execution_count": 27,
     "metadata": {},
     "output_type": "execute_result"
    }
   ],
   "source": [
    "events.cluster_time"
   ]
  },
  {
   "cell_type": "code",
   "execution_count": null,
   "metadata": {},
   "outputs": [],
   "source": [
    "cls = ak.zip(\n",
    "    {k.replace(\"cluster_\",\"\"):getattr(events,k) for k in events.fields if k.startswith(\"cluster_\")}\n",
    "    ,with_name=\"PtEtaPhiMLorentzVector\", \n",
    "    behavior=vector.behavior\n",
    "    )\n",
    "dt_cls = ak.zip(\n",
    "    {k.replace(\"dt_cluster_\",\"\"):getattr(events,k) for k in events.fields if k.startswith(\"dt_cluster_\")}\n",
    "    ,with_name=\"PtEtaPhiMLorentzVector\", \n",
    "    behavior=vector.behavior    \n",
    ")\n",
    "gen = ak.zip({k.replace(\"gParticle_\",\"\").lower():getattr(events,k) for k in events.fields if k.startswith(\"gParticle_\")})"
   ]
  },
  {
   "cell_type": "markdown",
   "metadata": {},
   "source": [
    "# Prune gen particles"
   ]
  },
  {
   "cell_type": "code",
   "execution_count": 162,
   "metadata": {},
   "outputs": [],
   "source": [
    "## TODO: use particle package to convert pdgIDs\n",
    "##  python -m pip install particle\n",
    "## https://github.com/scikit-hep/particle"
   ]
  },
  {
   "cell_type": "code",
   "execution_count": 163,
   "metadata": {},
   "outputs": [
    {
     "data": {
      "text/plain": [
       "[1,\n",
       " 2,\n",
       " 4,\n",
       " 21,\n",
       " 22,\n",
       " 23,\n",
       " 31,\n",
       " 33,\n",
       " 41,\n",
       " 42,\n",
       " 43,\n",
       " 44,\n",
       " 51,\n",
       " 52,\n",
       " 53,\n",
       " 61,\n",
       " 62,\n",
       " 63,\n",
       " 71,\n",
       " 72,\n",
       " 73,\n",
       " 74,\n",
       " 91]"
      ]
     },
     "execution_count": 163,
     "metadata": {},
     "output_type": "execute_result"
    }
   ],
   "source": [
    "## Unique gen particles status\n",
    "np.unique(ak.flatten(gen.status)).to_list()"
   ]
  },
  {
   "cell_type": "code",
   "execution_count": 158,
   "metadata": {},
   "outputs": [
    {
     "data": {
      "text/plain": [
       "[11,\n",
       " 12,\n",
       " 13,\n",
       " 14,\n",
       " 16,\n",
       " 22,\n",
       " 130,\n",
       " 211,\n",
       " 310,\n",
       " 321,\n",
       " 2112,\n",
       " 2212,\n",
       " 3112,\n",
       " 3122,\n",
       " 3222,\n",
       " 3312,\n",
       " 3322,\n",
       " 3334]"
      ]
     },
     "execution_count": 158,
     "metadata": {},
     "output_type": "execute_result"
    }
   ],
   "source": [
    "## Unique gen particles ID with status ==1\n",
    "np.unique(np.abs(ak.flatten(gen[gen.status==1].id))).to_list()"
   ]
  },
  {
   "cell_type": "code",
   "execution_count": 164,
   "metadata": {},
   "outputs": [],
   "source": [
    "gen = gen[gen.status==1]"
   ]
  },
  {
   "cell_type": "markdown",
   "metadata": {},
   "source": [
    "## Compute all cls-gen pairs \n",
    "-  This is a doubly-jagged array i.e. need 3 indices for each elemnt: [event][cls][gen]\n",
    "-  p.s. Putting \"cls\" first in ak.cartesian means 2nd index will be cls"
   ]
  },
  {
   "cell_type": "code",
   "execution_count": 165,
   "metadata": {},
   "outputs": [],
   "source": [
    "cls_gen_pairs = ak.cartesian({\"cls\":cls,\"gen\":gen},axis=1,nested=True)"
   ]
  },
  {
   "cell_type": "code",
   "execution_count": 166,
   "metadata": {},
   "outputs": [
    {
     "name": "stdout",
     "output_type": "stream",
     "text": [
      "Number of clusters in first event =  2\n",
      "Number of gParticles in first event =  418\n",
      "Number of pairs of 2nd clusters in the first event =  418\n"
     ]
    }
   ],
   "source": [
    "# first event has 2 clusters and 1192 gen particles\n",
    "print(\"Number of clusters in first event = \",len(cls[0]))\n",
    "print(\"Number of gParticles in first event = \",len(gen[0]))\n",
    "print(\"Number of pairs of 2nd clusters in the first event = \",len(cls_gen_pairs[0][1]))"
   ]
  },
  {
   "cell_type": "code",
   "execution_count": 167,
   "metadata": {},
   "outputs": [],
   "source": [
    "# comput all delta R between all pairs\n",
    "delta_R = cls_gen_pairs.cls.delta_r(cls_gen_pairs.gen)"
   ]
  },
  {
   "cell_type": "code",
   "execution_count": 170,
   "metadata": {},
   "outputs": [],
   "source": [
    "matched_gen = cls_gen_pairs.gen[delta_R<0.1]\n",
    "matched_cls = cls_gen_pairs.cls[delta_R<0.1]"
   ]
  },
  {
   "cell_type": "code",
   "execution_count": 177,
   "metadata": {},
   "outputs": [
    {
     "data": {
      "text/plain": [
       "<Array [[[], []], [[0.728], ... [[]], [[]]] type='423 * var * var * float32[para...'>"
      ]
     },
     "execution_count": 177,
     "metadata": {},
     "output_type": "execute_result"
    }
   ],
   "source": [
    "matched_gen.e"
   ]
  },
  {
   "cell_type": "code",
   "execution_count": 175,
   "metadata": {},
   "outputs": [
    {
     "data": {
      "text/plain": [
       "[11, 13, 22, 130, 211, 310, 321, 2112, 2212]"
      ]
     },
     "execution_count": 175,
     "metadata": {},
     "output_type": "execute_result"
    }
   ],
   "source": [
    "np.unique(ak.flatten(np.abs(matched_gen.id),axis=None)).to_list()"
   ]
  },
  {
   "cell_type": "code",
   "execution_count": 184,
   "metadata": {},
   "outputs": [
    {
     "data": {
      "text/plain": [
       "(exptext: Custom Text(0.0, 1, 'CMS'),\n",
       " expsuffix: Custom Text(0.0, 1.005, 'Simulation'))"
      ]
     },
     "execution_count": 184,
     "metadata": {},
     "output_type": "execute_result"
    },
    {
     "data": {
      "image/png": "[encoded data removed]",
      "text/plain": [
       "<Figure size 576x432 with 1 Axes>"
      ]
     },
     "metadata": {
      "needs_background": "light"
     },
     "output_type": "display_data"
    }
   ],
   "source": [
    "plt.style.use(hep.style.CMS) \n",
    "fig, axs = plt.subplots(1,1, figsize=(8,6))\n",
    "h = hist.Hist(\"Events\",\n",
    "         hist.Cat(\"sample\",\"sample\"),\n",
    "         hist.Bin(\"ClusterSize\",\"ClusterSize\",100,0,1000))\n",
    "h.fill(sample=\"incl.\",ClusterSize=ak.flatten(cls.size))\n",
    "hist.plot1d(h,ax=axs)\n",
    "hep.cms.label(ax=axs)"
   ]
  },
  {
   "cell_type": "code",
   "execution_count": 220,
   "metadata": {},
   "outputs": [
    {
     "data": {
      "text/plain": [
       "<Array [False, True, True, ... False, False] type='118 * bool'>"
      ]
     },
     "execution_count": 220,
     "metadata": {},
     "output_type": "execute_result"
    }
   ],
   "source": [
    "ak.flatten(,None)"
   ]
  },
  {
   "cell_type": "code",
   "execution_count": 210,
   "metadata": {},
   "outputs": [
    {
     "data": {
      "text/plain": [
       "<Array [[[], []], [[False], ... [[]], [[]]] type='423 * var * var * bool'>"
      ]
     },
     "execution_count": 210,
     "metadata": {},
     "output_type": "execute_result"
    }
   ],
   "source": [
    "abs(matched_gen.id)>100 "
   ]
  },
  {
   "cell_type": "code",
   "execution_count": null,
   "metadata": {},
   "outputs": [],
   "source": []
  },
  {
   "cell_type": "code",
   "execution_count": 222,
   "metadata": {},
   "outputs": [
    {
     "data": {
      "text/plain": [
       "(exptext: Custom Text(0.001, 1, 'CMS'),\n",
       " expsuffix: Custom Text(0.001, 1.005, 'Simulation'))"
      ]
     },
     "execution_count": 222,
     "metadata": {},
     "output_type": "execute_result"
    },
    {
     "data": {
      "image/png": "[encoded data removed]",
      "text/plain": [
       "<Figure size 576x432 with 1 Axes>"
      ]
     },
     "metadata": {
      "needs_background": "light"
     },
     "output_type": "display_data"
    }
   ],
   "source": [
    "plt.style.use(hep.style.CMS) \n",
    "fig, axs = plt.subplots(1,1, figsize=(8,6))\n",
    "\n",
    "h = hist.Hist(\"Events\",\n",
    "         hist.Cat(\"sample\",\"sample\"),\n",
    "         hist.Bin(\"E\",\"Matched gParticleE\",300,0,300))\n",
    "h.fill(sample=\"incl.\",E=ak.flatten(matched_gen.e,axis=None))\n",
    "h.fill(sample=\"mu\",E=ak.flatten(matched_gen[abs(matched_gen.id)==13].e,axis=None))\n",
    "mesons = np.logical_and(matched_gen.id>100,matched_gen.id<1000)\n",
    "h.fill(sample=\"Mesons\",E=ak.flatten(matched_gen[mesons].e,axis=None))\n",
    "hist.plot1d(h,ax=axs)\n",
    "axs.set_yscale(\"log\")\n",
    "axs.set_ylim(1e-1,None)\n",
    "hep.cms.label(ax=axs)\n"
   ]
  },
  {
   "cell_type": "code",
   "execution_count": 199,
   "metadata": {},
   "outputs": [
    {
     "data": {
      "text/plain": [
       "<Array [0.535] type='1 * float32'>"
      ]
     },
     "execution_count": 199,
     "metadata": {},
     "output_type": "execute_result"
    }
   ],
   "source": [
    "ak.flatten(matched_gen[matched_gen.id==11].e,axis=None)"
   ]
  },
  {
   "cell_type": "code",
   "execution_count": null,
   "metadata": {},
   "outputs": [],
   "source": []
  }
 ],
 "metadata": {
  "kernelspec": {
   "display_name": "coffeaenv",
   "language": "python",
   "name": "coffeaenv"
  },
  "language_info": {
   "codemirror_mode": {
    "name": "ipython",
    "version": 3
   },
   "file_extension": ".py",
   "mimetype": "text/x-python",
   "name": "python",
   "nbconvert_exporter": "python",
   "pygments_lexer": "ipython3",
   "version": "3.7.6"
  }
 },
 "nbformat": 4,
 "nbformat_minor": 2
}
