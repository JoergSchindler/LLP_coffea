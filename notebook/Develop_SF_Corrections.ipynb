{
 "cells": [
  {
   "cell_type": "code",
   "execution_count": 2,
   "metadata": {},
   "outputs": [],
   "source": [
    "import numpy as np\n",
    "import matplotlib.pyplot as plt\n",
    "import awkward as ak\n",
    "from coffea import hist, processor\n",
    "import coffea\n",
    "import uproot\n",
    "import sys\n",
    "sys.path.insert(0,\"../\")\n",
    "# from corrections import add_pileup_weight\n",
    "\n",
    "import pickle\n",
    "import glob\n",
    "\n",
    "import mplhep as hep\n",
    "plt.style.use(hep.style.CMS) \n",
    "import pandas as pd\n",
    "from coffea.lookup_tools import extractor"
   ]
  },
  {
   "cell_type": "code",
   "execution_count": 3,
   "metadata": {},
   "outputs": [],
   "source": [
    "from HNLprocessor.HNLproc_4 import *"
   ]
  },
  {
   "cell_type": "code",
   "execution_count": 4,
   "metadata": {},
   "outputs": [],
   "source": [
    "events_sig =  uproot.lazy(\"/uscms/home/kkwok/lpclonglived/HNL/skim/HNL_muonType_mHNL4p0_pl1000/HeavyNeutralLepton_Tree_1.root:MuonSystem\")"
   ]
  },
  {
   "cell_type": "code",
   "execution_count": null,
   "metadata": {},
   "outputs": [],
   "source": [
    "basedir=\"/uscms/home/jschindl/nobackup/HNL/LLP_coffea/metadata/muonefficiencies/Run2/preUL/\"\n",
    "ext = extractor()\n",
    "year=2018\n",
    "ext.add_weight_sets([f'muon_ID_2018_value NUM_TightID_DEN_TrackerMuons_pt_abseta {basedir}/2018/2018_Z/RunABCD_SF_ID.root'])\n",
    "ext.add_weight_sets([f'muon_ID_2018_error NUM_TightID_DEN_TrackerMuons_pt_abseta_error {basedir}/2018/2018_Z/RunABCD_SF_ID.root'])\n",
    "\n",
    "ext.add_weight_sets([f'muon_ISO_2018_value NUM_TightRelIso_DEN_TightIDandIPCut_pt_abseta {basedir}/2018/2018_Z/RunABCD_SF_ISO.root'])\n",
    "ext.add_weight_sets([f'muon_ISO_2018_error NUM_TightRelIso_DEN_TightIDandIPCut_pt_abseta_error {basedir}/2018/2018_Z/RunABCD_SF_ISO.root'])\n",
    "\n",
    "ext.add_weight_sets([f'muon_trigger_2018_value IsoMu24_PtEtaBins/efficienciesDATA/abseta_pt_DATA {basedir}/2018/2018_trigger/EfficienciesAndSF_2018Data_BeforeMuonHLTUpdate.root'])\n",
    "ext.add_weight_sets([f'muon_trigger_2018_error IsoMu24_PtEtaBins/efficienciesDATA/abseta_pt_DATA_error {basedir}/2018/2018_trigger/EfficienciesAndSF_2018Data_BeforeMuonHLTUpdate.root'])\n",
    "\n",
    "ext.finalize()\n",
    "lepsf_evaluator = ext.make_evaluator()\n",
    "lepsf_keys = lepsf_evaluator.keys()\n",
    "\n",
    "def add_muonSFs(weights, leadingmuon, year, selection):\n",
    "    def mask(w):\n",
    "        return np.where(selection.all('good_lepton'), w, 1.)\n",
    "\n",
    "    yeartag = year\n",
    "\n",
    "    for sf in lepsf_keys:\n",
    "\n",
    "        if yeartag not in sf:\n",
    "            continue\n",
    "        if 'muon' not in sf:\n",
    "            continue\n",
    "\n",
    "        lep_pt = np.array(ak.fill_none(leadingmuon.pt, 0.))\n",
    "        lep_eta = np.array(ak.fill_none(leadingmuon.eta, 0.))\n",
    "\n",
    "        if 'value' in sf:\n",
    "            \n",
    "            nom = lepsf_evaluator[sf](np.abs(lep_eta),lep_pt)\n",
    "            shift = lepsf_evaluator[sf.replace('_value','_error')](np.abs(lep_eta),lep_pt)\n",
    "            print(sf)\n",
    "            print(nom)\n",
    "            print(shift)\n",
    "            weights.add(sf, nom, shift, shift=True)"
   ]
  },
  {
   "cell_type": "code",
   "execution_count": 7,
   "metadata": {},
   "outputs": [
    {
     "name": "stdout",
     "output_type": "stream",
     "text": [
      "PreSel_dt\n",
      "['trigger_mu', 'MET', 'METfilters', 'good_lepton', 'Acceptance_dt']\n",
      "ABCD_dt\n",
      "['trigger_mu', 'MET', 'METfilters', 'good_lepton', 'Acceptance_dt', 'dt_cls_ABCD']\n",
      "muon_ID_2018_value\n",
      "[0.98001127 0.9894084  0.98001127 ... 0.98001127 0.9894084  0.98001127]\n",
      "[0.00355718 0.00210046 0.00355718 ... 0.00355718 0.00210046 0.00355718]\n",
      "muon_ISO_2018_value\n",
      "[1.08817058 0.98083427 1.08817058 ... 1.08817058 0.98083427 1.08817058]\n",
      "[0.00661688 0.00631073 0.00661688 ... 0.00661688 0.00631073 0.00661688]\n",
      "muon_trigger_2018_value\n",
      "[0.6818621  0.8900847  0.88079304 ... 0.8427144  0.8900847  0.8041993 ]\n",
      "[0.00249751 0.00077066 0.00063185 ... 0.0004202  0.00077066 0.0012834 ]\n"
     ]
    }
   ],
   "source": [
    "def run_processor(events_sig,signal=True):\n",
    "    \n",
    "    isData=False\n",
    "    isSignal=True\n",
    "    dataset = \"HNL_muonType_mHNL4p0_pl1000\"\n",
    "    p = MyProcessor(isElectronChannel=False)  \n",
    "    output = p.accumulator.identity()  ## get from histograms\n",
    "    llp      = p.buildLLP(events_sig)\n",
    "    good_lep,ele,muons = p.buildGoodLeptons(events_sig)\n",
    "    cluster = p.buildCSCcluster(events_sig,good_lep)\n",
    "    dt_cluster = p.buildDTcluster(events_sig,good_lep)\n",
    "\n",
    "    clusterMasks = p.selectCSCcluster(cluster,events_sig)\n",
    "    dt_clusterMasks = p.selectDTcluster(dt_cluster,events_sig)\n",
    "\n",
    "    CSC_sel_ABCD = [\"ME11_12_veto\",\"jetVeto\",\"muonVeto\",\"MB1seg_veto\",\"RB1_veto\",\n",
    "                        \"IntimeCut\",\"timeSpreadCut\",\"ClusterID\"]\n",
    "    DT_sel_ABCD = [\"dt_MB1veto\",\"dt_jetVeto\",\"dt_muonVeto\",\"dt_RPC\",\"dt_MB1adj\",\"dt_time\",\n",
    "                  ]\n",
    "\n",
    "    selectionMasks =   {}\n",
    "    selectionMasks['Acceptance_dt']=ak.firsts(events_sig.gLLP_dt)==1\n",
    "    selectionMasks['trigger_ele']  =events_sig.SingleEleTrigger==True\n",
    "    selectionMasks['trigger_mu']   =events_sig.SingleMuonTrigger==True\n",
    "    selectionMasks['good_lepton']  =ak.num(good_lep,axis=1)==1\n",
    "    selectionMasks['MET']          =events_sig.metEENoise>=30\n",
    "    selectionMasks['METfilters']   =events_sig.Flag2_all==True\n",
    "\n",
    "    selectionMasks['dt_cls_ABCD']  = buildMask(dt_clusterMasks,DT_sel_ABCD)\n",
    "    selectionMasks['cls_ABCD']  = buildMask(clusterMasks,CSC_sel_ABCD)\n",
    "    preselections = ['trigger_mu','MET',\"METfilters\",'good_lepton']\n",
    "    if signal:\n",
    "        preselections = ['trigger_mu','MET',\"METfilters\",'good_lepton','Acceptance_dt']\n",
    "    regions = {\n",
    "        \"PreSel_dt\"       :preselections,\n",
    "        \"ABCD_dt\"      :preselections+[\"dt_cls_ABCD\"],            \n",
    "\n",
    "    }\n",
    "    for region,cutnames in regions.items():\n",
    "            print(region)\n",
    "            print(cutnames)\n",
    "            ## Fill other regions without cutflows\n",
    "            #cut = buildMask(selectionMasks,cutnames)\n",
    "    weights = Weights(len(events_sig),storeIndividual=True)\n",
    "    if not isData:\n",
    "        corrections.add_pileup_weight(weights, events_sig.npu,'2018')\n",
    "        corrections.add_Wpt_kfactor(weights, events_sig.gWPt, dataset)\n",
    "        if isSignal and \"rwctau\" in dataset:\n",
    "            ## expect dataset = \"HNL_*_pl{ctau_old}_rwctau{ctau_new}\"\n",
    "            ctau_old =  float(dataset.split(\"_\")[-2].replace(\"pl\",\"\"))/10     ##ctau in dataset name is in mm\n",
    "            ctau_new =  float(dataset.split(\"_\")[-1].replace(\"rwctau\",\"\"))/10 ##new ctau needs to be in cm\n",
    "            corrections.add_ctau_weight(weights, llp.ctau, ctau_old, ctau_new)\n",
    "        #add_muonSFs(weights, leadingmuon, year, selection)\n",
    "        add_muonSFs(weights, ak.firsts(muons), \"2018\", selectionMasks)\n",
    "        pass\n",
    "    systematics = list(weights.variations)\n",
    "    cut = buildMask(selectionMasks,regions[\"PreSel_dt\"])\n",
    "    if cut.ndim==1:\n",
    "        ev_cut = cut                  ##This is a per-event cut\n",
    "    else:\n",
    "        ev_cut = ak.any(cut,axis=1)   ##This is a per-cluster cut, require at least 1 passing cluster\n",
    "    \n",
    "    output['muPt'].fill(dataset=dataset , muPt  = ak.flatten(muons.pt) )\n",
    "    output['muPt_sys'].fill(dataset=dataset ,Sys=\"Nominal\", muPt  = ak.flatten(muons[ev_cut].pt),weight=weights.weight()[ev_cut])\n",
    "    for i in systematics:\n",
    "        output['muPt_sys'].fill(dataset=dataset ,Sys=str(i), muPt  = ak.flatten(muons[ev_cut].pt),weight=weights.weight(modifier=i)[ev_cut])\n",
    "        \n",
    "    output= p.postprocess(output)\n",
    "    return dt_cluster, ev_cut, muons, weights, output\n",
    "dt_cluster_sig, evt_cut_sig, muons, weights, output = run_processor(events_sig,signal=True)"
   ]
  },
  {
   "cell_type": "code",
   "execution_count": 34,
   "metadata": {},
   "outputs": [
    {
     "name": "stdout",
     "output_type": "stream",
     "text": [
      "cutflow\n",
      "nCluster\n",
      "nCluster_dt\n",
      "nCluster_n-1\n",
      "accept\n",
      "ClusterSize\n",
      "ClusterTime\n",
      "ClusterEta\n",
      "ClusterAvgStation10\n",
      "ClusterNStation10\n",
      "dphi_cluster_csc\n",
      "dr_lep_and_dphi_lep\n",
      "ClusterEta_dt\n",
      "ClusterAvgStation10_dt\n",
      "ClusterNStation10_dt\n",
      "dr_lep_and_dphi_lep_dt\n",
      "dphi_cluster_dt\n",
      "ClusterID_dt\n",
      "ClusterEta_dt_dphi_lep\n",
      "ClusterAvgStation10_dt_dphi_lep\n",
      "ClusterNStation10_dt_dphi_lep\n",
      "ClusternMB1\n",
      "Cluster_MuonVeto_Pt_dt\n",
      "Cluster_MuonVeto_Eta_dt\n",
      "Cluster_MuonVeto_Phi_dt\n",
      "ClusterID_csc\n",
      "ClusterSize_dt\n",
      "ClusterTime_dt\n",
      "ClusterMaxStationRatio_dt\n",
      "nLeptons\n",
      "DiMuonMass\n",
      "elePt\n",
      "eleEta\n",
      "muPt\n",
      "muPt_sys\n",
      "muEta\n",
      "nJets\n",
      "jetPt\n",
      "jetMet_dPhi\n",
      "metXYCorr\n",
      "MT\n",
      "weight_histo\n",
      "nPU\n",
      "nPU_noweight\n",
      "gWPt\n",
      "gWPt_noweight\n",
      "gLepPhi\n",
      "gLepPt\n",
      "gLepEta\n",
      "gLLP_e\n",
      "gLLP_pt\n",
      "gLLP_eta\n",
      "llp_cls_z\n",
      "llp_cls_eff_z\n",
      "llp_cls_eff_r\n",
      "llp_cls_eff_e\n",
      "llp_cls_dt_eff_z\n",
      "llp_cls_dt_eff_r\n",
      "llp_cls_dt_eff_e\n",
      "sumw\n"
     ]
    },
    {
     "ename": "TypeError",
     "evalue": "postprocess() missing 1 required positional argument: 'accumulator'",
     "output_type": "error",
     "traceback": [
      "\u001b[0;31m---------------------------------------------------------------------------\u001b[0m",
      "\u001b[0;31mTypeError\u001b[0m                                 Traceback (most recent call last)",
      "\u001b[0;32m<ipython-input-34-aa7801c98eef>\u001b[0m in \u001b[0;36m<module>\u001b[0;34m\u001b[0m\n\u001b[1;32m     28\u001b[0m     \u001b[0;32mreturn\u001b[0m \u001b[0maccumulator\u001b[0m\u001b[0;34m\u001b[0m\u001b[0;34m\u001b[0m\u001b[0m\n\u001b[1;32m     29\u001b[0m \u001b[0;34m\u001b[0m\u001b[0m\n\u001b[0;32m---> 30\u001b[0;31m \u001b[0moutput\u001b[0m \u001b[0;34m=\u001b[0m \u001b[0mpostprocess\u001b[0m\u001b[0;34m(\u001b[0m\u001b[0moutput\u001b[0m\u001b[0;34m)\u001b[0m\u001b[0;34m\u001b[0m\u001b[0;34m\u001b[0m\u001b[0m\n\u001b[0m",
      "\u001b[0;31mTypeError\u001b[0m: postprocess() missing 1 required positional argument: 'accumulator'"
     ]
    }
   ],
   "source": [
    "for k,h in output.items():\n",
    "    print(k)\n",
    "\n",
    "    \n",
    "output = postprocess(output)"
   ]
  },
  {
   "cell_type": "code",
   "execution_count": 45,
   "metadata": {},
   "outputs": [
    {
     "name": "stdout",
     "output_type": "stream",
     "text": [
      "{('Nominal',): array([ 0.        ,  0.        ,  0.        ,  0.        ,  0.        ,\n",
      "        0.        ,  0.        ,  0.        ,  0.        ,  0.        ,\n",
      "       17.02494108, 16.32744679, 31.43595538, 25.96787728, 37.04538134,\n",
      "       36.9715343 , 29.07077397, 25.69035511, 11.01546393,  3.91074546,\n",
      "        3.75827372,  4.3726817 ,  0.31923175,  4.09933457,  2.82806204,\n",
      "       10.46989972,  0.        ,  4.29388634,  0.        ,  1.48169595,\n",
      "        1.31497058,  0.66059721,  0.        ,  0.        ,  0.        ,\n",
      "        0.        ,  0.        ,  0.        ,  0.        ,  0.        ]), ('muon_ID_2018_valueUp',): array([ 0.        ,  0.        ,  0.        ,  0.        ,  0.        ,\n",
      "        0.        ,  0.        ,  0.        ,  0.        ,  0.        ,\n",
      "       17.08673712, 16.38671111, 31.5500596 , 26.06213382, 37.1798463 ,\n",
      "       37.10573122, 29.17629321, 25.78360431, 11.05544716,  3.92494043,\n",
      "        3.77191526,  4.38855338,  0.32039048,  4.11421408,  2.83832716,\n",
      "       10.50790269,  0.        ,  4.30947202,  0.        ,  1.48707411,\n",
      "        1.31974357,  0.662995  ,  0.        ,  0.        ,  0.        ,\n",
      "        0.        ,  0.        ,  0.        ,  0.        ,  0.        ]), ('muon_ID_2018_valueDown',): array([ 0.        ,  0.        ,  0.        ,  0.        ,  0.        ,\n",
      "        0.        ,  0.        ,  0.        ,  0.        ,  0.        ,\n",
      "       16.96336853, 16.2683968 , 31.32226383, 25.87396163, 36.91140269,\n",
      "       36.83782273, 28.96563636, 25.59744314, 10.97562531,  3.89660182,\n",
      "        3.74468151,  4.35686742,  0.31807721,  4.08450889,  2.81783404,\n",
      "       10.43203419,  0.        ,  4.27835704,  0.        ,  1.47633723,\n",
      "        1.31021484,  0.65820809,  0.        ,  0.        ,  0.        ,\n",
      "        0.        ,  0.        ,  0.        ,  0.        ,  0.        ])}\n"
     ]
    },
    {
     "data": {
      "image/png": "[encoded data removed]",
      "text/plain": [
       "<Figure size 576x576 with 1 Axes>"
      ]
     },
     "metadata": {
      "needs_background": "light"
     },
     "output_type": "display_data"
    }
   ],
   "source": [
    "\n",
    "h = output['muPt_sys']\n",
    "\n",
    "#h = h.integrate(\"Sys\",[\"nominal\",\"muon_ID_2018_valueDown\",\"muon_ID_2018_valueUp\"])\n",
    "h = h.integrate(\"dataset\",'HNL_muonType_mHNL4p0_pl1000')\n",
    "\n",
    "plt.style.use(hep.style.CMS) \n",
    "\n",
    "fig, axs = plt.subplots(1,1, figsize=(8,8))\n",
    "print(h[[\"Nominal\",\"muon_ID_2018_valueDown\",\"muon_ID_2018_valueUp\"]].values())\n",
    "#axs = axs.flatten()\n",
    "\n",
    "hist.plot1d(h[[\"Nominal\",\"muon_ID_2018_valueDown\",\"muon_ID_2018_valueUp\"]],ax=axs)\n",
    "#axs.set_yscale(\"log\")\n",
    "\n",
    "axs.set_xlim(20,70)\n",
    "plt.tight_layout()"
   ]
  },
  {
   "cell_type": "code",
   "execution_count": 8,
   "metadata": {},
   "outputs": [
    {
     "name": "stdout",
     "output_type": "stream",
     "text": [
      "<Hist (Sys,muPt) instance at 0x7f19caa21b90>\n"
     ]
    },
    {
     "name": "stderr",
     "output_type": "stream",
     "text": [
      "/uscms/home/jschindl/work/LLP/coffeaenv/lib/python3.7/site-packages/coffea/hist/plot.py:427: RuntimeWarning: invalid value encountered in true_divide\n",
      "  rsumw = sumw_num / sumw_denom\n",
      "/uscms/home/jschindl/work/LLP/coffeaenv/lib/python3.7/site-packages/coffea/hist/plot.py:439: RuntimeWarning: invalid value encountered in true_divide\n",
      "  poisson_interval(rsumw, sumw2_num / sumw_denom**2) - rsumw\n",
      "/cvmfs/sft.cern.ch/lcg/views/LCG_98python3/x86_64-centos7-gcc9-opt/lib/python3.7/site-packages/scipy/stats/_distn_infrastructure.py:881: RuntimeWarning: invalid value encountered in greater\n",
      "  cond = logical_and(cond, (asarray(arg) > 0))\n"
     ]
    },
    {
     "data": {
      "image/png": "[encoded data removed]",
      "text/plain": [
       "<Figure size 576x576 with 2 Axes>"
      ]
     },
     "metadata": {
      "needs_background": "light"
     },
     "output_type": "display_data"
    }
   ],
   "source": [
    "\n",
    "\n",
    "h = output['muPt_sys']\n",
    "\n",
    "#h = h.integrate(\"Sys\",[\"nominal\",\"muon_ID_2018_valueDown\",\"muon_ID_2018_valueUp\"])\n",
    "h = h.integrate(\"dataset\",'HNL_muonType_mHNL4p0_pl1000')\n",
    "\n",
    "plt.style.use(hep.style.CMS) \n",
    "fig, axs = plt.subplots(2,1, figsize=(8,8),gridspec_kw={\"height_ratios\":[2,1]},sharex=True)\n",
    "\n",
    "axs = axs.flatten()\n",
    "\n",
    "hist.plot1d(h[[\"Nominal\",\"muon_ID_2018_valueDown\",\"muon_ID_2018_valueUp\"]],ax=axs[0])\n",
    "print(h[\"Nominal\",])\n",
    "hist.plotratio(h.integrate(\"Sys\",\"Nominal\"), \n",
    "               h.integrate(\"Sys\",\"muon_ID_2018_valueDown\"),unc=\"num\",ax=axs[1],\n",
    "               denom_fill_opts=None,error_opts=\"\")\n",
    "#axs.set_yscale(\"log\")\n",
    "\n",
    "axs[1].set_ylim(0.5,1.5)\n",
    "plt.tight_layout()"
   ]
  },
  {
   "cell_type": "code",
   "execution_count": 80,
   "metadata": {},
   "outputs": [
    {
     "name": "stdout",
     "output_type": "stream",
     "text": [
      "['muon_trigger_2018_valueDown', 'muon_ID_2018_valueDown', 'muon_trigger_2018_valueUp', 'muon_ISO_2018_valueDown', 'muon_ID_2018_valueUp', 'muon_ISO_2018_valueUp', 'pileup_weightDown', 'pileup_weightUp']\n",
      "[0.56843935 0.55863025 1.38008349 ... 1.24797065 1.07298295 0.81009454]\n",
      "(<Array [] type='0 * int64'>,)\n",
      "[0.56638353 0.55744682 1.37509227 ... 1.24345723 1.07070989 0.80716475]\n"
     ]
    }
   ],
   "source": [
    "print(list(weights.variations))\n",
    "print(weights.weight())\n",
    "print(ak.where(weights.partial_weight(include=\"pileup_weightUp\")!=1))\n",
    "print(weights.weight(modifier=\"muon_ID_2018_valueDown\"))"
   ]
  },
  {
   "cell_type": "code",
   "execution_count": null,
   "metadata": {},
   "outputs": [],
   "source": []
  },
  {
   "cell_type": "code",
   "execution_count": 29,
   "metadata": {},
   "outputs": [],
   "source": [
    "muons.pt\n",
    "ep_pt = np.array(ak.fill_none(ak.firsts(muons.pt), 0.))"
   ]
  },
  {
   "cell_type": "code",
   "execution_count": 14,
   "metadata": {},
   "outputs": [],
   "source": [
    "basedir=\"/uscms/home/jschindl/nobackup/HNL/LLP_coffea/metadata/muonefficiencies/Run2/preUL/\"\n",
    "ext = extractor()\n",
    "year=2018\n",
    "ext.add_weight_sets([f'muon_ID_2018_value NUM_TightID_DEN_TrackerMuons_pt_abseta {basedir}/2018/2018_Z/RunABCD_SF_ID.root'])\n",
    "ext.add_weight_sets([f'muon_ID_2018_error NUM_TightID_DEN_TrackerMuons_pt_abseta_error {basedir}/2018/2018_Z/RunABCD_SF_ID.root'])\n",
    "\n",
    "ext.add_weight_sets([f'muon_ISO_2018_value NUM_TightRelIso_DEN_TightIDandIPCut_pt_abseta {basedir}/2018/2018_Z/RunABCD_SF_ISO.root'])\n",
    "ext.add_weight_sets([f'muon_ISO_2018_error NUM_TightRelIso_DEN_TightIDandIPCut_pt_abseta_error {basedir}/2018/2018_Z/RunABCD_SF_ISO.root'])\n",
    "\n",
    "ext.add_weight_sets([f'muon_trigger_2018_value IsoMu24_PtEtaBins/efficienciesDATA/abseta_pt_DATA {basedir}/2018/2018_trigger/EfficienciesAndSF_2018Data_BeforeMuonHLTUpdate.root'])\n",
    "ext.add_weight_sets([f'muon_trigger_2018_error IsoMu24_PtEtaBins/efficienciesDATA/abseta_pt_DATA_error {basedir}/2018/2018_trigger/EfficienciesAndSF_2018Data_BeforeMuonHLTUpdate.root'])\n",
    "\n",
    "ext.finalize()\n",
    "lepsf_evaluator = ext.make_evaluator()\n",
    "lepsf_keys = lepsf_evaluator.keys()"
   ]
  },
  {
   "cell_type": "code",
   "execution_count": 12,
   "metadata": {},
   "outputs": [
    {
     "name": "stdout",
     "output_type": "stream",
     "text": [
      "available evaluator keys:\n",
      "\t IsoMu24_EtaBins/efficienciesDATA/histo_eta_DATA\n",
      "\t IsoMu24_EtaBins/efficienciesDATA/histo_eta_DATA_error\n",
      "\t IsoMu24_EtaBins/efficienciesMC/histo_eta_MC\n",
      "\t IsoMu24_EtaBins/efficienciesMC/histo_eta_MC_error\n",
      "\t IsoMu24_EtaBins/eta_ratio\n",
      "\t IsoMu24_EtaBins/eta_ratio_error\n",
      "\t IsoMu24_PtBins/efficienciesDATA/histo_pt_DATA\n",
      "\t IsoMu24_PtBins/efficienciesDATA/histo_pt_DATA_error\n",
      "\t IsoMu24_PtBins/efficienciesMC/histo_pt_MC\n",
      "\t IsoMu24_PtBins/efficienciesMC/histo_pt_MC_error\n",
      "\t IsoMu24_PtBins/pt_ratio\n",
      "\t IsoMu24_PtBins/pt_ratio_error\n",
      "\t IsoMu24_PtEtaBins/efficienciesDATA/abseta_pt_DATA\n",
      "\t IsoMu24_PtEtaBins/efficienciesDATA/abseta_pt_DATA_error\n",
      "\t IsoMu24_PtEtaBins/efficienciesDATA/pt_abseta_DATA\n",
      "\t IsoMu24_PtEtaBins/efficienciesDATA/pt_abseta_DATA_error\n",
      "\t IsoMu24_PtEtaBins/efficienciesMC/abseta_pt_MC\n",
      "\t IsoMu24_PtEtaBins/efficienciesMC/abseta_pt_MC_error\n",
      "\t IsoMu24_PtEtaBins/efficienciesMC/pt_abseta_MC\n",
      "\t IsoMu24_PtEtaBins/efficienciesMC/pt_abseta_MC_error\n",
      "\t IsoMu24_PtEtaBins/abseta_pt_ratio\n",
      "\t IsoMu24_PtEtaBins/abseta_pt_ratio_error\n",
      "\t IsoMu24_PtEtaBins/pt_abseta_ratio\n",
      "\t IsoMu24_PtEtaBins/pt_abseta_ratio_error\n",
      "\t IsoMu24_VtxBins/efficienciesDATA/histo_tag_nVertices_DATA\n",
      "\t IsoMu24_VtxBins/efficienciesDATA/histo_tag_nVertices_DATA_error\n",
      "\t IsoMu24_VtxBins/efficienciesMC/histo_tag_nVertices_MC\n",
      "\t IsoMu24_VtxBins/efficienciesMC/histo_tag_nVertices_MC_error\n",
      "\t IsoMu24_VtxBins/tag_nVertices_ratio\n",
      "\t IsoMu24_VtxBins/tag_nVertices_ratio_error\n",
      "\t Mu50_OR_OldMu100_OR_TkMu100_EtaBins/efficienciesDATA/histo_eta_DATA\n",
      "\t Mu50_OR_OldMu100_OR_TkMu100_EtaBins/efficienciesDATA/histo_eta_DATA_error\n",
      "\t Mu50_OR_OldMu100_OR_TkMu100_EtaBins/efficienciesMC/histo_eta_MC\n",
      "\t Mu50_OR_OldMu100_OR_TkMu100_EtaBins/efficienciesMC/histo_eta_MC_error\n",
      "\t Mu50_OR_OldMu100_OR_TkMu100_EtaBins/eta_ratio\n",
      "\t Mu50_OR_OldMu100_OR_TkMu100_EtaBins/eta_ratio_error\n",
      "\t Mu50_OR_OldMu100_OR_TkMu100_PtBins/efficienciesDATA/histo_pt_DATA\n",
      "\t Mu50_OR_OldMu100_OR_TkMu100_PtBins/efficienciesDATA/histo_pt_DATA_error\n",
      "\t Mu50_OR_OldMu100_OR_TkMu100_PtBins/efficienciesMC/histo_pt_MC\n",
      "\t Mu50_OR_OldMu100_OR_TkMu100_PtBins/efficienciesMC/histo_pt_MC_error\n",
      "\t Mu50_OR_OldMu100_OR_TkMu100_PtBins/pt_ratio\n",
      "\t Mu50_OR_OldMu100_OR_TkMu100_PtBins/pt_ratio_error\n",
      "\t Mu50_OR_OldMu100_OR_TkMu100_PtEtaBins/efficienciesDATA/abseta_pt_DATA\n",
      "\t Mu50_OR_OldMu100_OR_TkMu100_PtEtaBins/efficienciesDATA/abseta_pt_DATA_error\n",
      "\t Mu50_OR_OldMu100_OR_TkMu100_PtEtaBins/efficienciesDATA/pt_abseta_DATA\n",
      "\t Mu50_OR_OldMu100_OR_TkMu100_PtEtaBins/efficienciesDATA/pt_abseta_DATA_error\n",
      "\t Mu50_OR_OldMu100_OR_TkMu100_PtEtaBins/efficienciesMC/abseta_pt_MC\n",
      "\t Mu50_OR_OldMu100_OR_TkMu100_PtEtaBins/efficienciesMC/abseta_pt_MC_error\n",
      "\t Mu50_OR_OldMu100_OR_TkMu100_PtEtaBins/efficienciesMC/pt_abseta_MC\n",
      "\t Mu50_OR_OldMu100_OR_TkMu100_PtEtaBins/efficienciesMC/pt_abseta_MC_error\n",
      "\t Mu50_OR_OldMu100_OR_TkMu100_PtEtaBins/abseta_pt_ratio\n",
      "\t Mu50_OR_OldMu100_OR_TkMu100_PtEtaBins/abseta_pt_ratio_error\n",
      "\t Mu50_OR_OldMu100_OR_TkMu100_PtEtaBins/pt_abseta_ratio\n",
      "\t Mu50_OR_OldMu100_OR_TkMu100_PtEtaBins/pt_abseta_ratio_error\n",
      "\t Mu50_OR_OldMu100_OR_TkMu100_VtxBins/efficienciesDATA/histo_tag_nVertices_DATA\n",
      "\t Mu50_OR_OldMu100_OR_TkMu100_VtxBins/efficienciesDATA/histo_tag_nVertices_DATA_error\n",
      "\t Mu50_OR_OldMu100_OR_TkMu100_VtxBins/efficienciesMC/histo_tag_nVertices_MC\n",
      "\t Mu50_OR_OldMu100_OR_TkMu100_VtxBins/efficienciesMC/histo_tag_nVertices_MC_error\n",
      "\t Mu50_OR_OldMu100_OR_TkMu100_VtxBins/tag_nVertices_ratio\n",
      "\t Mu50_OR_OldMu100_OR_TkMu100_VtxBins/tag_nVertices_ratio_error\n"
     ]
    }
   ],
   "source": [
    "ext = extractor()\n",
    "# several histograms can be imported at once using wildcards (*)\n",
    "ext.add_weight_sets([\"* * ../metadata/muonefficiencies/Run2/preUL//2018/2018_trigger/EfficienciesAndSF_2018Data_BeforeMuonHLTUpdate.root\"])\n",
    "ext.finalize()\n",
    "evaluator = ext.make_evaluator()\n",
    "\n",
    "print(\"available evaluator keys:\")\n",
    "for key in evaluator.keys():\n",
    "    print(\"\\t\", key)"
   ]
  },
  {
   "cell_type": "code",
   "execution_count": null,
   "metadata": {},
   "outputs": [],
   "source": []
  },
  {
   "cell_type": "code",
   "execution_count": null,
   "metadata": {},
   "outputs": [],
   "source": []
  },
  {
   "cell_type": "code",
   "execution_count": null,
   "metadata": {},
   "outputs": [],
   "source": []
  },
  {
   "cell_type": "code",
   "execution_count": null,
   "metadata": {},
   "outputs": [],
   "source": []
  },
  {
   "cell_type": "code",
   "execution_count": null,
   "metadata": {},
   "outputs": [],
   "source": []
  },
  {
   "cell_type": "code",
   "execution_count": 7,
   "metadata": {},
   "outputs": [],
   "source": [
    "from coffea.lookup_tools import extractor"
   ]
  },
  {
   "cell_type": "code",
   "execution_count": 42,
   "metadata": {},
   "outputs": [
    {
     "name": "stdout",
     "output_type": "stream",
     "text": [
      "available evaluator keys:\n",
      "\t NUM_TightRelIso_DEN_MediumID_pt_abseta\n",
      "\t NUM_TightRelIso_DEN_MediumID_pt_abseta_error\n",
      "\t NUM_TightRelIso_DEN_MediumID_pt_abseta_stat\n",
      "\t NUM_TightRelIso_DEN_MediumID_pt_abseta_stat_error\n",
      "\t NUM_TightRelIso_DEN_MediumID_pt_abseta_syst\n",
      "\t NUM_TightRelIso_DEN_MediumID_pt_abseta_syst_error\n",
      "\t NUM_LooseRelIso_DEN_MediumID_pt_abseta\n",
      "\t NUM_LooseRelIso_DEN_MediumID_pt_abseta_error\n",
      "\t NUM_LooseRelIso_DEN_MediumID_pt_abseta_stat\n",
      "\t NUM_LooseRelIso_DEN_MediumID_pt_abseta_stat_error\n",
      "\t NUM_LooseRelIso_DEN_MediumID_pt_abseta_syst\n",
      "\t NUM_LooseRelIso_DEN_MediumID_pt_abseta_syst_error\n",
      "\t NUM_TightRelIso_DEN_TightIDandIPCut_pt_abseta\n",
      "\t NUM_TightRelIso_DEN_TightIDandIPCut_pt_abseta_error\n",
      "\t NUM_TightRelIso_DEN_TightIDandIPCut_pt_abseta_stat\n",
      "\t NUM_TightRelIso_DEN_TightIDandIPCut_pt_abseta_stat_error\n",
      "\t NUM_TightRelIso_DEN_TightIDandIPCut_pt_abseta_syst\n",
      "\t NUM_TightRelIso_DEN_TightIDandIPCut_pt_abseta_syst_error\n",
      "\t NUM_LooseRelIso_DEN_LooseID_pt_abseta\n",
      "\t NUM_LooseRelIso_DEN_LooseID_pt_abseta_error\n",
      "\t NUM_LooseRelIso_DEN_LooseID_pt_abseta_stat\n",
      "\t NUM_LooseRelIso_DEN_LooseID_pt_abseta_stat_error\n",
      "\t NUM_LooseRelIso_DEN_LooseID_pt_abseta_syst\n",
      "\t NUM_LooseRelIso_DEN_LooseID_pt_abseta_syst_error\n",
      "\t NUM_TightRelTkIso_DEN_TrkHighPtID_pair_newTuneP_probe_pt_abseta\n",
      "\t NUM_TightRelTkIso_DEN_TrkHighPtID_pair_newTuneP_probe_pt_abseta_error\n",
      "\t NUM_TightRelTkIso_DEN_TrkHighPtID_pair_newTuneP_probe_pt_abseta_stat\n",
      "\t NUM_TightRelTkIso_DEN_TrkHighPtID_pair_newTuneP_probe_pt_abseta_stat_error\n",
      "\t NUM_TightRelTkIso_DEN_TrkHighPtID_pair_newTuneP_probe_pt_abseta_syst\n",
      "\t NUM_TightRelTkIso_DEN_TrkHighPtID_pair_newTuneP_probe_pt_abseta_syst_error\n",
      "\t NUM_LooseRelTkIso_DEN_TrkHighPtID_pair_newTuneP_probe_pt_abseta\n",
      "\t NUM_LooseRelTkIso_DEN_TrkHighPtID_pair_newTuneP_probe_pt_abseta_error\n",
      "\t NUM_LooseRelTkIso_DEN_TrkHighPtID_pair_newTuneP_probe_pt_abseta_stat\n",
      "\t NUM_LooseRelTkIso_DEN_TrkHighPtID_pair_newTuneP_probe_pt_abseta_stat_error\n",
      "\t NUM_LooseRelTkIso_DEN_TrkHighPtID_pair_newTuneP_probe_pt_abseta_syst\n",
      "\t NUM_LooseRelTkIso_DEN_TrkHighPtID_pair_newTuneP_probe_pt_abseta_syst_error\n",
      "\t NUM_LooseRelTkIso_DEN_HighPtIDandIPCut_pair_newTuneP_probe_pt_abseta\n",
      "\t NUM_LooseRelTkIso_DEN_HighPtIDandIPCut_pair_newTuneP_probe_pt_abseta_error\n",
      "\t NUM_LooseRelTkIso_DEN_HighPtIDandIPCut_pair_newTuneP_probe_pt_abseta_stat\n",
      "\t NUM_LooseRelTkIso_DEN_HighPtIDandIPCut_pair_newTuneP_probe_pt_abseta_stat_error\n",
      "\t NUM_LooseRelTkIso_DEN_HighPtIDandIPCut_pair_newTuneP_probe_pt_abseta_syst\n",
      "\t NUM_LooseRelTkIso_DEN_HighPtIDandIPCut_pair_newTuneP_probe_pt_abseta_syst_error\n",
      "\t NUM_LooseRelIso_DEN_TightIDandIPCut_pt_abseta\n",
      "\t NUM_LooseRelIso_DEN_TightIDandIPCut_pt_abseta_error\n",
      "\t NUM_LooseRelIso_DEN_TightIDandIPCut_pt_abseta_stat\n",
      "\t NUM_LooseRelIso_DEN_TightIDandIPCut_pt_abseta_stat_error\n",
      "\t NUM_LooseRelIso_DEN_TightIDandIPCut_pt_abseta_syst\n",
      "\t NUM_LooseRelIso_DEN_TightIDandIPCut_pt_abseta_syst_error\n",
      "\t NUM_TightRelTkIso_DEN_HighPtIDandIPCut_pair_newTuneP_probe_pt_abseta\n",
      "\t NUM_TightRelTkIso_DEN_HighPtIDandIPCut_pair_newTuneP_probe_pt_abseta_error\n",
      "\t NUM_TightRelTkIso_DEN_HighPtIDandIPCut_pair_newTuneP_probe_pt_abseta_stat\n",
      "\t NUM_TightRelTkIso_DEN_HighPtIDandIPCut_pair_newTuneP_probe_pt_abseta_stat_error\n",
      "\t NUM_TightRelTkIso_DEN_HighPtIDandIPCut_pair_newTuneP_probe_pt_abseta_syst\n",
      "\t NUM_TightRelTkIso_DEN_HighPtIDandIPCut_pair_newTuneP_probe_pt_abseta_syst_error\n"
     ]
    }
   ],
   "source": [
    "ext = extractor()\n",
    "# several histograms can be imported at once using wildcards (*)\n",
    "ext.add_weight_sets([\"* * ../metadata/muonefficiencies/Run2/preUL//2018/2018_Z/RunABCD_SF_ISO.root\"])\n",
    "ext.finalize()\n",
    "\n",
    "evaluator = ext.make_evaluator()\n",
    "\n",
    "print(\"available evaluator keys:\")\n",
    "for key in evaluator.keys():\n",
    "    print(\"\\t\", key)\n"
   ]
  },
  {
   "cell_type": "code",
   "execution_count": 39,
   "metadata": {},
   "outputs": [
    {
     "name": "stdout",
     "output_type": "stream",
     "text": [
      "available evaluator keys:\n",
      "\t NUM_LooseRelTkIso_DEN_HighPtIDandIPCut_eta_pair_newTuneP_probe_pt\n",
      "\t NUM_LooseRelTkIso_DEN_HighPtIDandIPCut_eta_pair_newTuneP_probe_pt_error\n",
      "\t NUM_LooseRelTkIso_DEN_HighPtIDandIPCut_eta_pair_newTuneP_probe_pt_stat\n",
      "\t NUM_LooseRelTkIso_DEN_HighPtIDandIPCut_eta_pair_newTuneP_probe_pt_stat_error\n",
      "\t NUM_LooseRelTkIso_DEN_HighPtIDandIPCut_eta_pair_newTuneP_probe_pt_syst\n",
      "\t NUM_LooseRelTkIso_DEN_HighPtIDandIPCut_eta_pair_newTuneP_probe_pt_syst_error\n",
      "\t NUM_TightRelIso_DEN_MediumID_eta_pt\n",
      "\t NUM_TightRelIso_DEN_MediumID_eta_pt_error\n",
      "\t NUM_TightRelIso_DEN_MediumID_eta_pt_stat\n",
      "\t NUM_TightRelIso_DEN_MediumID_eta_pt_stat_error\n",
      "\t NUM_TightRelIso_DEN_MediumID_eta_pt_syst\n",
      "\t NUM_TightRelIso_DEN_MediumID_eta_pt_syst_error\n",
      "\t NUM_TightRelIso_DEN_TightIDandIPCut_eta_pt\n",
      "\t NUM_TightRelIso_DEN_TightIDandIPCut_eta_pt_error\n",
      "\t NUM_TightRelIso_DEN_TightIDandIPCut_eta_pt_stat\n",
      "\t NUM_TightRelIso_DEN_TightIDandIPCut_eta_pt_stat_error\n",
      "\t NUM_TightRelIso_DEN_TightIDandIPCut_eta_pt_syst\n",
      "\t NUM_TightRelIso_DEN_TightIDandIPCut_eta_pt_syst_error\n",
      "\t NUM_LooseRelIso_DEN_MediumID_eta_pt\n",
      "\t NUM_LooseRelIso_DEN_MediumID_eta_pt_error\n",
      "\t NUM_LooseRelIso_DEN_MediumID_eta_pt_stat\n",
      "\t NUM_LooseRelIso_DEN_MediumID_eta_pt_stat_error\n",
      "\t NUM_LooseRelIso_DEN_MediumID_eta_pt_syst\n",
      "\t NUM_LooseRelIso_DEN_MediumID_eta_pt_syst_error\n",
      "\t NUM_LooseRelIso_DEN_LooseID_eta_pt\n",
      "\t NUM_LooseRelIso_DEN_LooseID_eta_pt_error\n",
      "\t NUM_LooseRelIso_DEN_LooseID_eta_pt_stat\n",
      "\t NUM_LooseRelIso_DEN_LooseID_eta_pt_stat_error\n",
      "\t NUM_LooseRelIso_DEN_LooseID_eta_pt_syst\n",
      "\t NUM_LooseRelIso_DEN_LooseID_eta_pt_syst_error\n",
      "\t NUM_LooseRelIso_DEN_TightIDandIPCut_eta_pt\n",
      "\t NUM_LooseRelIso_DEN_TightIDandIPCut_eta_pt_error\n",
      "\t NUM_LooseRelIso_DEN_TightIDandIPCut_eta_pt_stat\n",
      "\t NUM_LooseRelIso_DEN_TightIDandIPCut_eta_pt_stat_error\n",
      "\t NUM_LooseRelIso_DEN_TightIDandIPCut_eta_pt_syst\n",
      "\t NUM_LooseRelIso_DEN_TightIDandIPCut_eta_pt_syst_error\n"
     ]
    }
   ],
   "source": [
    "ext = extractor()\n",
    "# several histograms can be imported at once using wildcards (*)\n",
    "ext.add_weight_sets([\"* * ../metadata/muonefficiencies/Run2/preUL//2016/2016_Z/RunBCDEF_SF_ISO.root\"])\n",
    "ext.finalize()\n",
    "\n",
    "evaluator = ext.make_evaluator()\n",
    "\n",
    "print(\"available evaluator keys:\")\n",
    "for key in evaluator.keys():\n",
    "    print(\"\\t\", key)"
   ]
  },
  {
   "cell_type": "code",
   "execution_count": null,
   "metadata": {},
   "outputs": [],
   "source": [
    "ext = extractor()\n",
    "ext.add_weight_sets([\n",
    "    \"* * data/Fall17_17Nov2017_V32_MC_L2Relative_AK4PFPuppi.jec.txt\",\n",
    "    \"* * data/Fall17_17Nov2017_V32_MC_Uncertainty_AK4PFPuppi.junc.txt\",\n",
    "])\n",
    "ext.finalize()"
   ]
  }
 ],
 "metadata": {
  "kernelspec": {
   "display_name": "Python 3",
   "language": "python",
   "name": "python3"
  },
  "language_info": {
   "codemirror_mode": {
    "name": "ipython",
    "version": 3
   },
   "file_extension": ".py",
   "mimetype": "text/x-python",
   "name": "python",
   "nbconvert_exporter": "python",
   "pygments_lexer": "ipython3",
   "version": "3.7.6"
  }
 },
 "nbformat": 4,
 "nbformat_minor": 2
}
