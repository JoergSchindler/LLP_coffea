{
 "cells": [
  {
   "cell_type": "code",
   "execution_count": 2,
   "metadata": {},
   "outputs": [
    {
     "name": "stdout",
     "output_type": "stream",
     "text": [
      "Welcome to JupyROOT 6.22/00\n"
     ]
    }
   ],
   "source": [
    "import ROOT as r\n",
    "import coffea\n",
    "import coffea.hist as hist\n",
    "from coffea.nanoevents.methods import vector\n",
    "import uproot\n",
    "import matplotlib.pyplot as plt\n",
    "import mplhep as hep\n",
    "import numpy as np\n",
    "\n",
    "from pyjet import cluster\n",
    "import awkward as ak"
   ]
  },
  {
   "cell_type": "code",
   "execution_count": 8,
   "metadata": {},
   "outputs": [],
   "source": [
    "# events_raw = uproot.open(\"~/eos/llp/HNL/HeavyNeutralLepton_Tree.root\")['MuonSystem']\n",
    "# events_raw = uproot.open(\"~/eos/llp/ZToMuMu_NNPDF31_13TeV-powheg_M_6000_Inf/HeavyNeutralLepton_Tree.root\")['MuonSystem']\n",
    "# events_raw = uproot.open(\"../ggH_HToSSTodddd_v2/HeavyNeutralLepton_Tree_45_7_1000.root\")['MuonSystem']\n",
    "\n",
    "# events_raw = uproot.open(\"~/eos/llp/SingleMu_2017B/HeavyNeutralLepton_Tree.root\")['MuonSystem']\n",
    "# events_raw = uproot.open(\"~/eos/llp/WJetsToLNu_TuneCP5_13TeV-madgraphMLM-pythia8/HeavyNeutralLepton_Tree.root\")['MuonSystem']\n",
    "events_raw = uproot.open(\"~/eos/llp/WJetsToLNu/HeavyNeutralLepton_Tree_0.root\")['MuonSystem']\n",
    "\n",
    "df = coffea.processor.LazyDataFrame(events_raw,entrystop=1000)\n",
    "start,stop = df._branchargs['entry_start'],df._branchargs['entry_stop']\n",
    "events = uproot.lazy(df._tree)\n",
    "events = events[start:stop]"
   ]
  },
  {
   "cell_type": "code",
   "execution_count": null,
   "metadata": {},
   "outputs": [],
   "source": [
    "# events = events[:2000]\n",
    "\n",
    "isData = not(ak.any(events.gParticleE) or ak.any(events.gLepE))\n",
    "print(isData)"
   ]
  },
  {
   "cell_type": "code",
   "execution_count": 46,
   "metadata": {},
   "outputs": [
    {
     "data": {
      "text/plain": [
       "1000"
      ]
     },
     "execution_count": 46,
     "metadata": {},
     "output_type": "execute_result"
    }
   ],
   "source": [
    "ak.max(events.ctau)"
   ]
  },
  {
   "cell_type": "code",
   "execution_count": null,
   "metadata": {},
   "outputs": [],
   "source": []
  },
  {
   "cell_type": "code",
   "execution_count": 42,
   "metadata": {},
   "outputs": [
    {
     "data": {
      "text/plain": [
       "<Array [0.116, 1.99e-05, ... 0.114, 0.0592] type='1000 * ?float32'>"
      ]
     },
     "execution_count": 42,
     "metadata": {},
     "output_type": "execute_result"
    }
   ],
   "source": [
    "ct_old = 100\n",
    "np.exp(ak.firsts(events.gLLP_ctau)*(1/100-1/10))"
   ]
  },
  {
   "cell_type": "code",
   "execution_count": 43,
   "metadata": {},
   "outputs": [
    {
     "data": {
      "text/plain": [
       "0.0070493347"
      ]
     },
     "execution_count": 43,
     "metadata": {},
     "output_type": "execute_result"
    }
   ],
   "source": [
    "np.min(ak.firsts(events.gLLP_ctau))"
   ]
  },
  {
   "cell_type": "code",
   "execution_count": 36,
   "metadata": {},
   "outputs": [
    {
     "data": {
      "image/png": "[encoded data removed]",
      "text/plain": [
       "<Figure size 432x288 with 1 Axes>"
      ]
     },
     "metadata": {
      "needs_background": "light"
     },
     "output_type": "display_data"
    }
   ],
   "source": [
    "bins, h = np.histogram(np.array(ak.firsts(events.gLLP_ctau)),100,(0,100))\n",
    "plt.hist(bins,h)\n",
    "plt.yscale(\"log\")"
   ]
  },
  {
   "cell_type": "code",
   "execution_count": null,
   "metadata": {},
   "outputs": [],
   "source": []
  },
  {
   "cell_type": "code",
   "execution_count": 4,
   "metadata": {
    "scrolled": true
   },
   "outputs": [
    {
     "data": {
      "text/plain": [
       "['runNum',\n",
       " 'lumiSec',\n",
       " 'evtNum',\n",
       " 'mH',\n",
       " 'mX',\n",
       " 'ctau',\n",
       " 'ZCategory',\n",
       " 'category',\n",
       " 'npv',\n",
       " 'npu',\n",
       " 'weight',\n",
       " 'higgsPtWeight',\n",
       " 'higgsPtWeightSys',\n",
       " 'scaleWeights',\n",
       " 'lepOverallSF',\n",
       " 'sf_facScaleUp',\n",
       " 'sf_facScaleDown',\n",
       " 'sf_renScaleUp',\n",
       " 'sf_renScaleDown',\n",
       " 'sf_facRenScaleUp',\n",
       " 'sf_facRenScaleDown',\n",
       " 'metSF',\n",
       " 'pileupWeight',\n",
       " 'pileupWeightUp',\n",
       " 'pileupWeightDown',\n",
       " 'Flag_HBHENoiseFilter',\n",
       " 'Flag_BadPFMuonFilter',\n",
       " 'Flag_HBHEIsoNoiseFilter',\n",
       " 'Flag_CSCTightHaloFilter',\n",
       " 'Flag_globalSuperTightHalo2016Filter',\n",
       " 'Flag_goodVertices',\n",
       " 'Flag_ecalBadCalibFilter',\n",
       " 'Flag_BadChargedCandidateFilter',\n",
       " 'Flag_eeBadScFilter',\n",
       " 'Flag_all',\n",
       " 'Flag2_HBHENoiseFilter',\n",
       " 'Flag2_HBHEIsoNoiseFilter',\n",
       " 'Flag2_BadPFMuonFilter',\n",
       " 'Flag2_globalSuperTightHalo2016Filter',\n",
       " 'Flag2_globalTightHalo2016Filter',\n",
       " 'Flag2_BadChargedCandidateFilter',\n",
       " 'Flag2_EcalDeadCellTriggerPrimitiveFilter',\n",
       " 'Flag2_ecalBadCalibFilter',\n",
       " 'Flag2_eeBadScFilter',\n",
       " 'Flag2_all',\n",
       " 'EE_prefiring',\n",
       " 'rho',\n",
       " 'met',\n",
       " 'metNoMu',\n",
       " 'metPhi',\n",
       " 'metXYCorr',\n",
       " 'metPhiXYCorr',\n",
       " 'HT',\n",
       " 'jetMet_dPhi',\n",
       " 'jetMet_dPhiMin',\n",
       " 'jetMet_dPhiMin4',\n",
       " 'metJESUp',\n",
       " 'metJESDown',\n",
       " 'metPhiJESUp',\n",
       " 'metPhiJESDown',\n",
       " 'metJESUpSF',\n",
       " 'metJESDownSF',\n",
       " 'metEENoise',\n",
       " 'metPhiEENoise',\n",
       " 'metHEM',\n",
       " 'metPhiHEM',\n",
       " 'metEENoiseXYCorr',\n",
       " 'metPhiEENoiseXYCorr',\n",
       " 'metHEMXYCorr',\n",
       " 'metPhiHEMXYCorr',\n",
       " 'genMetPtTrue',\n",
       " 'genMetPhiTrue',\n",
       " 'genMetPtCalo',\n",
       " 'genMetPhiCalo',\n",
       " 'nGenParticle',\n",
       " 'gParticleId',\n",
       " 'gParticleStatus',\n",
       " 'gParticleMotherId',\n",
       " 'gParticleE',\n",
       " 'gParticlePt',\n",
       " 'gParticleEta',\n",
       " 'gParticlePhi',\n",
       " 'nGenJets',\n",
       " 'genJetE',\n",
       " 'genJetPt',\n",
       " 'genJetEta',\n",
       " 'genJetPhi',\n",
       " 'genJetMET',\n",
       " 'gWPt',\n",
       " 'gLepId',\n",
       " 'gLepPt',\n",
       " 'gLepE',\n",
       " 'gLepEta',\n",
       " 'gLepPhi',\n",
       " 'gHiggsPt',\n",
       " 'gHiggsE',\n",
       " 'gHiggsEta',\n",
       " 'gHiggsPhi',\n",
       " 'nCscRechits',\n",
       " 'nEarlyCscRechits',\n",
       " 'nLateCscRechits',\n",
       " 'nEarly2CscRechits',\n",
       " 'nLate2CscRechits',\n",
       " 'nCscRings',\n",
       " 'nCscPositiveYRechits',\n",
       " 'nCscNegativeYRechits',\n",
       " 'cscPosTpeak',\n",
       " 'cscNegTpeak',\n",
       " 'nRpc',\n",
       " 'nDtSeg',\n",
       " 'nDTRechits',\n",
       " 'nDtRings',\n",
       " 'nDTPositiveYRechits',\n",
       " 'nDTNegativeYRechits',\n",
       " 'nDTRechitsChamberMinus12',\n",
       " 'nDTRechitsChamberMinus11',\n",
       " 'nDTRechitsChamber10',\n",
       " 'nDTRechitsChamberPlus11',\n",
       " 'nDTRechitsChamberPlus12',\n",
       " 'nDTRechitsChamberMinus22',\n",
       " 'nDTRechitsChamberMinus21',\n",
       " 'nDTRechitsChamber20',\n",
       " 'nDTRechitsChamberPlus21',\n",
       " 'nDTRechitsChamberPlus22',\n",
       " 'nDTRechitsChamberMinus32',\n",
       " 'nDTRechitsChamberMinus31',\n",
       " 'nDTRechitsChamber30',\n",
       " 'nDTRechitsChamberPlus31',\n",
       " 'nDTRechitsChamberPlus32',\n",
       " 'nDTRechitsChamberMinus42',\n",
       " 'nDTRechitsChamberMinus41',\n",
       " 'nDTRechitsChamber40',\n",
       " 'nDTRechitsChamberPlus41',\n",
       " 'nDTRechitsChamberPlus42',\n",
       " 'dtRechitsEta',\n",
       " 'dtRechitsPhi',\n",
       " 'dtRechitsStation',\n",
       " 'dtRechitsWheel',\n",
       " 'rpcEta',\n",
       " 'rpcPhi',\n",
       " 'rpc_RE12',\n",
       " 'rpc_RB1',\n",
       " 'dtSegEta',\n",
       " 'dtSegPhi',\n",
       " 'dtSegWheel',\n",
       " 'dtSegStation',\n",
       " 'nCscRechitClusters3',\n",
       " 'cscRechitCluster3_match_Me1112_0p4',\n",
       " 'cscRechitCluster3_match_Me1112_0p6',\n",
       " 'cscRechitCluster3_match_Me1112_0p8',\n",
       " 'cscRechitCluster3_match_Me11_0p4',\n",
       " 'cscRechitCluster3_match_Me11_0p6',\n",
       " 'cscRechitCluster3_match_Me11_0p8',\n",
       " 'cscRechitCluster3_match_Me12_0p4',\n",
       " 'cscRechitCluster3_match_Me12_0p6',\n",
       " 'cscRechitCluster3_match_Me12_0p8',\n",
       " 'cscRechitCluster3_match_gParticle_id',\n",
       " 'cscRechitCluster3_match_gParticle',\n",
       " 'cscRechitCluster3_match_gParticle_minDeltaR',\n",
       " 'cscRechitCluster3_match_gParticle_index',\n",
       " 'cscRechitCluster3_match_gParticle_eta',\n",
       " 'cscRechitCluster3_match_gParticle_phi',\n",
       " 'cscRechitCluster3_match_gParticle_E',\n",
       " 'cscRechitCluster3_match_gParticle_pt',\n",
       " 'cscRechitCluster3_match_gParticle_MotherId',\n",
       " 'cscRechitCluster3_match_gLLP',\n",
       " 'cscRechitCluster3_match_gLLP_minDeltaR',\n",
       " 'cscRechitCluster3_match_gLLP_index',\n",
       " 'cscRechitCluster3_match_gLLP_eta',\n",
       " 'cscRechitCluster3_match_gLLP_phi',\n",
       " 'cscRechitCluster3_match_gLLP_decay_r',\n",
       " 'cscRechitCluster3_match_gLLP_decay_x',\n",
       " 'cscRechitCluster3_match_gLLP_decay_y',\n",
       " 'cscRechitCluster3_match_gLLP_decay_z',\n",
       " 'cscRechitCluster3_match_gLLP_ctau',\n",
       " 'cscRechitCluster3_match_gLLP_beta',\n",
       " 'cscRechitCluster3_match_gLLP_csc',\n",
       " 'cscRechitCluster3_match_gLLP_daughterKaon',\n",
       " 'cscRechitCluster3_match_gLLP_e',\n",
       " 'cscRechitCluster3_match_gLLP_pt',\n",
       " 'cscRechitCluster3_match_gLLP_EMFracE',\n",
       " 'cscRechitCluster3_match_gLLP_EMFracEz',\n",
       " 'cscRechitCluster3_match_gLLP_EMFracP',\n",
       " 'cscRechitCluster3_match_gLLP_EMFracPz',\n",
       " 'cscRechitCluster3_match_gLLP_visE',\n",
       " 'cscRechitCluster3_match_gLLP_visEz',\n",
       " 'cscRechitCluster3_match_gLLP_visP',\n",
       " 'cscRechitCluster3_match_gLLP_visPz',\n",
       " 'cscRechitCluster3_match_gLLP_lepdPhi',\n",
       " 'cscRechitCluster3_match_gLLP_daughter0_deltaR',\n",
       " 'cscRechitCluster3_match_gLLP_daughter1_deltaR',\n",
       " 'cscRechitCluster3_match_gLLP_daughter2_deltaR',\n",
       " 'cscRechitCluster3_match_gLLP_daughter3_deltaR',\n",
       " 'cscRechitCluster3_match_gLLP_other_daughter_deltaR',\n",
       " 'cscRechitCluster3_match_gLLP_other_daughter_index',\n",
       " 'cscRechitCluster3_match_gLLP_other_eta',\n",
       " 'cscRechitCluster3_match_gLLP_other_phi',\n",
       " 'cscRechitCluster3_match_gLLP_other_decay_r',\n",
       " 'cscRechitCluster3_match_gLLP_other_decay_x',\n",
       " 'cscRechitCluster3_match_gLLP_other_decay_y',\n",
       " 'cscRechitCluster3_match_gLLP_other_decay_z',\n",
       " 'cscRechitCluster3_match_gLLP_other_ctau',\n",
       " 'cscRechitCluster3_match_gLLP_other_beta',\n",
       " 'cscRechitCluster3_match_gLLP_other_csc',\n",
       " 'cscRechitCluster3_match_gLLP_other_e',\n",
       " 'cscRechitCluster3_match_gLLP_other_pt',\n",
       " 'cscRechitCluster3X',\n",
       " 'cscRechitCluster3Y',\n",
       " 'cscRechitCluster3Z',\n",
       " 'cscRechitCluster3Time',\n",
       " 'cscRechitCluster3TimeWire',\n",
       " 'cscRechitCluster3TimeWirePruned',\n",
       " 'cscRechitCluster3TimeTotal',\n",
       " 'cscRechitCluster3TimeSpread',\n",
       " 'cscRechitCluster3TimeTotalSpread',\n",
       " 'cscRechitCluster3TimeTotalSpreadPruned',\n",
       " 'cscRechitCluster3TimeWireSpread',\n",
       " 'cscRechitCluster3GenMuonDeltaR',\n",
       " 'cscRechitCluster3XYSpread',\n",
       " 'cscRechitCluster3MajorAxis',\n",
       " 'cscRechitCluster3MinorAxis',\n",
       " 'cscRechitCluster3EtaPhiSpread',\n",
       " 'cscRechitCluster3PhiSpread',\n",
       " 'cscRechitCluster3EtaSpread',\n",
       " 'cscRechitCluster3DeltaRSpread',\n",
       " 'cscRechitCluster3XSpread',\n",
       " 'cscRechitCluster3RSpread',\n",
       " 'cscRechitCluster3YSpread',\n",
       " 'cscRechitCluster3ZSpread',\n",
       " 'cscRechitCluster3Phi',\n",
       " 'cscRechitCluster3Eta',\n",
       " 'cscRechitCluster3JetVetoPt',\n",
       " 'cscRechitCluster3JetVetoEta',\n",
       " 'cscRechitCluster3JetVetoPhi',\n",
       " 'cscRechitCluster3JetVetoE',\n",
       " 'cscRechitCluster3GenJetVetoPt',\n",
       " 'cscRechitCluster3GenJetVetoE',\n",
       " 'cscRechitCluster3MuonVetoPt',\n",
       " 'cscRechitCluster3MuonVetoE',\n",
       " 'cscRechitCluster3MuonVetoPhi',\n",
       " 'cscRechitCluster3MuonVetoEta',\n",
       " 'cscRechitCluster3JetVetoElectronEnergyFraction',\n",
       " 'cscRechitCluster3JetVetoPhotonEnergyFraction',\n",
       " 'cscRechitCluster3JetVetoChargedHadronEnergyFraction',\n",
       " 'cscRechitCluster3JetVetoNeutralHadronEnergyFraction',\n",
       " 'cscRechitCluster3JetVetoMuonEnergyFraction',\n",
       " 'cscRechitCluster3JetVetoPt_0p6',\n",
       " 'cscRechitCluster3JetVetoPt_0p8',\n",
       " 'cscRechitCluster3JetVetoE_0p6',\n",
       " 'cscRechitCluster3JetVetoE_0p8',\n",
       " 'cscRechitCluster3MuonVetoPt_0p6',\n",
       " 'cscRechitCluster3MuonVetoPt_0p8',\n",
       " 'cscRechitCluster3MuonVetoE_0p6',\n",
       " 'cscRechitCluster3MuonVetoE_0p8',\n",
       " 'cscRechitCluster3MuonVetoLooseIso',\n",
       " 'cscRechitCluster3MuonVetoTightIso',\n",
       " 'cscRechitCluster3MuonVetoVTightIso',\n",
       " 'cscRechitCluster3MuonVetoVVTightIso',\n",
       " 'cscRechitCluster3MuonVetoTightId',\n",
       " 'cscRechitCluster3MuonVetoLooseId',\n",
       " 'cscRechitCluster3MuonVetoIso',\n",
       " 'cscRechitCluster3IsoMuonVetoPt',\n",
       " 'cscRechitCluster3IsoMuonVetoE',\n",
       " 'cscRechitCluster3IsoMuonVetoPhi',\n",
       " 'cscRechitCluster3IsoMuonVetoEta',\n",
       " 'cscRechitCluster3GenMuonVetoPt',\n",
       " 'cscRechitCluster3MuonVetoType',\n",
       " 'cscRechitCluster3GenMuonVetoE',\n",
       " 'cscRechitCluster3GenMuonVetoProdX',\n",
       " 'cscRechitCluster3GenMuonVetoProdY',\n",
       " 'cscRechitCluster3GenMuonVetoProdZ',\n",
       " 'cscRechitCluster3GenMuonVetoLLPDist',\n",
       " 'cscRechitCluster3GenMuonVetoLLPIndex',\n",
       " 'cscRechitCluster3ZLep1',\n",
       " 'cscRechitCluster3ZLep2',\n",
       " 'cscRechitCluster3ZLep1Tag',\n",
       " 'cscRechitCluster3ZLep2Tag',\n",
       " 'cscRechitCluster3ZLep1Id',\n",
       " 'cscRechitCluster3ZLep2Id',\n",
       " 'cscRechitCluster2ZLep1LooseIso',\n",
       " 'cscRechitCluster3ZLep1TightIso',\n",
       " 'cscRechitCluster3ZLep1VTightIso',\n",
       " 'cscRechitCluster3ZLep1VVTightIso',\n",
       " 'cscRechitCluster3ZLep1TightId',\n",
       " 'cscRechitCluster3ZLep2LooseIso',\n",
       " 'cscRechitCluster3ZLep2TightIso',\n",
       " 'cscRechitCluster3ZLep2VTightIso',\n",
       " 'cscRechitCluster3ZLep2VVTightIso',\n",
       " 'cscRechitCluster3ZLep2TightId',\n",
       " 'cscRechitCluster3Size',\n",
       " 'cscRechitCluster3Me11Ratio',\n",
       " 'cscRechitCluster3Me12Ratio',\n",
       " 'cscRechitCluster3NStation',\n",
       " 'cscRechitCluster3NStation5',\n",
       " 'cscRechitCluster3NStation10',\n",
       " 'cscRechitCluster3NStation10perc',\n",
       " 'cscRechitCluster3AvgStation',\n",
       " 'cscRechitCluster3AvgStation5',\n",
       " 'cscRechitCluster3AvgStation10',\n",
       " 'cscRechitCluster3AvgStation10perc',\n",
       " 'cscRechitCluster3MaxStation',\n",
       " 'cscRechitCluster3MaxStationRatio',\n",
       " 'cscRechitCluster3NChamber',\n",
       " 'cscRechitCluster3MaxChamber',\n",
       " 'cscRechitCluster3MaxChamberRatio',\n",
       " 'cscRechitCluster3NRechitChamberPlus11',\n",
       " 'cscRechitCluster3NRechitChamberPlus12',\n",
       " 'cscRechitCluster3NRechitChamberPlus13',\n",
       " 'cscRechitCluster3NRechitChamberPlus21',\n",
       " 'cscRechitCluster3NRechitChamberPlus22',\n",
       " 'cscRechitCluster3NRechitChamberPlus31',\n",
       " 'cscRechitCluster3NRechitChamberPlus32',\n",
       " 'cscRechitCluster3NRechitChamberPlus41',\n",
       " 'cscRechitCluster3NRechitChamberPlus42',\n",
       " 'cscRechitCluster3NRechitChamberMinus11',\n",
       " 'cscRechitCluster3NRechitChamberMinus12',\n",
       " 'cscRechitCluster3NRechitChamberMinus13',\n",
       " 'cscRechitCluster3NRechitChamberMinus21',\n",
       " 'cscRechitCluster3NRechitChamberMinus22',\n",
       " 'cscRechitCluster3NRechitChamberMinus31',\n",
       " 'cscRechitCluster3NRechitChamberMinus32',\n",
       " 'cscRechitCluster3NRechitChamberMinus41',\n",
       " 'cscRechitCluster3NRechitChamberMinus42',\n",
       " 'cscRechitCluster3Met_dPhi',\n",
       " 'cscRechitCluster3MetXYCorr_dPhi',\n",
       " 'cscRechitCluster3_match_cscRechits_0p4',\n",
       " 'cscRechitCluster3MetHEM_dPhi',\n",
       " 'cscRechitCluster3MetHEMXYCorr_dPhi',\n",
       " 'cscRechitCluster3MetEENoise_dPhi',\n",
       " 'cscRechitCluster3MetEENoiseXYCorr_dPhi',\n",
       " 'cscRechitCluster3MetJesUp_dPhi',\n",
       " 'cscRechitCluster3MetJesDown_dPhi',\n",
       " 'cscRechitCluster3_match_cscSeg_0p4',\n",
       " 'cscRechitCluster3_match_ME11Seg_0p4',\n",
       " 'cscRechitCluster3_match_ME12Seg_0p4',\n",
       " 'cscRechitCluster3_match_cscSeg_0p6',\n",
       " 'cscRechitCluster3_match_ME11Seg_0p6',\n",
       " 'cscRechitCluster3_match_ME12Seg_0p6',\n",
       " 'cscRechitCluster3_match_dtRechits_phi0p2',\n",
       " 'cscRechitCluster3_match_dtRechits_0p4',\n",
       " 'cscRechitCluster3_match_MB1_0p4',\n",
       " 'cscRechitCluster3_match_dtRechits_0p6',\n",
       " 'cscRechitCluster3_match_MB1_0p6',\n",
       " 'cscRechitCluster3_match_dtSeg_0p4',\n",
       " 'cscRechitCluster3_match_MB1Seg_0p4',\n",
       " 'cscRechitCluster3_match_dtSeg_0p6',\n",
       " 'cscRechitCluster3_match_MB1Seg_0p6',\n",
       " 'cscRechitCluster3_match_RB1_0p4',\n",
       " 'cscRechitCluster3_match_RE12_0p4',\n",
       " 'cscRechitCluster3_match_RB1_0p6',\n",
       " 'cscRechitCluster3_match_RE12_0p6',\n",
       " 'cscRechitCluster3_match_highEta_0p4',\n",
       " 'cscRechitCluster3_match_highEta_0p6',\n",
       " 'cscRechitCluster3_match_highEta_0p8',\n",
       " 'cscRechitCluster3_match_cluster_dR',\n",
       " 'cscRechitCluster3_match_cluster_index',\n",
       " 'gLLP_multiplicity',\n",
       " 'gLLP_eta',\n",
       " 'gLLP_phi',\n",
       " 'gLLP_csc',\n",
       " 'gLLP_beta',\n",
       " 'gLLP_e',\n",
       " 'gLLP_pt',\n",
       " 'gLLP_lepdPhi',\n",
       " 'gLLP_daughterKaon',\n",
       " 'gLLP_ctau',\n",
       " 'gLLP_EMFracE',\n",
       " 'gLLP_EMFracEz',\n",
       " 'gLLP_EMFracP',\n",
       " 'gLLP_EMFracPz',\n",
       " 'gLLP_visE',\n",
       " 'gLLP_visEz',\n",
       " 'gLLP_visP',\n",
       " 'gLLP_visPz',\n",
       " 'gLLP_decay_vertex_r',\n",
       " 'gLLP_decay_vertex_x',\n",
       " 'gLLP_decay_vertex_y',\n",
       " 'gLLP_decay_vertex_z',\n",
       " 'gLLP_deltaR',\n",
       " 'gLLP_daughter_deltaR',\n",
       " 'gLLP_daughter_pt',\n",
       " 'gLLP_daughter_id',\n",
       " 'gLLP_daughter_eta',\n",
       " 'gLLP_daughter_phi',\n",
       " 'gLLP_daughter_e',\n",
       " 'gLLP_daughter_mass',\n",
       " 'nMuons',\n",
       " 'muonPt',\n",
       " 'muonEta',\n",
       " 'muonPhi',\n",
       " 'nLeptons',\n",
       " 'lepE',\n",
       " 'lepPt',\n",
       " 'lepEta',\n",
       " 'lepPhi',\n",
       " 'lepPdgId',\n",
       " 'lepDZ',\n",
       " 'lepPassId',\n",
       " 'lepFromZ',\n",
       " 'lepEff',\n",
       " 'lepSF',\n",
       " 'lepTriggerSF',\n",
       " 'lepTightIdSF',\n",
       " 'lepLooseIdSF',\n",
       " 'lepTightIsoSF',\n",
       " 'lepLooseIsoSF',\n",
       " 'lepTriggerMCEfficiency',\n",
       " 'lepTightIdMCEfficiency',\n",
       " 'lepLooseIdMCEfficiency',\n",
       " 'lepTightIsoMCEfficiency',\n",
       " 'lepLooseIsoMCEfficiency',\n",
       " 'lepTag',\n",
       " 'lepPassLooseIso',\n",
       " 'lepPassTightIso',\n",
       " 'lepPassVTightIso',\n",
       " 'lepPassVVTightIso',\n",
       " 'MT',\n",
       " 'ZMass1',\n",
       " 'ZMass',\n",
       " 'ZPt',\n",
       " 'ZEta',\n",
       " 'ZPhi',\n",
       " 'ZleptonIndex1',\n",
       " 'ZleptonIndex2',\n",
       " 'nJets',\n",
       " 'jetE',\n",
       " 'jetPt',\n",
       " 'jetEta',\n",
       " 'jetPhi',\n",
       " 'jetTime',\n",
       " 'jetPassId',\n",
       " 'jetPtJESUp',\n",
       " 'jetPtJESDown',\n",
       " 'jetEJESUp',\n",
       " 'jetEJESDown',\n",
       " 'JecUnc',\n",
       " 'jet_match_genJet_pt',\n",
       " 'jet_match_genJet_index',\n",
       " 'jet_match_genJet_minDeltaR',\n",
       " 'jetTightPassId',\n",
       " 'HLTDecision',\n",
       " 'SingleMuonTrigger',\n",
       " 'SingleEleTrigger',\n",
       " 'SingleLepTrigger',\n",
       " 'jetMuonEnergyFraction',\n",
       " 'jetElectronEnergyFraction',\n",
       " 'jetPhotonEnergyFraction',\n",
       " 'jetChargedHadronEnergyFraction',\n",
       " 'jetNeutralHadronEnergyFraction']"
      ]
     },
     "execution_count": 4,
     "metadata": {},
     "output_type": "execute_result"
    }
   ],
   "source": [
    "events.fields"
   ]
  },
  {
   "cell_type": "code",
   "execution_count": 6,
   "metadata": {},
   "outputs": [
    {
     "data": {
      "text/plain": [
       "<Array [{runNum: 1, lumiSec: 2, ... ] type='221 * {\"runNum\": uint32, \"lumiSec\": ...'>"
      ]
     },
     "execution_count": 6,
     "metadata": {},
     "output_type": "execute_result"
    }
   ],
   "source": [
    "events[events.SingleLepTrigger==True]"
   ]
  },
  {
   "cell_type": "code",
   "execution_count": 4,
   "metadata": {},
   "outputs": [
    {
     "data": {
      "text/plain": [
       "(<Array [15, 31, 37, 162, ... 734, 773, 774] type='29 * int64'>,)"
      ]
     },
     "execution_count": 4,
     "metadata": {},
     "output_type": "execute_result"
    }
   ],
   "source": [
    "np.where(events.nCscRechitClusters3>0)"
   ]
  },
  {
   "cell_type": "code",
   "execution_count": 7,
   "metadata": {},
   "outputs": [],
   "source": [
    "lep=ak.zip({\n",
    "    'pt':events.lepPt ,\n",
    "    'eta':events.lepEta,\n",
    "    'phi':events.lepPhi,\n",
    "    'energy':events.lepE,\n",
    "    'pdgid':events.lepPdgId,\n",
    "},with_name='PtEtaPhiELorentzVector',\n",
    "behavior=vector.behavior    \n",
    ")  "
   ]
  },
  {
   "cell_type": "code",
   "execution_count": 8,
   "metadata": {},
   "outputs": [],
   "source": [
    "ele   = lep[abs(lep.pdgid)==11]\n",
    "muons = lep[abs(lep.pdgid)==13]"
   ]
  },
  {
   "cell_type": "code",
   "execution_count": 29,
   "metadata": {},
   "outputs": [
    {
     "data": {
      "text/plain": [
       "<Array [13.7, 70.5, 43.4, ... 196, 32.7, 22.4] type='1000 * float32'>"
      ]
     },
     "execution_count": 29,
     "metadata": {},
     "output_type": "execute_result"
    }
   ],
   "source": [
    "events.metXYCorr>"
   ]
  },
  {
   "cell_type": "code",
   "execution_count": 26,
   "metadata": {},
   "outputs": [
    {
     "data": {
      "text/plain": [
       "(<Array [48, 57, 62, 98, ... 924, 945, 947, 955] type='63 * int64'>,)"
      ]
     },
     "execution_count": 26,
     "metadata": {},
     "output_type": "execute_result"
    }
   ],
   "source": [
    "np.where(ak.num((ele.pt>35) & (abs(ele.eta)<2.4),axis=1)==1)"
   ]
  },
  {
   "cell_type": "code",
   "execution_count": 19,
   "metadata": {},
   "outputs": [
    {
     "data": {
      "text/plain": [
       "<Array [False, False, False, ... False, False] type='1000 * bool'>"
      ]
     },
     "execution_count": 19,
     "metadata": {},
     "output_type": "execute_result"
    }
   ],
   "source": [
    "ak.num(ele.pt>25,axis=1)>0"
   ]
  },
  {
   "cell_type": "code",
   "execution_count": 23,
   "metadata": {},
   "outputs": [
    {
     "data": {
      "text/plain": [
       "<Array [-999, -999, -1.29, ... -999, -999] type='2000 * float32'>"
      ]
     },
     "execution_count": 23,
     "metadata": {},
     "output_type": "execute_result"
    }
   ],
   "source": [
    "events.jetMet_dPhi"
   ]
  },
  {
   "cell_type": "code",
   "execution_count": 3,
   "metadata": {},
   "outputs": [
    {
     "data": {
      "text/plain": [
       "<Array [30, 117, 77, 64, ... 75, 62, 57, 54] type='1000 * int32'>"
      ]
     },
     "execution_count": 3,
     "metadata": {},
     "output_type": "execute_result"
    }
   ],
   "source": [
    "events.nCscRechits"
   ]
  },
  {
   "cell_type": "code",
   "execution_count": 5,
   "metadata": {},
   "outputs": [
    {
     "name": "stdout",
     "output_type": "stream",
     "text": [
      "LLP decay inside CSC =  0\n",
      "Total events =  1000\n",
      "Fraction of events inside CSC =  0.0\n"
     ]
    }
   ],
   "source": [
    "llp_csc = ak.any(events.gLLP_csc,axis=1)\n",
    "print(\"LLP decay inside CSC = \",ak.sum(llp_csc))\n",
    "print(\"Total events = \",len(events))\n",
    "print(\"Fraction of events inside CSC = \",np.round(ak.sum(llp_csc)/len(events),3))"
   ]
  },
  {
   "cell_type": "code",
   "execution_count": 24,
   "metadata": {},
   "outputs": [
    {
     "data": {
      "text/plain": [
       "False"
      ]
     },
     "execution_count": 24,
     "metadata": {},
     "output_type": "execute_result"
    }
   ],
   "source": [
    "ak.any(events.gLLP_csc)"
   ]
  },
  {
   "cell_type": "code",
   "execution_count": 13,
   "metadata": {},
   "outputs": [],
   "source": [
    "\n",
    "llp=ak.zip({\n",
    "    'pt':events.gLLP_pt,\n",
    "    'EMfrac':events.gLLP_EMFracE,\n",
    "    'e':events.gLLP_e,\n",
    "    'z':events.gLLP_decay_vertex_z,\n",
    "    'y':events.gLLP_decay_vertex_y,\n",
    "    'x':events.gLLP_decay_vertex_x,    \n",
    "    'r':events.gLLP_decay_vertex_r,\n",
    "}      \n",
    ")  \n",
    "\n",
    "llp = llp[llp.e>0]"
   ]
  },
  {
   "cell_type": "code",
   "execution_count": 14,
   "metadata": {},
   "outputs": [
    {
     "data": {
      "text/plain": [
       "True"
      ]
     },
     "execution_count": 14,
     "metadata": {},
     "output_type": "execute_result"
    }
   ],
   "source": [
    "ak.any(llp)"
   ]
  },
  {
   "cell_type": "code",
   "execution_count": null,
   "metadata": {},
   "outputs": [],
   "source": []
  },
  {
   "cell_type": "code",
   "execution_count": 19,
   "metadata": {},
   "outputs": [],
   "source": [
    "# llp_csc = ak.any(events.gLLP_csc,axis=1)\n",
    "# events = events[(llp_csc==1)]\n",
    "\n",
    "llp=ak.zip({\n",
    "    'pt':events.gLLP_pt,\n",
    "    'EMfrac':events.gLLP_EMFracE,\n",
    "    'e':events.gLLP_e,\n",
    "    'z':events.gLLP_decay_vertex_z,\n",
    "    'y':events.gLLP_decay_vertex_y,\n",
    "    'x':events.gLLP_decay_vertex_x,    \n",
    "    'r':events.gLLP_decay_vertex_r,\n",
    "}      \n",
    ")  \n",
    "\n",
    "llp = llp[llp.e>0]\n",
    "\n",
    "lep=ak.zip({\n",
    "    'pt':events.lepPt ,\n",
    "    'eta':events.lepEta,\n",
    "    'phi':events.lepPhi,\n",
    "    'energy':events.lepE,\n",
    "},with_name='PtEtaPhiELorentzVector',\n",
    "behavior=vector.behavior    \n",
    ")  \n",
    "\n",
    "cluster= ak.zip(\n",
    "    {\n",
    "        \"n\":events.nCscRechitClusters3,\n",
    "        \"time\":events.cscRechitCluster3Time,\n",
    "        'size':events.cscRechitCluster3Size,\n",
    "        \"timeSpread\":events.cscRechitCluster3TimeSpread,\n",
    "        \"eta\":events.cscRechitCluster3Eta,\n",
    "        \"phi\":events.cscRechitCluster3Phi,        \n",
    "        \"x\":events.cscRechitCluster3X,\n",
    "        \"y\":events.cscRechitCluster3Y,\n",
    "        \"z\":events.cscRechitCluster3Z,   \n",
    "        'llp_x':events.cscRechitCluster3_match_gLLP_decay_x,\n",
    "        'llp_y':events.cscRechitCluster3_match_gLLP_decay_y,\n",
    "        'llp_z':events.cscRechitCluster3_match_gLLP_decay_z,        \n",
    "        \"NChamber\":events.cscRechitCluster3NChamber,\n",
    "        \"MaxChamber\":events.cscRechitCluster3MaxChamber,\n",
    "        \"MaxStation\":events.cscRechitCluster3MaxStation,\n",
    "        'ME11ratio':events.cscRechitCluster3Me11Ratio,\n",
    "        'ME12ratio':events.cscRechitCluster3Me12Ratio,        \n",
    "        'match_MB1Seg_0p4':events.cscRechitCluster3_match_MB1Seg_0p4,\n",
    "        'match_RE12_0p4':events.cscRechitCluster3_match_RE12_0p4,        \n",
    "        'match_RB1_0p4':events.cscRechitCluster3_match_RB1_0p4,                \n",
    "        \"NStation10\":events.cscRechitCluster3NStation10,\n",
    "        \"AvgStation10\":events.cscRechitCluster3AvgStation10,\n",
    "        \"llp_match\":events.cscRechitCluster3_match_gLLP,\n",
    "        \"dphi_cluster_MET\":events.cscRechitCluster3MetXYCorr_dPhi,\n",
    "    }\n",
    ")\n",
    "\n",
    "cluster_dir= ak.zip(\n",
    "    {\n",
    "        'pt':ak.ones_like(events.cscRechitCluster3Eta),\n",
    "        \"eta\":events.cscRechitCluster3Eta,\n",
    "        \"phi\":events.cscRechitCluster3Phi,\n",
    "        'mass':ak.zeros_like(events.cscRechitCluster3Eta)\n",
    "    },with_name=\"PtEtaPhiMLorentzVector\",\n",
    "    behavior=vector.behavior\n",
    ")\n",
    "\n",
    "\n",
    "muVeto=ak.zip({\n",
    "    'e':events.cscRechitCluster3MuonVetoE,\n",
    "    'pt':events.cscRechitCluster3MuonVetoPt,\n",
    "    'phi':events.cscRechitCluster3MuonVetoPhi,\n",
    "    'eta':events.cscRechitCluster3MuonVetoEta,\n",
    "    'LooseIso':events.cscRechitCluster3MuonVetoLooseIso,\n",
    "    'LooseId':events.cscRechitCluster3MuonVetoLooseId,    \n",
    "    'TightId':events.cscRechitCluster3MuonVetoTightId,\n",
    "})      \n",
    "\n",
    "jetVeto=ak.zip({\n",
    "    'e':events.cscRechitCluster3JetVetoE,\n",
    "    'pt':events.cscRechitCluster3JetVetoPt,\n",
    "    'phi':events.cscRechitCluster3JetVetoPhi,\n",
    "    'eta':events.cscRechitCluster3JetVetoEta,\n",
    "})      "
   ]
  },
  {
   "cell_type": "code",
   "execution_count": 32,
   "metadata": {},
   "outputs": [],
   "source": [
    "cluster.ME11_ME12=(cluster.ME12ratio+cluster.ME11ratio)*(cluster.size)"
   ]
  },
  {
   "cell_type": "code",
   "execution_count": 33,
   "metadata": {},
   "outputs": [
    {
     "name": "stdout",
     "output_type": "stream",
     "text": [
      "[68, 57]\n",
      "[1, 0] [68, 0]\n",
      "[0, 0.0702] [0, 4]\n",
      "[68, 4]\n"
     ]
    }
   ],
   "source": [
    "print(cluster.size[727])\n",
    "print(cluster.ME11ratio[727],cluster.ME11ratio[727]*cluster.size[727])\n",
    "print(cluster.ME12ratio[727],cluster.ME12ratio[727]*cluster.size[727])\n",
    "print(cluster.ME11_ME12[727])\n"
   ]
  },
  {
   "cell_type": "code",
   "execution_count": 38,
   "metadata": {},
   "outputs": [],
   "source": [
    "c1 = cluster[cluster.ME11_ME12>0]"
   ]
  },
  {
   "cell_type": "code",
   "execution_count": 36,
   "metadata": {},
   "outputs": [
    {
     "data": {
      "text/plain": [
       "<Array [[], [], [], [], ... [], [], [], []] type='622 * var * {\"n\": int32, \"time...'>"
      ]
     },
     "execution_count": 36,
     "metadata": {},
     "output_type": "execute_result"
    }
   ],
   "source": [
    "c1[events.metXYCorr>30]"
   ]
  },
  {
   "cell_type": "code",
   "execution_count": 43,
   "metadata": {},
   "outputs": [
    {
     "data": {
      "text/plain": [
       "<Array [1, 0] type='2 * float32'>"
      ]
     },
     "execution_count": 43,
     "metadata": {},
     "output_type": "execute_result"
    }
   ],
   "source": [
    "cluster.ME11ratio[727]"
   ]
  },
  {
   "cell_type": "code",
   "execution_count": 34,
   "metadata": {},
   "outputs": [
    {
     "data": {
      "text/plain": [
       "<Array [-2.19, 1.33] type='2 * float32'>"
      ]
     },
     "execution_count": 34,
     "metadata": {},
     "output_type": "execute_result"
    }
   ],
   "source": [
    "cluster.eta[727]"
   ]
  },
  {
   "cell_type": "code",
   "execution_count": 55,
   "metadata": {},
   "outputs": [
    {
     "data": {
      "text/plain": [
       "<Array [2.24, 1.32] type='2 * float32'>"
      ]
     },
     "execution_count": 55,
     "metadata": {},
     "output_type": "execute_result"
    }
   ],
   "source": [
    "abs(muVeto.eta)[727]"
   ]
  },
  {
   "cell_type": "code",
   "execution_count": 9,
   "metadata": {},
   "outputs": [
    {
     "data": {
      "text/plain": [
       "(<Array [665, 727] type='2 * int64'>,)"
      ]
     },
     "execution_count": 9,
     "metadata": {},
     "output_type": "execute_result"
    }
   ],
   "source": [
    "np.where(events.nCscRechitClusters3>1)"
   ]
  },
  {
   "cell_type": "code",
   "execution_count": 17,
   "metadata": {},
   "outputs": [
    {
     "data": {
      "text/plain": [
       "<Array [-51.8, -1.17] type='2 * float32'>"
      ]
     },
     "execution_count": 17,
     "metadata": {},
     "output_type": "execute_result"
    }
   ],
   "source": [
    "cluster.time>0"
   ]
  },
  {
   "cell_type": "code",
   "execution_count": 61,
   "metadata": {},
   "outputs": [
    {
     "data": {
      "text/plain": [
       "<Array [True, False] type='2 * bool'>"
      ]
     },
     "execution_count": 61,
     "metadata": {},
     "output_type": "execute_result"
    }
   ],
   "source": [
    "~(muVeto.pt>10)[727]"
   ]
  },
  {
   "cell_type": "code",
   "execution_count": 67,
   "metadata": {},
   "outputs": [
    {
     "data": {
      "text/plain": [
       "<Array [-51.8, -1.17] type='2 * float32'>"
      ]
     },
     "execution_count": 67,
     "metadata": {},
     "output_type": "execute_result"
    }
   ],
   "source": [
    "cluster.time[727]"
   ]
  },
  {
   "cell_type": "code",
   "execution_count": 69,
   "metadata": {},
   "outputs": [
    {
     "data": {
      "text/plain": [
       "1"
      ]
     },
     "execution_count": 69,
     "metadata": {},
     "output_type": "execute_result"
    }
   ],
   "source": [
    "ak.num(cluster[cluster.time<-10],axis=1)[727]"
   ]
  },
  {
   "cell_type": "code",
   "execution_count": 44,
   "metadata": {},
   "outputs": [
    {
     "data": {
      "text/plain": [
       "<Array [0, 1, 0, 0, 0, 1, ... 0, 0, 1, 0, 0, 1] type='21 * int64'>"
      ]
     },
     "execution_count": 44,
     "metadata": {},
     "output_type": "execute_result"
    }
   ],
   "source": [
    "ak.flatten(ak.values_astype(muVeto.LooseIso[cluster.time<0],np.int))"
   ]
  },
  {
   "cell_type": "code",
   "execution_count": 55,
   "metadata": {},
   "outputs": [
    {
     "data": {
      "text/plain": [
       "<Array [False] type='1 * bool'>"
      ]
     },
     "execution_count": 55,
     "metadata": {},
     "output_type": "execute_result"
    }
   ],
   "source": [
    "muVeto[cluster.time>0].LooseIso[36]"
   ]
  },
  {
   "cell_type": "code",
   "execution_count": 54,
   "metadata": {},
   "outputs": [
    {
     "data": {
      "text/plain": [
       "<Array [False] type='1 * bool'>"
      ]
     },
     "execution_count": 54,
     "metadata": {},
     "output_type": "execute_result"
    }
   ],
   "source": [
    "muVeto.LooseIso[36]"
   ]
  },
  {
   "cell_type": "code",
   "execution_count": null,
   "metadata": {},
   "outputs": [],
   "source": []
  },
  {
   "cell_type": "code",
   "execution_count": null,
   "metadata": {},
   "outputs": [],
   "source": []
  },
  {
   "cell_type": "code",
   "execution_count": 8,
   "metadata": {
    "collapsed": true
   },
   "outputs": [
    {
     "ename": "ValueError",
     "evalue": "in IrregularlyPartitionedArray attempting to get 0, index out of range\n\n(https://github.com/scikit-hep/awkward-1.0/blob/1.1.2/src/libawkward/partition/PartitionedArray.cpp#L97)",
     "output_type": "error",
     "traceback": [
      "\u001b[0;31m---------------------------------------------------------------------------\u001b[0m",
      "\u001b[0;31mValueError\u001b[0m                                Traceback (most recent call last)",
      "\u001b[0;32m<ipython-input-8-e85d49d4eea3>\u001b[0m in \u001b[0;36m<module>\u001b[0;34m\u001b[0m\n\u001b[1;32m     12\u001b[0m \u001b[0;34m\u001b[0m\u001b[0m\n\u001b[1;32m     13\u001b[0m \u001b[0;34m\u001b[0m\u001b[0m\n\u001b[0;32m---> 14\u001b[0;31m \u001b[0mnumer\u001b[0m \u001b[0;34m=\u001b[0m \u001b[0mmaskAndFill\u001b[0m\u001b[0;34m(\u001b[0m\u001b[0mllp\u001b[0m\u001b[0;34m.\u001b[0m\u001b[0me\u001b[0m\u001b[0;34m,\u001b[0m\u001b[0mak\u001b[0m\u001b[0;34m.\u001b[0m\u001b[0many\u001b[0m\u001b[0;34m(\u001b[0m\u001b[0mcluster\u001b[0m\u001b[0;34m.\u001b[0m\u001b[0mllp_match\u001b[0m\u001b[0;34m,\u001b[0m\u001b[0maxis\u001b[0m\u001b[0;34m=\u001b[0m\u001b[0;36m1\u001b[0m\u001b[0;34m)\u001b[0m\u001b[0;34m,\u001b[0m\u001b[0mlen\u001b[0m\u001b[0;34m(\u001b[0m\u001b[0mllp\u001b[0m\u001b[0;34m.\u001b[0m\u001b[0me\u001b[0m\u001b[0;34m[\u001b[0m\u001b[0;36m0\u001b[0m\u001b[0;34m]\u001b[0m\u001b[0;34m)\u001b[0m\u001b[0;34m*\u001b[0m\u001b[0;34m[\u001b[0m\u001b[0;36m0\u001b[0m\u001b[0;34m]\u001b[0m\u001b[0;34m)\u001b[0m\u001b[0;34m\u001b[0m\u001b[0m\n\u001b[0m\u001b[1;32m     15\u001b[0m \u001b[0mselection\u001b[0m\u001b[0;34m=\u001b[0m\u001b[0mak\u001b[0m\u001b[0;34m.\u001b[0m\u001b[0mvalues_astype\u001b[0m\u001b[0;34m(\u001b[0m\u001b[0mnumer\u001b[0m\u001b[0;34m>\u001b[0m\u001b[0;36m0\u001b[0m\u001b[0;34m,\u001b[0m\u001b[0mnp\u001b[0m\u001b[0;34m.\u001b[0m\u001b[0mint\u001b[0m\u001b[0;34m)\u001b[0m\u001b[0;34m\u001b[0m\u001b[0m\n\u001b[1;32m     16\u001b[0m \u001b[0;34m\u001b[0m\u001b[0m\n",
      "\u001b[0;32m/uscms_data/d3/kkwok/LLP/CMSSW_10_6_20/src/llp_analyzer/coffeaenv/lib/python3.6/site-packages/awkward/highlevel.py\u001b[0m in \u001b[0;36m__getitem__\u001b[0;34m(self, where)\u001b[0m\n\u001b[1;32m   1005\u001b[0m         \u001b[0mhave\u001b[0m \u001b[0mthe\u001b[0m \u001b[0msame\u001b[0m \u001b[0mdimension\u001b[0m \u001b[0;32mas\u001b[0m \u001b[0mthe\u001b[0m \u001b[0marray\u001b[0m \u001b[0mbeing\u001b[0m \u001b[0mindexed\u001b[0m\u001b[0;34m.\u001b[0m\u001b[0;34m\u001b[0m\u001b[0m\n\u001b[1;32m   1006\u001b[0m         \"\"\"\n\u001b[0;32m-> 1007\u001b[0;31m         \u001b[0;32mreturn\u001b[0m \u001b[0mak\u001b[0m\u001b[0;34m.\u001b[0m\u001b[0m_util\u001b[0m\u001b[0;34m.\u001b[0m\u001b[0mwrap\u001b[0m\u001b[0;34m(\u001b[0m\u001b[0mself\u001b[0m\u001b[0;34m.\u001b[0m\u001b[0m_layout\u001b[0m\u001b[0;34m[\u001b[0m\u001b[0mwhere\u001b[0m\u001b[0;34m]\u001b[0m\u001b[0;34m,\u001b[0m \u001b[0mself\u001b[0m\u001b[0;34m.\u001b[0m\u001b[0m_behavior\u001b[0m\u001b[0;34m)\u001b[0m\u001b[0;34m\u001b[0m\u001b[0m\n\u001b[0m\u001b[1;32m   1008\u001b[0m \u001b[0;34m\u001b[0m\u001b[0m\n\u001b[1;32m   1009\u001b[0m     \u001b[0;32mdef\u001b[0m \u001b[0m__setitem__\u001b[0m\u001b[0;34m(\u001b[0m\u001b[0mself\u001b[0m\u001b[0;34m,\u001b[0m \u001b[0mwhere\u001b[0m\u001b[0;34m,\u001b[0m \u001b[0mwhat\u001b[0m\u001b[0;34m)\u001b[0m\u001b[0;34m:\u001b[0m\u001b[0;34m\u001b[0m\u001b[0m\n",
      "\u001b[0;32m/uscms_data/d3/kkwok/LLP/CMSSW_10_6_20/src/llp_analyzer/coffeaenv/lib/python3.6/site-packages/awkward/partition.py\u001b[0m in \u001b[0;36m__getitem__\u001b[0;34m(self, where)\u001b[0m\n\u001b[1;32m    229\u001b[0m             \u001b[0mwhere\u001b[0m\u001b[0;34m,\u001b[0m \u001b[0;34m(\u001b[0m\u001b[0mnumbers\u001b[0m\u001b[0;34m.\u001b[0m\u001b[0mIntegral\u001b[0m\u001b[0;34m,\u001b[0m \u001b[0mnp\u001b[0m\u001b[0;34m.\u001b[0m\u001b[0minteger\u001b[0m\u001b[0;34m)\u001b[0m\u001b[0;34m\u001b[0m\u001b[0m\n\u001b[1;32m    230\u001b[0m         ):\n\u001b[0;32m--> 231\u001b[0;31m             \u001b[0;32mreturn\u001b[0m \u001b[0mPartitionedArray\u001b[0m\u001b[0;34m.\u001b[0m\u001b[0mfrom_ext\u001b[0m\u001b[0;34m(\u001b[0m\u001b[0mself\u001b[0m\u001b[0;34m.\u001b[0m\u001b[0m_ext\u001b[0m\u001b[0;34m.\u001b[0m\u001b[0mgetitem_at\u001b[0m\u001b[0;34m(\u001b[0m\u001b[0mwhere\u001b[0m\u001b[0;34m)\u001b[0m\u001b[0;34m)\u001b[0m\u001b[0;34m\u001b[0m\u001b[0m\n\u001b[0m\u001b[1;32m    232\u001b[0m \u001b[0;34m\u001b[0m\u001b[0m\n\u001b[1;32m    233\u001b[0m         \u001b[0;32melif\u001b[0m \u001b[0misinstance\u001b[0m\u001b[0;34m(\u001b[0m\u001b[0mwhere\u001b[0m\u001b[0;34m,\u001b[0m \u001b[0mslice\u001b[0m\u001b[0;34m)\u001b[0m\u001b[0;34m:\u001b[0m\u001b[0;34m\u001b[0m\u001b[0m\n",
      "\u001b[0;31mValueError\u001b[0m: in IrregularlyPartitionedArray attempting to get 0, index out of range\n\n(https://github.com/scikit-hep/awkward-1.0/blob/1.1.2/src/libawkward/partition/PartitionedArray.cpp#L97)"
     ]
    }
   ],
   "source": [
    "# # a = ak.flatten(llp.z[ak.any(ClusterID,axis=1)])\n",
    "# <Array [908, -694, 859, ... -1.07e+03, -974] type='15 * float32'>\n",
    "# b = ak.flatten(llp.z)\n",
    "# <Array [621, 908, -721, ... -1.07e+03, -974] type='63 * float32'>\n",
    "# ak.flatten(ak.fill_none(ak.mask(llp.z,ak.any(ClusterID,axis=1)),[0]))\n",
    "# <Array [0, 908, 0, 0, ... 0, -1.07e+03, -974] type='63 * float64'>\n",
    "\n",
    "def maskAndFill(denom,selection,value):\n",
    "    numer = ak.mask(denom,selection)\n",
    "    numer = ak.fill_none(numer, value) #fill none with same structure\n",
    "    return ak.flatten(numer)\n",
    "\n",
    "\n",
    "numer = maskAndFill(llp.e,ak.any(cluster.llp_match,axis=1),len(llp.e[0])*[0])\n",
    "selection=ak.values_astype(numer>0,np.int)\n",
    "\n",
    "h = hist.Hist(\"Events\", hist.Bin(\"selection\", \"pass/fail\", 2, 0, 2),\n",
    "            hist.Bin(\"denom\", \"z\", 50, 500, 1100)\n",
    "         )\n",
    "h.fill(selection=ak.values_astype(numer>0,np.int),\n",
    "       denom=ak.flatten(llp.z)\n",
    ")\n",
    "h.project('selection').values()"
   ]
  },
  {
   "cell_type": "code",
   "execution_count": 165,
   "metadata": {},
   "outputs": [
    {
     "data": {
      "text/plain": [
       "<Array [] type='0 * bool'>"
      ]
     },
     "execution_count": 165,
     "metadata": {},
     "output_type": "execute_result"
    }
   ],
   "source": [
    "cluster.llp_match[3]"
   ]
  },
  {
   "cell_type": "code",
   "execution_count": 164,
   "metadata": {},
   "outputs": [
    {
     "data": {
      "text/plain": [
       "(array([  0,   1,   2,   4,   5,   8,   9,  10,  11,  12,  14,  16,  17,\n",
       "         19,  20,  21,  22,  23,  24,  26,  27,  29,  31,  33,  34,  35,\n",
       "         36,  37,  40,  41,  43,  45,  46,  47,  49,  50,  52,  54,  56,\n",
       "         57,  58,  59,  60,  62,  63,  64,  65,  66,  68,  69,  70,  72,\n",
       "         73,  74,  75,  76,  77,  79,  80,  81,  83,  84,  86,  89,  92,\n",
       "         93,  94,  96,  97,  99, 100, 101, 103, 105, 107, 108, 110, 111,\n",
       "        113, 114, 115, 116, 117, 118, 119, 120, 121, 122, 124, 126, 129,\n",
       "        130, 131, 133, 136, 140, 141, 142, 144, 145, 146, 148, 149, 150,\n",
       "        151, 154, 156, 157, 159, 161, 162, 163, 164, 166, 167, 169, 170,\n",
       "        173, 174, 175, 176, 177, 178, 179, 181, 182, 183, 184, 185, 187,\n",
       "        188, 189, 190, 191, 192, 193, 195, 196, 197, 198, 199, 200, 202,\n",
       "        203, 204, 206, 208, 209, 210, 211, 212, 213, 215, 216, 217, 218,\n",
       "        220, 221, 223, 224, 228, 230, 233, 234, 236, 237, 241, 242, 244,\n",
       "        245, 246, 249, 250, 251, 253, 254, 255, 258, 259, 262, 263, 264,\n",
       "        266, 268, 271, 274, 275, 277, 278, 279, 280, 282, 283]),)"
      ]
     },
     "execution_count": 164,
     "metadata": {},
     "output_type": "execute_result"
    }
   ],
   "source": [
    "np.where(ak.any(cluster.llp_match,axis=1))"
   ]
  },
  {
   "cell_type": "code",
   "execution_count": 170,
   "metadata": {},
   "outputs": [
    {
     "data": {
      "text/plain": [
       "<Array [[47.1, 97.4], [133, ... [167, 57.6]] type='284 * var * float64'>"
      ]
     },
     "execution_count": 170,
     "metadata": {},
     "output_type": "execute_result"
    }
   ],
   "source": [
    "ak.fill_none(ak.mask(llp.e,ak.any(cluster.llp_match,axis=1)),[0]*2)"
   ]
  },
  {
   "cell_type": "code",
   "execution_count": 182,
   "metadata": {},
   "outputs": [
    {
     "data": {
      "text/plain": [
       "<Array [(47.1, 0), (97.4, 0)] type='2 * (float32, int64)'>"
      ]
     },
     "execution_count": 182,
     "metadata": {},
     "output_type": "execute_result"
    }
   ],
   "source": []
  },
  {
   "cell_type": "code",
   "execution_count": 100,
   "metadata": {},
   "outputs": [
    {
     "data": {
      "text/plain": [
       "4416"
      ]
     },
     "execution_count": 100,
     "metadata": {},
     "output_type": "execute_result"
    }
   ],
   "source": [
    "ak.sum(numer==0)+ak.sum(numer>0)"
   ]
  },
  {
   "cell_type": "code",
   "execution_count": 101,
   "metadata": {},
   "outputs": [
    {
     "data": {
      "text/plain": [
       "2180"
      ]
     },
     "execution_count": 101,
     "metadata": {},
     "output_type": "execute_result"
    }
   ],
   "source": [
    "ak.sum(numer>0)"
   ]
  },
  {
   "cell_type": "code",
   "execution_count": 102,
   "metadata": {},
   "outputs": [
    {
     "data": {
      "text/plain": [
       "2236"
      ]
     },
     "execution_count": 102,
     "metadata": {},
     "output_type": "execute_result"
    }
   ],
   "source": [
    "ak.sum(numer==0)"
   ]
  },
  {
   "cell_type": "code",
   "execution_count": 40,
   "metadata": {},
   "outputs": [
    {
     "data": {
      "text/plain": [
       "1099.588"
      ]
     },
     "execution_count": 40,
     "metadata": {},
     "output_type": "execute_result"
    }
   ],
   "source": [
    "ak.max(events.gLLP_decay_vertex_z)"
   ]
  },
  {
   "cell_type": "code",
   "execution_count": 41,
   "metadata": {},
   "outputs": [
    {
     "data": {
      "text/plain": [
       "<Array [[621], [908], ... [1.08e+03], [-571]] type='4416 * option[var * float32]'>"
      ]
     },
     "execution_count": 41,
     "metadata": {},
     "output_type": "execute_result"
    }
   ],
   "source": [
    "llp.z"
   ]
  },
  {
   "cell_type": "code",
   "execution_count": 114,
   "metadata": {},
   "outputs": [
    {
     "data": {
      "text/plain": [
       "<Array [[-694], [924], [-974]] type='3 * option[var * float32]'>"
      ]
     },
     "execution_count": 114,
     "metadata": {},
     "output_type": "execute_result"
    }
   ],
   "source": [
    "ak.any(cluster.n>1,axis=1)\n",
    "llp.z[ak.any(cluster.n>1,axis=1)]"
   ]
  },
  {
   "cell_type": "code",
   "execution_count": 116,
   "metadata": {},
   "outputs": [
    {
     "data": {
      "text/plain": [
       "<Array [[True], [True], ... [True, True]] type='63 * option[var * bool]'>"
      ]
     },
     "execution_count": 116,
     "metadata": {},
     "output_type": "execute_result"
    }
   ],
   "source": [
    "cluster.NChamber>1"
   ]
  },
  {
   "cell_type": "code",
   "execution_count": 198,
   "metadata": {},
   "outputs": [
    {
     "data": {
      "text/plain": [
       "<Array [[True], [False], ... [True, False]] type='63 * option[var * bool]'>"
      ]
     },
     "execution_count": 198,
     "metadata": {},
     "output_type": "execute_result"
    }
   ],
   "source": [
    "abs(cluster.eta)<1.9"
   ]
  },
  {
   "cell_type": "code",
   "execution_count": 208,
   "metadata": {},
   "outputs": [],
   "source": [
    "clusterID=((cluster.NStation10>1) & (abs(cluster.eta)<1.9))|\\\n",
    "((cluster.NStation10==1) &(abs(cluster.AvgStation10)==4) & (abs(cluster.eta)<1.8))|\\\n",
    "((cluster.NStation10==1) &(abs(cluster.AvgStation10)==3) & (abs(cluster.eta)<1.6))|\\\n",
    "((cluster.NStation10==1) &(abs(cluster.AvgStation10)==2) & (abs(cluster.eta)<1.6))"
   ]
  },
  {
   "cell_type": "code",
   "execution_count": 228,
   "metadata": {},
   "outputs": [],
   "source": [
    "clusterVeto= ((cluster.NRechitChamberPlus11<=0)&(cluster.NRechitChamberPlus12<=0)&\\\n",
    "              (cluster.NRechitChamberMinus11<=0)&(cluster.NRechitChamberMinus12<=0)&\\\n",
    "              (cluster.match_MB1Seg_0p4<=0)&(cluster.match_RE12_0p4<=0)&\\\n",
    "              (cluster.match_RB1_0p4<=0)\n",
    "             )"
   ]
  },
  {
   "cell_type": "code",
   "execution_count": 44,
   "metadata": {},
   "outputs": [
    {
     "data": {
      "text/plain": [
       "<Array [True, True, False, ... False, False] type='4416 * ?bool'>"
      ]
     },
     "execution_count": 44,
     "metadata": {},
     "output_type": "execute_result"
    }
   ],
   "source": [
    "ak.any(cluster.llp_match,axis=1)"
   ]
  },
  {
   "cell_type": "code",
   "execution_count": 239,
   "metadata": {},
   "outputs": [
    {
     "data": {
      "text/plain": [
       "15"
      ]
     },
     "execution_count": 239,
     "metadata": {},
     "output_type": "execute_result"
    }
   ],
   "source": [
    "ak.sum(ClusterID)"
   ]
  },
  {
   "cell_type": "code",
   "execution_count": 237,
   "metadata": {},
   "outputs": [
    {
     "data": {
      "text/plain": [
       "3"
      ]
     },
     "execution_count": 237,
     "metadata": {},
     "output_type": "execute_result"
    }
   ],
   "source": [
    "ak.sum(ak.Array([[True,True],[False,True]]))"
   ]
  },
  {
   "cell_type": "code",
   "execution_count": 210,
   "metadata": {},
   "outputs": [
    {
     "data": {
      "text/plain": [
       "<Array [908, -694, 859, ... -1.07e+03, -974] type='15 * float32'>"
      ]
     },
     "execution_count": 210,
     "metadata": {},
     "output_type": "execute_result"
    }
   ],
   "source": [
    "ClusterID= ((cluster.AvgStation10>2)&(cluster.NChamber>1))\n",
    "ak.flatten(llp.z[ak.any(ClusterID,axis=1)])"
   ]
  },
  {
   "cell_type": "code",
   "execution_count": 213,
   "metadata": {},
   "outputs": [
    {
     "data": {
      "text/plain": [
       "<Array [[621], [908], ... [-1.07e+03], [-974]] type='63 * option[var * float32]'>"
      ]
     },
     "execution_count": 213,
     "metadata": {},
     "output_type": "execute_result"
    }
   ],
   "source": [
    "llp.z"
   ]
  },
  {
   "cell_type": "code",
   "execution_count": null,
   "metadata": {},
   "outputs": [],
   "source": [
    "events.gLLP_EMFracE"
   ]
  },
  {
   "cell_type": "code",
   "execution_count": 214,
   "metadata": {},
   "outputs": [
    {
     "data": {
      "text/plain": [
       "<Array [[907], [-693], ... [-1074], [-973]] type='15 * option[var * int64]'>"
      ]
     },
     "execution_count": 214,
     "metadata": {},
     "output_type": "execute_result"
    }
   ],
   "source": [
    "ak.values_astype(llp.z[ak.any(ClusterID,axis=1)],np.int)"
   ]
  },
  {
   "cell_type": "code",
   "execution_count": 50,
   "metadata": {},
   "outputs": [
    {
     "data": {
      "text/plain": [
       "<Array [True, True, False, ... False, False] type='4416 * bool'>"
      ]
     },
     "execution_count": 50,
     "metadata": {},
     "output_type": "execute_result"
    }
   ],
   "source": [
    "numer>0"
   ]
  },
  {
   "cell_type": "code",
   "execution_count": 52,
   "metadata": {},
   "outputs": [
    {
     "data": {
      "text/plain": [
       "<Array [1, 1, 0, 1, 0, 0, ... 1, 0, 0, 1, 0, 0] type='4416 * int64'>"
      ]
     },
     "execution_count": 52,
     "metadata": {},
     "output_type": "execute_result"
    }
   ],
   "source": []
  },
  {
   "cell_type": "code",
   "execution_count": 53,
   "metadata": {},
   "outputs": [
    {
     "data": {
      "text/plain": [
       "<Array [621, 908, -721, ... 1.08e+03, -571] type='4416 * float32'>"
      ]
     },
     "execution_count": 53,
     "metadata": {},
     "output_type": "execute_result"
    }
   ],
   "source": [
    "ak.flatten(llp.z)"
   ]
  },
  {
   "cell_type": "code",
   "execution_count": 66,
   "metadata": {},
   "outputs": [],
   "source": []
  },
  {
   "cell_type": "code",
   "execution_count": 67,
   "metadata": {},
   "outputs": [],
   "source": []
  },
  {
   "cell_type": "code",
   "execution_count": 65,
   "metadata": {},
   "outputs": [
    {
     "data": {
      "text/plain": [
       "{(): array([[57., 66., 54., 61., 72., 60., 70., 70., 50., 56., 48., 46., 54.,\n",
       "         52., 61., 52., 21.,  0.,  0.,  0.,  0.,  0.,  0.,  0.,  0.,  0.,\n",
       "          0.,  0.,  0.,  0.,  0.,  0.,  0.,  0.,  0.,  0.,  0.,  0.,  0.,\n",
       "          0.,  0.,  0.,  0.,  0.,  0.,  0.,  0.,  0.,  0.,  0.],\n",
       "        [22., 30., 20., 17., 16., 17., 20., 14.,  9., 12., 11., 14.,  7.,\n",
       "          1.,  3.,  0.,  0.,  0.,  0.,  0.,  0.,  0.,  0.,  0.,  0.,  0.,\n",
       "          0.,  0.,  0.,  0.,  0.,  0.,  0.,  0.,  0.,  0.,  0.,  0.,  0.,\n",
       "          0.,  0.,  0.,  0.,  0.,  0.,  0.,  0.,  0.,  0.,  0.]])}"
      ]
     },
     "execution_count": 65,
     "metadata": {},
     "output_type": "execute_result"
    }
   ],
   "source": [
    "h.values()"
   ]
  },
  {
   "cell_type": "code",
   "execution_count": 71,
   "metadata": {},
   "outputs": [
    {
     "data": {
      "text/plain": [
       "{(): array([950., 213.])}"
      ]
     },
     "execution_count": 71,
     "metadata": {},
     "output_type": "execute_result"
    }
   ],
   "source": []
  },
  {
   "cell_type": "code",
   "execution_count": 12,
   "metadata": {},
   "outputs": [
    {
     "data": {
      "text/plain": [
       "<Array [33.4, 34.4, 29.6, ... 34.5, 3.49, 23.3] type='63 * float32'>"
      ]
     },
     "execution_count": 12,
     "metadata": {},
     "output_type": "execute_result"
    }
   ],
   "source": [
    "events.gLLP_pt[events.gLLP_csc==1]"
   ]
  },
  {
   "cell_type": "code",
   "execution_count": 13,
   "metadata": {},
   "outputs": [
    {
     "data": {
      "text/plain": [
       "<Array [[3.09, 2.59], ... [-3.03, 1.37]] type='63 * 2 * float32'>"
      ]
     },
     "execution_count": 13,
     "metadata": {},
     "output_type": "execute_result"
    }
   ],
   "source": [
    "events.gLLP_lepdPhi"
   ]
  },
  {
   "cell_type": "code",
   "execution_count": 22,
   "metadata": {},
   "outputs": [
    {
     "data": {
      "text/plain": [
       "<Array [[True, False], ... [True, False]] type='63 * 2 * bool'>"
      ]
     },
     "execution_count": 22,
     "metadata": {},
     "output_type": "execute_result"
    }
   ],
   "source": [
    "events.gLLP_decay_vertex_z!=-666"
   ]
  },
  {
   "cell_type": "code",
   "execution_count": 6,
   "metadata": {},
   "outputs": [
    {
     "data": {
      "text/plain": [
       "<Array [0, 0, 0, 0, 1, 0, ... 0, 0, 0, 1, 0, 1] type='41 * int64'>"
      ]
     },
     "execution_count": 6,
     "metadata": {},
     "output_type": "execute_result"
    }
   ],
   "source": [
    "ak.flatten(ak.values_astype(~cluster.llp_match,np.int))"
   ]
  },
  {
   "cell_type": "code",
   "execution_count": 35,
   "metadata": {},
   "outputs": [
    {
     "data": {
      "text/plain": [
       "<Array [[], [42.9], [], [], ... [], [], [], []] type='1000 * var * float32'>"
      ]
     },
     "execution_count": 35,
     "metadata": {},
     "output_type": "execute_result"
    }
   ],
   "source": [
    "events.lepPt"
   ]
  },
  {
   "cell_type": "code",
   "execution_count": 22,
   "metadata": {},
   "outputs": [
    {
     "data": {
      "text/plain": [
       "<Array [1, 1, 1, 1, 1, 1, ... 1, 1, 1, 1, 1, 1] type='44 * int32'>"
      ]
     },
     "execution_count": 22,
     "metadata": {},
     "output_type": "execute_result"
    }
   ],
   "source": [
    "ak.flatten(cluster.n)"
   ]
  },
  {
   "cell_type": "code",
   "execution_count": 20,
   "metadata": {},
   "outputs": [],
   "source": [
    "cls_lep_pair = ak.cartesian({\"cls\":cluster_dir,'lep':lep},axis=1,nested=True)\n",
    "\n",
    "dphi_lep_cls = cls_lep_pair.cls.delta_phi(cls_lep_pair.lep)"
   ]
  },
  {
   "cell_type": "code",
   "execution_count": 29,
   "metadata": {},
   "outputs": [
    {
     "data": {
      "text/plain": [
       "<Array [[], [], [], ... [-0.0928], []] type='44 * var * float32'>"
      ]
     },
     "execution_count": 29,
     "metadata": {},
     "output_type": "execute_result"
    }
   ],
   "source": [
    "ak.flatten(dphi_lep_cls)"
   ]
  },
  {
   "cell_type": "code",
   "execution_count": 30,
   "metadata": {},
   "outputs": [
    {
     "data": {
      "text/plain": [
       "array([(1., 1.5951381, 0.12471689, 0.)],\n",
       "      dtype=[('pt', '<f4'), ('eta', '<f4'), ('phi', '<f4'), ('mass', '<f4')])"
      ]
     },
     "execution_count": 30,
     "metadata": {},
     "output_type": "execute_result"
    }
   ],
   "source": [
    "ak.to_numpy(cluster_dir[cluster.llp_match][10])"
   ]
  },
  {
   "cell_type": "code",
   "execution_count": 96,
   "metadata": {},
   "outputs": [
    {
     "data": {
      "text/plain": [
       "<Array [-694, 924, -974] type='3 * float32'>"
      ]
     },
     "execution_count": 96,
     "metadata": {},
     "output_type": "execute_result"
    }
   ],
   "source": [
    "llp=llp[llp.e>0]\n",
    "ak.flatten(llp.z[ak.num(cluster)>1])"
   ]
  },
  {
   "cell_type": "code",
   "execution_count": 97,
   "metadata": {},
   "outputs": [
    {
     "data": {
      "text/plain": [
       "<Array [621, 908, -721, ... -1.07e+03, -974] type='63 * float32'>"
      ]
     },
     "execution_count": 97,
     "metadata": {},
     "output_type": "execute_result"
    }
   ],
   "source": [
    "ak.flatten(llp.z)"
   ]
  },
  {
   "cell_type": "code",
   "execution_count": 51,
   "metadata": {},
   "outputs": [
    {
     "data": {
      "text/plain": [
       "(array([ 6, 10, 62]),)"
      ]
     },
     "execution_count": 51,
     "metadata": {},
     "output_type": "execute_result"
    }
   ],
   "source": [
    "np.where(ak.num(cluster)>1)"
   ]
  },
  {
   "cell_type": "code",
   "execution_count": 80,
   "metadata": {},
   "outputs": [
    {
     "data": {
      "text/plain": [
       "1"
      ]
     },
     "execution_count": 80,
     "metadata": {},
     "output_type": "execute_result"
    }
   ],
   "source": []
  },
  {
   "cell_type": "code",
   "execution_count": 56,
   "metadata": {},
   "outputs": [
    {
     "data": {
      "text/plain": [
       "<Array [407, 942] type='2 * float32'>"
      ]
     },
     "execution_count": 56,
     "metadata": {},
     "output_type": "execute_result"
    }
   ],
   "source": [
    "llp.r[62]"
   ]
  },
  {
   "cell_type": "code",
   "execution_count": 22,
   "metadata": {},
   "outputs": [
    {
     "data": {
      "text/plain": [
       "(array([ 6, 10, 62]),)"
      ]
     },
     "execution_count": 22,
     "metadata": {},
     "output_type": "execute_result"
    }
   ],
   "source": [
    "np.where(ak.num(cluster)>1)"
   ]
  },
  {
   "cell_type": "code",
   "execution_count": 154,
   "metadata": {},
   "outputs": [
    {
     "data": {
      "text/plain": [
       "<Array [1, 1, 1, 1, 0, 1, ... 1, 1, 1, 1, 1, 1] type='1091 * int64'>"
      ]
     },
     "execution_count": 154,
     "metadata": {},
     "output_type": "execute_result"
    }
   ],
   "source": [
    "ak.flatten(ak.values_astype(cluster.llp_match,np.int))"
   ]
  },
  {
   "cell_type": "code",
   "execution_count": 160,
   "metadata": {},
   "outputs": [
    {
     "data": {
      "text/plain": [
       "<Array [[], [], [2.84], ... [], [], [-3.01]] type='1091 * union[var * float32, i...'>"
      ]
     },
     "execution_count": 160,
     "metadata": {},
     "output_type": "execute_result"
    }
   ],
   "source": [
    "ak.fill_none(ak.flatten(dphi_lep_cls),-600)"
   ]
  },
  {
   "cell_type": "code",
   "execution_count": 163,
   "metadata": {},
   "outputs": [
    {
     "data": {
      "text/plain": [
       "<Array [-0.314, -0.411, -1.78, ... -1.8, 0.296] type='9 * float32'>"
      ]
     },
     "execution_count": 163,
     "metadata": {},
     "output_type": "execute_result"
    }
   ],
   "source": [
    "ak.flatten(dphi_lep_cls[~cluster.llp_match],axis=None)"
   ]
  },
  {
   "cell_type": "code",
   "execution_count": 164,
   "metadata": {},
   "outputs": [
    {
     "data": {
      "text/plain": [
       "<Array [2.84, 3.08, -3.12, ... 3.01, -3.01] type='179 * float32'>"
      ]
     },
     "execution_count": 164,
     "metadata": {},
     "output_type": "execute_result"
    }
   ],
   "source": [
    "ak.flatten(dphi_lep_cls[cluster.llp_match],axis=None)"
   ]
  },
  {
   "cell_type": "code",
   "execution_count": 166,
   "metadata": {},
   "outputs": [
    {
     "data": {
      "text/plain": [
       "<Array [0, 0, 0, 0, 0, 0, ... 0, 0, 0, 0, 0, 0] type='179 * float32'>"
      ]
     },
     "execution_count": 166,
     "metadata": {},
     "output_type": "execute_result"
    }
   ],
   "source": [
    "ak.flatten(dphi_lep_cls[~cluster.llp_match],axis=None)\n",
    "ak.zeros_like(ak.flatten(dphi_lep_cls[cluster.llp_match],axis=None))"
   ]
  },
  {
   "cell_type": "code",
   "execution_count": 87,
   "metadata": {},
   "outputs": [
    {
     "data": {
      "text/plain": [
       "array([ 2.8449643 ,  3.0809057 , -3.1249049 , -0.31369328, -3.1015875 ,\n",
       "       -2.8946662 , -2.731911  ,  3.0177443 ], dtype=float32)"
      ]
     },
     "execution_count": 87,
     "metadata": {},
     "output_type": "execute_result"
    }
   ],
   "source": [
    "ak.to_numpy(ak.flatten(dphi_lep_cls,axis=None))"
   ]
  },
  {
   "cell_type": "markdown",
   "metadata": {},
   "source": [
    "### Computing distance between cluster position and decay position"
   ]
  },
  {
   "cell_type": "code",
   "execution_count": 33,
   "metadata": {},
   "outputs": [
    {
     "data": {
      "text/plain": [
       "51"
      ]
     },
     "execution_count": 33,
     "metadata": {},
     "output_type": "execute_result"
    }
   ],
   "source": [
    "ak.min(events.cscRechitCluster3Size)"
   ]
  },
  {
   "cell_type": "code",
   "execution_count": 20,
   "metadata": {},
   "outputs": [],
   "source": [
    "cls_matched = cluster[cluster.llp_match]"
   ]
  },
  {
   "cell_type": "code",
   "execution_count": 26,
   "metadata": {},
   "outputs": [],
   "source": [
    "cls_matched.decay_length=((cls_matched.z-cls_matched.llp_z)**2+(cls_matched.y-cls_matched.llp_y)**2+((cls_matched.x-cls_matched.llp_x))**2)**0.5"
   ]
  },
  {
   "cell_type": "code",
   "execution_count": 15,
   "metadata": {},
   "outputs": [
    {
     "data": {
      "text/plain": [
       "<Array [[236], [157], ... [-144], [-121]] type='63 * option[var * float32]'>"
      ]
     },
     "execution_count": 15,
     "metadata": {},
     "output_type": "execute_result"
    }
   ],
   "source": [
    "llp.x"
   ]
  },
  {
   "cell_type": "code",
   "execution_count": 36,
   "metadata": {},
   "outputs": [
    {
     "data": {
      "text/plain": [
       "179.90308"
      ]
     },
     "execution_count": 36,
     "metadata": {},
     "output_type": "execute_result"
    }
   ],
   "source": [
    "ak.max(cls_matched.decay_length)"
   ]
  },
  {
   "cell_type": "code",
   "execution_count": 37,
   "metadata": {},
   "outputs": [
    {
     "data": {
      "text/plain": [
       "<Array [[88.5], [70.5], ... [], [62.5]] type='63 * option[var * float32]'>"
      ]
     },
     "execution_count": 37,
     "metadata": {},
     "output_type": "execute_result"
    }
   ],
   "source": [
    "cls_matched.decay_length"
   ]
  },
  {
   "cell_type": "markdown",
   "metadata": {},
   "source": [
    "### Test Filling integers"
   ]
  },
  {
   "cell_type": "code",
   "execution_count": 3,
   "metadata": {},
   "outputs": [],
   "source": [
    "h =hist.Hist(\"Events\",hist.Bin(\"nCluster\", \"nCluster\", 4, 0, 4))"
   ]
  },
  {
   "cell_type": "code",
   "execution_count": 5,
   "metadata": {},
   "outputs": [
    {
     "data": {
      "text/plain": [
       "<AxesSubplot:xlabel='nCluster', ylabel='Events'>"
      ]
     },
     "execution_count": 5,
     "metadata": {},
     "output_type": "execute_result"
    },
    {
     "data": {
      "image/png": "[encoded data removed]",
      "text/plain": [
       "<Figure size 432x288 with 1 Axes>"
      ]
     },
     "metadata": {
      "needs_background": "light"
     },
     "output_type": "display_data"
    }
   ],
   "source": [
    "a=np.array([1,1,1,1,0,3,4])\n",
    "w=np.array([0,0,0,0.5,0,1,1])\n",
    "h.fill(nCluster=a,weight=w)\n",
    "hist.plot1d(h,density=False)"
   ]
  },
  {
   "cell_type": "code",
   "execution_count": 6,
   "metadata": {},
   "outputs": [
    {
     "data": {
      "text/plain": [
       "{(): array([0., 2., 8., 0., 2., 1.])}"
      ]
     },
     "execution_count": 6,
     "metadata": {},
     "output_type": "execute_result"
    }
   ],
   "source": [
    "h.values(overflow=\"all\")"
   ]
  },
  {
   "cell_type": "markdown",
   "metadata": {},
   "source": [
    "### Test filling flatten"
   ]
  },
  {
   "cell_type": "code",
   "execution_count": 3,
   "metadata": {},
   "outputs": [],
   "source": [
    "events_raw = uproot.open(\"~/eos/llp/WJetsToLNu/HeavyNeutralLepton_Tree_0.root\")['MuonSystem']\n",
    "df = coffea.processor.LazyDataFrame(events_raw)\n",
    "events_WJ = uproot.lazy(df._tree)"
   ]
  },
  {
   "cell_type": "code",
   "execution_count": 4,
   "metadata": {},
   "outputs": [],
   "source": [
    "events_raw = uproot.open(\"~/eos/llp/SingleMu_2017B/HeavyNeutralLepton_Tree_0.root\")['MuonSystem']\n",
    "df = coffea.processor.LazyDataFrame(events_raw)\n",
    "events_data = uproot.lazy(df._tree)"
   ]
  },
  {
   "cell_type": "code",
   "execution_count": 5,
   "metadata": {},
   "outputs": [
    {
     "data": {
      "text/plain": [
       "449451"
      ]
     },
     "execution_count": 5,
     "metadata": {},
     "output_type": "execute_result"
    }
   ],
   "source": [
    "len(events_WJ)"
   ]
  },
  {
   "cell_type": "code",
   "execution_count": 33,
   "metadata": {},
   "outputs": [
    {
     "name": "stdout",
     "output_type": "stream",
     "text": [
      "lumi = 39.19 /pb\n",
      "xsec = 56000\n",
      "nEvt =  449065.3\n",
      "weight =  0.46200820732507586\n"
     ]
    }
   ],
   "source": [
    "print(\"lumi = 39.19 /pb\")\n",
    "print(\"xsec = 56000\")\n",
    "print('nEvt = ',ak.sum(events_WJ.weight))\n",
    "w = 39.19 * 52940*0.1/ak.sum(events_WJ.weight)\n",
    "print(\"weight = \",w )"
   ]
  },
  {
   "cell_type": "code",
   "execution_count": 10,
   "metadata": {},
   "outputs": [],
   "source": [
    "h = hist.Hist(\"Events\",hist.Cat(\"dataset\", \"Dataset\"),                \n",
    "                hist.Bin(\"nCscRechits\", \"nCscRechits\", 50, 0, 1000),\n",
    "            )"
   ]
  },
  {
   "cell_type": "code",
   "execution_count": 11,
   "metadata": {},
   "outputs": [],
   "source": [
    "h.fill(dataset=\"WJ\",nCscRechits=events_WJ.nCscRechits,weight=events_WJ.weight)"
   ]
  },
  {
   "cell_type": "code",
   "execution_count": 17,
   "metadata": {},
   "outputs": [],
   "source": [
    "h.fill(dataset=\"singleMu\",nCscRechits=events_data.nCscRechits)"
   ]
  },
  {
   "cell_type": "code",
   "execution_count": 34,
   "metadata": {},
   "outputs": [],
   "source": [
    "hplot = h.copy()\n",
    "hplot.scale({\"WJ\": w}, \"dataset\")    "
   ]
  },
  {
   "cell_type": "code",
   "execution_count": 35,
   "metadata": {},
   "outputs": [
    {
     "data": {
      "text/plain": [
       "<AxesSubplot:xlabel='nCscRechits', ylabel='Events'>"
      ]
     },
     "execution_count": 35,
     "metadata": {},
     "output_type": "execute_result"
    },
    {
     "data": {
      "image/png": "[encoded data removed]",
      "text/plain": [
       "<Figure size 432x288 with 1 Axes>"
      ]
     },
     "metadata": {
      "needs_background": "light"
     },
     "output_type": "display_data"
    }
   ],
   "source": [
    "hist.plot1d(hplot,overlay='dataset',density=False,clear=False)"
   ]
  },
  {
   "cell_type": "markdown",
   "metadata": {},
   "source": [
    "### Test cutflow"
   ]
  },
  {
   "cell_type": "code",
   "execution_count": 5,
   "metadata": {},
   "outputs": [],
   "source": [
    "def normalize(val, cut):\n",
    "    if cut is None:\n",
    "        ar = ak.to_numpy(ak.fill_none(val, np.nan))\n",
    "        return ar\n",
    "    else:\n",
    "        ar = ak.to_numpy(ak.fill_none(val[cut], np.nan))\n",
    "        return ar"
   ]
  },
  {
   "cell_type": "code",
   "execution_count": 6,
   "metadata": {},
   "outputs": [],
   "source": [
    "h = hist.Hist(\"Events\",hist.Cat(\"dataset\", \"Dataset\"),                \n",
    "                hist.Bin(\"cut\", \"cut index\", 3, 0, 3),\n",
    "            )"
   ]
  },
  {
   "cell_type": "code",
   "execution_count": 3,
   "metadata": {},
   "outputs": [],
   "source": [
    "from coffea.analysis_tools import Weights, PackedSelection"
   ]
  },
  {
   "cell_type": "code",
   "execution_count": 14,
   "metadata": {},
   "outputs": [],
   "source": [
    "lep=ak.zip({\n",
    "    'pt':events.lepPt ,\n",
    "    'eta':events.lepEta,\n",
    "    'phi':events.lepPhi,\n",
    "    'energy':events.lepE,\n",
    "},with_name='PtEtaPhiELorentzVector',\n",
    "behavior=vector.behavior    \n",
    ")  "
   ]
  },
  {
   "cell_type": "code",
   "execution_count": 15,
   "metadata": {},
   "outputs": [],
   "source": [
    "leadinglep = ak.firsts(lep)"
   ]
  },
  {
   "cell_type": "code",
   "execution_count": 17,
   "metadata": {},
   "outputs": [],
   "source": [
    "lepSel = PackedSelection()\n",
    "\n",
    "lepSel.add('lep',leadinglep.pt>40)"
   ]
  },
  {
   "cell_type": "code",
   "execution_count": 11,
   "metadata": {},
   "outputs": [
    {
     "ename": "ValueError",
     "evalue": "Expected an array of type N * primitive or N * ?primitive, received: 1000 * var * bool",
     "output_type": "error",
     "traceback": [
      "\u001b[0;31m---------------------------------------------------------------------------\u001b[0m",
      "\u001b[0;31mValueError\u001b[0m                                Traceback (most recent call last)",
      "\u001b[0;32m<ipython-input-11-1ae152df3a34>\u001b[0m in \u001b[0;36m<module>\u001b[0;34m\u001b[0m\n\u001b[1;32m      1\u001b[0m \u001b[0mselection\u001b[0m \u001b[0;34m=\u001b[0m \u001b[0mPackedSelection\u001b[0m\u001b[0;34m(\u001b[0m\u001b[0;34m)\u001b[0m\u001b[0;34m\u001b[0m\u001b[0;34m\u001b[0m\u001b[0m\n\u001b[1;32m      2\u001b[0m \u001b[0mselection\u001b[0m\u001b[0;34m.\u001b[0m\u001b[0madd\u001b[0m\u001b[0;34m(\u001b[0m\u001b[0;34m'Trigger'\u001b[0m\u001b[0;34m,\u001b[0m\u001b[0mevents\u001b[0m\u001b[0;34m.\u001b[0m\u001b[0mSingleEleTrigger\u001b[0m\u001b[0;34m==\u001b[0m\u001b[0;32mTrue\u001b[0m\u001b[0;34m)\u001b[0m\u001b[0;34m\u001b[0m\u001b[0;34m\u001b[0m\u001b[0m\n\u001b[0;32m----> 3\u001b[0;31m \u001b[0mselection\u001b[0m\u001b[0;34m.\u001b[0m\u001b[0madd\u001b[0m\u001b[0;34m(\u001b[0m\u001b[0;34m'lep'\u001b[0m\u001b[0;34m,\u001b[0m\u001b[0mevents\u001b[0m\u001b[0;34m.\u001b[0m\u001b[0mlepPt\u001b[0m\u001b[0;34m>\u001b[0m\u001b[0;36m40\u001b[0m\u001b[0;34m)\u001b[0m\u001b[0;34m\u001b[0m\u001b[0;34m\u001b[0m\u001b[0m\n\u001b[0m",
      "\u001b[0;32m~/work/LLP/CMSSW_10_6_20/src/llp_analyzer/coffeaenv/lib/python3.7/site-packages/coffea/analysis_tools.py\u001b[0m in \u001b[0;36madd\u001b[0;34m(self, name, selection, fill_value)\u001b[0m\n\u001b[1;32m    245\u001b[0m                 \u001b[0mAll\u001b[0m \u001b[0mmasked\u001b[0m \u001b[0mentries\u001b[0m \u001b[0mwill\u001b[0m \u001b[0mbe\u001b[0m \u001b[0mfilled\u001b[0m \u001b[0;32mas\u001b[0m \u001b[0mspecified\u001b[0m \u001b[0;34m(\u001b[0m\u001b[0mdefault\u001b[0m\u001b[0;34m:\u001b[0m\u001b[0;31m \u001b[0m\u001b[0;31m`\u001b[0m\u001b[0;31m`\u001b[0m\u001b[0;32mFalse\u001b[0m\u001b[0;31m`\u001b[0m\u001b[0;31m`\u001b[0m\u001b[0;34m)\u001b[0m\u001b[0;34m\u001b[0m\u001b[0;34m\u001b[0m\u001b[0m\n\u001b[1;32m    246\u001b[0m         \"\"\"\n\u001b[0;32m--> 247\u001b[0;31m         \u001b[0mselection\u001b[0m \u001b[0;34m=\u001b[0m \u001b[0mcoffea\u001b[0m\u001b[0;34m.\u001b[0m\u001b[0mutil\u001b[0m\u001b[0;34m.\u001b[0m\u001b[0m_ensure_flat\u001b[0m\u001b[0;34m(\u001b[0m\u001b[0mselection\u001b[0m\u001b[0;34m,\u001b[0m \u001b[0mallow_missing\u001b[0m\u001b[0;34m=\u001b[0m\u001b[0;32mTrue\u001b[0m\u001b[0;34m)\u001b[0m\u001b[0;34m\u001b[0m\u001b[0;34m\u001b[0m\u001b[0m\n\u001b[0m\u001b[1;32m    248\u001b[0m         \u001b[0;32mif\u001b[0m \u001b[0misinstance\u001b[0m\u001b[0;34m(\u001b[0m\u001b[0mselection\u001b[0m\u001b[0;34m,\u001b[0m \u001b[0mnumpy\u001b[0m\u001b[0;34m.\u001b[0m\u001b[0mma\u001b[0m\u001b[0;34m.\u001b[0m\u001b[0mMaskedArray\u001b[0m\u001b[0;34m)\u001b[0m\u001b[0;34m:\u001b[0m\u001b[0;34m\u001b[0m\u001b[0;34m\u001b[0m\u001b[0m\n\u001b[1;32m    249\u001b[0m             \u001b[0mselection\u001b[0m \u001b[0;34m=\u001b[0m \u001b[0mselection\u001b[0m\u001b[0;34m.\u001b[0m\u001b[0mfilled\u001b[0m\u001b[0;34m(\u001b[0m\u001b[0mfill_value\u001b[0m\u001b[0;34m)\u001b[0m\u001b[0;34m\u001b[0m\u001b[0;34m\u001b[0m\u001b[0m\n",
      "\u001b[0;32m~/work/LLP/CMSSW_10_6_20/src/llp_analyzer/coffeaenv/lib/python3.7/site-packages/coffea/util.py\u001b[0m in \u001b[0;36m_ensure_flat\u001b[0;34m(array, allow_missing)\u001b[0m\n\u001b[1;32m     66\u001b[0m     \u001b[0misoptionprimitive\u001b[0m \u001b[0;34m=\u001b[0m \u001b[0misinstance\u001b[0m\u001b[0;34m(\u001b[0m\u001b[0maktype\u001b[0m\u001b[0;34m.\u001b[0m\u001b[0mtype\u001b[0m\u001b[0;34m,\u001b[0m \u001b[0mak\u001b[0m\u001b[0;34m.\u001b[0m\u001b[0mtypes\u001b[0m\u001b[0;34m.\u001b[0m\u001b[0mOptionType\u001b[0m\u001b[0;34m)\u001b[0m \u001b[0;32mand\u001b[0m \u001b[0misinstance\u001b[0m\u001b[0;34m(\u001b[0m\u001b[0maktype\u001b[0m\u001b[0;34m.\u001b[0m\u001b[0mtype\u001b[0m\u001b[0;34m.\u001b[0m\u001b[0mtype\u001b[0m\u001b[0;34m,\u001b[0m \u001b[0mak\u001b[0m\u001b[0;34m.\u001b[0m\u001b[0mtypes\u001b[0m\u001b[0;34m.\u001b[0m\u001b[0mPrimitiveType\u001b[0m\u001b[0;34m)\u001b[0m\u001b[0;34m\u001b[0m\u001b[0;34m\u001b[0m\u001b[0m\n\u001b[1;32m     67\u001b[0m     \u001b[0;32mif\u001b[0m \u001b[0mallow_missing\u001b[0m \u001b[0;32mand\u001b[0m \u001b[0;32mnot\u001b[0m \u001b[0;34m(\u001b[0m\u001b[0misprimitive\u001b[0m \u001b[0;32mor\u001b[0m \u001b[0misoptionprimitive\u001b[0m\u001b[0;34m)\u001b[0m\u001b[0;34m:\u001b[0m\u001b[0;34m\u001b[0m\u001b[0;34m\u001b[0m\u001b[0m\n\u001b[0;32m---> 68\u001b[0;31m         \u001b[0;32mraise\u001b[0m \u001b[0mValueError\u001b[0m\u001b[0;34m(\u001b[0m\u001b[0;34m\"Expected an array of type N * primitive or N * ?primitive, received: %r\"\u001b[0m \u001b[0;34m%\u001b[0m \u001b[0maktype\u001b[0m\u001b[0;34m)\u001b[0m\u001b[0;34m\u001b[0m\u001b[0;34m\u001b[0m\u001b[0m\n\u001b[0m\u001b[1;32m     69\u001b[0m     \u001b[0;32mif\u001b[0m \u001b[0;32mnot\u001b[0m \u001b[0;34m(\u001b[0m\u001b[0mallow_missing\u001b[0m \u001b[0;32mor\u001b[0m \u001b[0misprimitive\u001b[0m\u001b[0;34m)\u001b[0m\u001b[0;34m:\u001b[0m\u001b[0;34m\u001b[0m\u001b[0;34m\u001b[0m\u001b[0m\n\u001b[1;32m     70\u001b[0m         \u001b[0;32mraise\u001b[0m \u001b[0mValueError\u001b[0m\u001b[0;34m(\u001b[0m\u001b[0;34m\"Expected an array of type N * primitive, received: %r\"\u001b[0m \u001b[0;34m%\u001b[0m \u001b[0maktype\u001b[0m\u001b[0;34m)\u001b[0m\u001b[0;34m\u001b[0m\u001b[0;34m\u001b[0m\u001b[0m\n",
      "\u001b[0;31mValueError\u001b[0m: Expected an array of type N * primitive or N * ?primitive, received: 1000 * var * bool"
     ]
    }
   ],
   "source": [
    "selection = PackedSelection()\n",
    "selection.add('Trigger',events.SingleEleTrigger==True)\n",
    "selection.add('lep',events.lepPt>40)"
   ]
  },
  {
   "cell_type": "code",
   "execution_count": 10,
   "metadata": {},
   "outputs": [],
   "source": [
    "cuts = [\n",
    "    abs(cluster.eta)<1.9\n",
    "]"
   ]
  },
  {
   "cell_type": "code",
   "execution_count": 10,
   "metadata": {},
   "outputs": [
    {
     "data": {
      "text/plain": [
       "array([ True,  True,  True,  True,  True,  True,  True,  True,  True,\n",
       "        True,  True,  True,  True,  True,  True,  True,  True,  True,\n",
       "        True,  True,  True,  True,  True,  True,  True,  True,  True,\n",
       "        True,  True,  True,  True,  True,  True,  True,  True,  True,\n",
       "        True,  True,  True,  True,  True,  True,  True,  True,  True,\n",
       "        True,  True,  True,  True,  True,  True,  True,  True,  True,\n",
       "        True,  True,  True,  True,  True,  True,  True,  True,  True,\n",
       "        True,  True,  True,  True,  True,  True,  True,  True,  True,\n",
       "        True,  True,  True,  True,  True,  True,  True,  True,  True,\n",
       "        True,  True,  True,  True,  True,  True,  True,  True,  True,\n",
       "        True,  True,  True,  True,  True,  True,  True,  True,  True,\n",
       "        True,  True,  True,  True,  True,  True,  True,  True,  True,\n",
       "        True,  True,  True,  True,  True,  True,  True,  True,  True,\n",
       "        True,  True,  True,  True,  True,  True,  True,  True,  True,\n",
       "        True,  True,  True,  True,  True,  True,  True,  True,  True,\n",
       "        True,  True,  True,  True,  True,  True,  True,  True,  True,\n",
       "        True,  True,  True,  True,  True,  True,  True,  True,  True,\n",
       "        True,  True,  True,  True,  True,  True,  True,  True,  True,\n",
       "        True,  True,  True,  True,  True,  True,  True,  True,  True,\n",
       "        True,  True,  True,  True,  True,  True,  True,  True,  True,\n",
       "        True,  True,  True,  True,  True,  True,  True,  True,  True,\n",
       "        True,  True,  True,  True,  True,  True,  True,  True,  True,\n",
       "        True,  True,  True,  True,  True,  True,  True,  True,  True,\n",
       "        True,  True,  True,  True,  True,  True,  True,  True,  True,\n",
       "        True,  True,  True,  True,  True,  True,  True,  True,  True,\n",
       "        True,  True,  True,  True,  True,  True,  True,  True,  True,\n",
       "        True,  True,  True,  True,  True,  True,  True,  True,  True,\n",
       "        True,  True,  True,  True,  True,  True,  True,  True,  True,\n",
       "        True,  True,  True,  True,  True,  True,  True,  True,  True,\n",
       "        True,  True,  True,  True,  True,  True,  True,  True,  True,\n",
       "        True,  True,  True,  True,  True,  True,  True,  True,  True,\n",
       "        True,  True,  True,  True,  True,  True,  True,  True,  True,\n",
       "        True,  True,  True,  True,  True,  True,  True,  True,  True,\n",
       "        True,  True,  True,  True,  True,  True,  True,  True,  True,\n",
       "        True,  True,  True,  True,  True,  True,  True,  True,  True,\n",
       "        True,  True,  True,  True,  True,  True,  True,  True,  True,\n",
       "        True,  True,  True,  True,  True,  True,  True,  True,  True,\n",
       "        True,  True,  True,  True,  True,  True,  True,  True,  True,\n",
       "        True,  True,  True,  True,  True,  True,  True,  True,  True,\n",
       "        True,  True,  True,  True,  True,  True,  True,  True,  True,\n",
       "        True,  True,  True,  True,  True,  True,  True,  True,  True,\n",
       "        True,  True,  True,  True,  True,  True,  True,  True,  True,\n",
       "        True,  True,  True,  True,  True,  True,  True,  True,  True,\n",
       "        True,  True,  True,  True,  True,  True,  True,  True,  True,\n",
       "        True,  True,  True,  True,  True,  True,  True,  True,  True,\n",
       "        True,  True,  True,  True,  True,  True,  True,  True,  True,\n",
       "        True,  True,  True,  True,  True,  True,  True,  True,  True,\n",
       "        True,  True,  True,  True,  True,  True,  True,  True,  True,\n",
       "        True,  True,  True,  True,  True,  True,  True,  True,  True,\n",
       "        True,  True,  True,  True,  True,  True,  True,  True,  True,\n",
       "        True,  True,  True,  True,  True,  True,  True,  True,  True,\n",
       "        True,  True,  True,  True,  True,  True,  True,  True,  True,\n",
       "        True,  True,  True,  True,  True,  True,  True,  True,  True,\n",
       "        True,  True,  True,  True,  True,  True,  True,  True,  True,\n",
       "        True,  True,  True,  True,  True,  True,  True,  True,  True,\n",
       "        True,  True,  True,  True,  True,  True,  True,  True,  True,\n",
       "        True,  True,  True,  True,  True,  True,  True,  True,  True,\n",
       "        True,  True,  True,  True,  True,  True,  True,  True,  True,\n",
       "        True,  True,  True,  True,  True,  True,  True,  True,  True,\n",
       "        True,  True,  True,  True,  True,  True,  True,  True,  True,\n",
       "        True,  True,  True,  True,  True,  True,  True,  True,  True,\n",
       "        True,  True,  True,  True,  True,  True,  True,  True,  True,\n",
       "        True,  True,  True,  True,  True,  True,  True,  True,  True,\n",
       "        True,  True,  True,  True,  True,  True,  True,  True,  True,\n",
       "        True,  True,  True,  True,  True,  True,  True,  True,  True,\n",
       "        True,  True,  True,  True,  True,  True,  True,  True,  True,\n",
       "        True,  True,  True,  True,  True,  True,  True,  True,  True,\n",
       "        True,  True,  True,  True,  True,  True,  True,  True,  True,\n",
       "        True,  True,  True,  True,  True,  True,  True,  True,  True,\n",
       "        True,  True,  True,  True,  True,  True,  True,  True,  True,\n",
       "        True,  True,  True,  True,  True,  True,  True,  True,  True,\n",
       "        True,  True,  True,  True,  True,  True,  True,  True,  True,\n",
       "        True,  True,  True,  True,  True,  True,  True,  True,  True,\n",
       "        True,  True,  True,  True,  True,  True,  True,  True,  True,\n",
       "        True,  True,  True,  True,  True,  True,  True,  True,  True,\n",
       "        True,  True,  True,  True,  True,  True,  True,  True,  True,\n",
       "        True,  True,  True,  True,  True,  True,  True,  True,  True,\n",
       "        True,  True,  True,  True,  True,  True,  True,  True,  True,\n",
       "        True,  True,  True,  True,  True,  True,  True,  True,  True,\n",
       "        True,  True,  True,  True,  True,  True,  True,  True,  True,\n",
       "        True,  True,  True,  True,  True,  True,  True,  True,  True,\n",
       "        True,  True,  True,  True,  True,  True,  True,  True,  True,\n",
       "        True,  True,  True,  True,  True,  True,  True,  True,  True,\n",
       "        True,  True,  True,  True,  True,  True,  True,  True,  True,\n",
       "        True,  True,  True,  True,  True,  True,  True,  True,  True,\n",
       "        True,  True,  True,  True,  True,  True,  True,  True,  True,\n",
       "        True,  True,  True,  True,  True,  True,  True,  True,  True,\n",
       "        True,  True,  True,  True,  True,  True,  True,  True,  True,\n",
       "        True,  True,  True,  True,  True,  True,  True,  True,  True,\n",
       "        True,  True,  True,  True,  True,  True,  True,  True,  True,\n",
       "        True,  True,  True,  True,  True,  True,  True,  True,  True,\n",
       "        True,  True,  True,  True,  True,  True,  True,  True,  True,\n",
       "        True,  True,  True,  True,  True,  True,  True,  True,  True,\n",
       "        True,  True,  True,  True,  True,  True,  True,  True,  True,\n",
       "        True,  True,  True,  True,  True,  True,  True,  True,  True,\n",
       "        True,  True,  True,  True,  True,  True,  True,  True,  True,\n",
       "        True,  True,  True,  True,  True,  True,  True,  True,  True,\n",
       "        True,  True,  True,  True,  True,  True,  True,  True,  True,\n",
       "        True,  True,  True,  True,  True,  True,  True,  True,  True,\n",
       "        True,  True,  True,  True,  True,  True,  True,  True,  True,\n",
       "        True,  True,  True,  True,  True,  True,  True,  True,  True,\n",
       "        True,  True,  True,  True,  True,  True,  True,  True,  True,\n",
       "        True,  True,  True,  True,  True,  True,  True,  True,  True,\n",
       "        True,  True,  True,  True,  True,  True,  True,  True,  True,\n",
       "        True,  True,  True,  True,  True,  True,  True,  True,  True,\n",
       "        True,  True,  True,  True,  True,  True,  True,  True,  True,\n",
       "        True,  True,  True,  True,  True,  True,  True,  True,  True,\n",
       "        True,  True,  True,  True,  True,  True,  True,  True,  True,\n",
       "        True,  True,  True,  True,  True,  True,  True,  True,  True,\n",
       "        True,  True,  True,  True,  True,  True,  True,  True,  True,\n",
       "        True,  True,  True,  True,  True,  True,  True,  True,  True,\n",
       "        True])"
      ]
     },
     "execution_count": 10,
     "metadata": {},
     "output_type": "execute_result"
    }
   ],
   "source": [
    "selection.all()"
   ]
  },
  {
   "cell_type": "code",
   "execution_count": 39,
   "metadata": {},
   "outputs": [
    {
     "data": {
      "text/plain": [
       "<Array [[-2.34, -1.53], [-2.19, 1.33]] type='2 * var * float32'>"
      ]
     },
     "execution_count": 39,
     "metadata": {},
     "output_type": "execute_result"
    }
   ],
   "source": [
    "cluster[np.where(events.nCscRechitClusters3>1)].eta"
   ]
  },
  {
   "cell_type": "code",
   "execution_count": 30,
   "metadata": {},
   "outputs": [
    {
     "data": {
      "text/plain": [
       "<Array [[{n: 2, ... dphi_cluster_MET: 2.38}]] type='2 * var * {\"n\": int32, \"time...'>"
      ]
     },
     "execution_count": 30,
     "metadata": {},
     "output_type": "execute_result"
    }
   ],
   "source": [
    "ak.fill_none(cluster[cut],np.nan)"
   ]
  },
  {
   "cell_type": "code",
   "execution_count": 15,
   "metadata": {},
   "outputs": [
    {
     "data": {
      "text/plain": [
       "<Array [58, 76, 55, 62, ... 55, 111, 53, 73] type='28 * int32'>"
      ]
     },
     "execution_count": 15,
     "metadata": {},
     "output_type": "execute_result"
    }
   ],
   "source": [
    "ak.flatten(cluster[cluster.eta<1.9].size)"
   ]
  },
  {
   "cell_type": "code",
   "execution_count": null,
   "metadata": {},
   "outputs": [],
   "source": []
  }
 ],
 "metadata": {
  "kernelspec": {
   "display_name": "coffeaenv",
   "language": "python",
   "name": "coffeaenv"
  },
  "language_info": {
   "codemirror_mode": {
    "name": "ipython",
    "version": 3
   },
   "file_extension": ".py",
   "mimetype": "text/x-python",
   "name": "python",
   "nbconvert_exporter": "python",
   "pygments_lexer": "ipython3",
   "version": "3.7.6"
  }
 },
 "nbformat": 4,
 "nbformat_minor": 2
}
